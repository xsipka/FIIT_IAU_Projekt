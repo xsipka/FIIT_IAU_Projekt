{
 "cells": [
  {
   "cell_type": "code",
   "execution_count": 1,
   "metadata": {},
   "outputs": [],
   "source": [
    "import matplotlib.pyplot as plt\n",
    "import pylab as py\n",
    "import seaborn as sns\n",
    "import pandas as pd\n",
    "import numpy as np\n",
    "import statsmodels.api as sm\n",
    "import statsmodels.stats as sm_stats\n",
    "import statsmodels.stats.api as sms\n",
    "import scipy.stats as stats"
   ]
  },
  {
   "cell_type": "code",
   "execution_count": 2,
   "metadata": {
    "pycharm": {
     "name": "#%%\n"
    }
   },
   "outputs": [
    {
     "data": {
      "text/html": [
       "<div>\n",
       "<style scoped>\n",
       "    .dataframe tbody tr th:only-of-type {\n",
       "        vertical-align: middle;\n",
       "    }\n",
       "\n",
       "    .dataframe tbody tr th {\n",
       "        vertical-align: top;\n",
       "    }\n",
       "\n",
       "    .dataframe thead th {\n",
       "        text-align: right;\n",
       "    }\n",
       "</style>\n",
       "<table border=\"1\" class=\"dataframe\">\n",
       "  <thead>\n",
       "    <tr style=\"text-align: right;\">\n",
       "      <th></th>\n",
       "      <th>Unnamed: 0</th>\n",
       "      <th>name</th>\n",
       "      <th>address</th>\n",
       "      <th>kurtosis_oxygen</th>\n",
       "      <th>pregnant</th>\n",
       "      <th>education-num</th>\n",
       "      <th>relationship</th>\n",
       "      <th>skewness_glucose</th>\n",
       "      <th>mean_glucose</th>\n",
       "      <th>std_oxygen</th>\n",
       "      <th>capital-gain</th>\n",
       "      <th>skewness_oxygen</th>\n",
       "      <th>kurtosis_glucose</th>\n",
       "      <th>personal_info</th>\n",
       "      <th>education</th>\n",
       "      <th>fnlwgt</th>\n",
       "      <th>class</th>\n",
       "      <th>std_glucose</th>\n",
       "      <th>income</th>\n",
       "      <th>mean_oxygen</th>\n",
       "      <th>hours-per-week</th>\n",
       "      <th>capital-loss</th>\n",
       "    </tr>\n",
       "  </thead>\n",
       "  <tbody>\n",
       "    <tr>\n",
       "      <th>0</th>\n",
       "      <td>0</td>\n",
       "      <td>Christian Gustafson</td>\n",
       "      <td>67834 Kim Plaza Suite 620\\r\\nNew Desiree, KS 8...</td>\n",
       "      <td>6.123066</td>\n",
       "      <td>f</td>\n",
       "      <td>13.0</td>\n",
       "      <td>Not-in-family</td>\n",
       "      <td>-0.015362</td>\n",
       "      <td>141.187500</td>\n",
       "      <td>29.136418</td>\n",
       "      <td>0.0</td>\n",
       "      <td>38.011933</td>\n",
       "      <td>-0.139766</td>\n",
       "      <td>Prof-specialty|United-States\\r\\r\\nNever-marrie...</td>\n",
       "      <td>Bachelors</td>\n",
       "      <td>196912.0</td>\n",
       "      <td>0.0</td>\n",
       "      <td>47.682339</td>\n",
       "      <td>&lt;=50K</td>\n",
       "      <td>5.114548</td>\n",
       "      <td>40.0</td>\n",
       "      <td>0.0</td>\n",
       "    </tr>\n",
       "    <tr>\n",
       "      <th>1</th>\n",
       "      <td>1</td>\n",
       "      <td>Charles Gillespie</td>\n",
       "      <td>62025 Michael Turnpike\\r\\nSouth Stephaniemouth...</td>\n",
       "      <td>9.839099</td>\n",
       "      <td>f</td>\n",
       "      <td>9.0</td>\n",
       "      <td>Husband</td>\n",
       "      <td>0.672588</td>\n",
       "      <td>120.718750</td>\n",
       "      <td>16.569199</td>\n",
       "      <td>0.0</td>\n",
       "      <td>111.269661</td>\n",
       "      <td>0.257893</td>\n",
       "      <td>Other-service|United-States\\r\\r\\nMarried-civ-s...</td>\n",
       "      <td>HS-grad</td>\n",
       "      <td>230136.0</td>\n",
       "      <td>0.0</td>\n",
       "      <td>43.125713</td>\n",
       "      <td>&gt;50K</td>\n",
       "      <td>2.163880</td>\n",
       "      <td>60.0</td>\n",
       "      <td>0.0</td>\n",
       "    </tr>\n",
       "    <tr>\n",
       "      <th>2</th>\n",
       "      <td>2</td>\n",
       "      <td>Milton Dube</td>\n",
       "      <td>91113 Pierce Pass Suite 424\\r\\nPort Alejandrab...</td>\n",
       "      <td>0.237147</td>\n",
       "      <td>f</td>\n",
       "      <td>10.0</td>\n",
       "      <td>Own-child</td>\n",
       "      <td>16.544542</td>\n",
       "      <td>34.640625</td>\n",
       "      <td>65.976393</td>\n",
       "      <td>0.0</td>\n",
       "      <td>-0.338388</td>\n",
       "      <td>3.799229</td>\n",
       "      <td>Sales|United-States\\r\\r\\nNever-married -- Priv...</td>\n",
       "      <td>Some-college</td>\n",
       "      <td>165505.0</td>\n",
       "      <td>1.0</td>\n",
       "      <td>34.898230</td>\n",
       "      <td>&lt;=50K</td>\n",
       "      <td>88.933946</td>\n",
       "      <td>20.0</td>\n",
       "      <td>0.0</td>\n",
       "    </tr>\n",
       "    <tr>\n",
       "      <th>3</th>\n",
       "      <td>3</td>\n",
       "      <td>Roy Paradis</td>\n",
       "      <td>01168 Stark Pine Apt. 583\\r\\nDavidville, IN 32044</td>\n",
       "      <td>9.420978</td>\n",
       "      <td>f</td>\n",
       "      <td>5.0</td>\n",
       "      <td>Not-in-family</td>\n",
       "      <td>-0.877518</td>\n",
       "      <td>136.148438</td>\n",
       "      <td>13.897067</td>\n",
       "      <td>0.0</td>\n",
       "      <td>123.388400</td>\n",
       "      <td>-0.053924</td>\n",
       "      <td>Handlers-cleaners|United-States\\r\\r\\nDivorced ...</td>\n",
       "      <td>9th</td>\n",
       "      <td>215150.0</td>\n",
       "      <td>0.0</td>\n",
       "      <td>61.442566</td>\n",
       "      <td>&lt;=50K</td>\n",
       "      <td>2.379599</td>\n",
       "      <td>50.0</td>\n",
       "      <td>0.0</td>\n",
       "    </tr>\n",
       "    <tr>\n",
       "      <th>4</th>\n",
       "      <td>4</td>\n",
       "      <td>Jonathan Spears</td>\n",
       "      <td>698 Cody Prairie Suite 415\\r\\nPort Jenniferche...</td>\n",
       "      <td>1.395169</td>\n",
       "      <td>f</td>\n",
       "      <td>4.0</td>\n",
       "      <td>Own-child</td>\n",
       "      <td>20.564579</td>\n",
       "      <td>34.914062</td>\n",
       "      <td>60.871138</td>\n",
       "      <td>0.0</td>\n",
       "      <td>1.019152</td>\n",
       "      <td>4.429704</td>\n",
       "      <td>?|United-States\\r\\r\\nDivorced -- ?|White</td>\n",
       "      <td>7th-8th</td>\n",
       "      <td>200819.0</td>\n",
       "      <td>1.0</td>\n",
       "      <td>36.730868</td>\n",
       "      <td>&lt;=50K</td>\n",
       "      <td>74.640468</td>\n",
       "      <td>84.0</td>\n",
       "      <td>0.0</td>\n",
       "    </tr>\n",
       "    <tr>\n",
       "      <th>5</th>\n",
       "      <td>5</td>\n",
       "      <td>Bruce Gaytan</td>\n",
       "      <td>6958 Stewart Port\\r\\nEast Williamstad, AR 01705</td>\n",
       "      <td>7.611175</td>\n",
       "      <td>f</td>\n",
       "      <td>10.0</td>\n",
       "      <td>Husband</td>\n",
       "      <td>-0.193124</td>\n",
       "      <td>136.781250</td>\n",
       "      <td>22.308210</td>\n",
       "      <td>0.0</td>\n",
       "      <td>63.630284</td>\n",
       "      <td>-0.298782</td>\n",
       "      <td>Sales|United-States\\r\\r\\nMarried-civ-spouse --...</td>\n",
       "      <td>Some-college</td>\n",
       "      <td>203836.0</td>\n",
       "      <td>0.0</td>\n",
       "      <td>52.199727</td>\n",
       "      <td>&gt;50K</td>\n",
       "      <td>3.510033</td>\n",
       "      <td>50.0</td>\n",
       "      <td>0.0</td>\n",
       "    </tr>\n",
       "    <tr>\n",
       "      <th>6</th>\n",
       "      <td>6</td>\n",
       "      <td>Terry Corbin</td>\n",
       "      <td>06280 Kimberly Village Apt. 237\\r\\nBentleytown...</td>\n",
       "      <td>14.884448</td>\n",
       "      <td>f</td>\n",
       "      <td>3.0</td>\n",
       "      <td>Husband</td>\n",
       "      <td>-0.175453</td>\n",
       "      <td>123.804688</td>\n",
       "      <td>10.581796</td>\n",
       "      <td>5178.0</td>\n",
       "      <td>299.273578</td>\n",
       "      <td>0.185460</td>\n",
       "      <td>Craft-repair|Puerto-Rico\\r\\r\\nMarried-civ-spou...</td>\n",
       "      <td>5th-6th</td>\n",
       "      <td>195813.0</td>\n",
       "      <td>0.0</td>\n",
       "      <td>49.986101</td>\n",
       "      <td>&gt;50K</td>\n",
       "      <td>1.276756</td>\n",
       "      <td>40.0</td>\n",
       "      <td>0.0</td>\n",
       "    </tr>\n",
       "    <tr>\n",
       "      <th>7</th>\n",
       "      <td>7</td>\n",
       "      <td>Dylan Johnson</td>\n",
       "      <td>4124 Padilla Roads Apt. 390\\r\\nTylermouth, TN ...</td>\n",
       "      <td>7.474734</td>\n",
       "      <td>f</td>\n",
       "      <td>13.0</td>\n",
       "      <td>Not-in-family</td>\n",
       "      <td>-0.669923</td>\n",
       "      <td>123.976562</td>\n",
       "      <td>21.804412</td>\n",
       "      <td>0.0</td>\n",
       "      <td>61.002228</td>\n",
       "      <td>0.132096</td>\n",
       "      <td>Sales|United-States\\r\\r\\nNever-married -- Priv...</td>\n",
       "      <td>Bachelors</td>\n",
       "      <td>293073.0</td>\n",
       "      <td>0.0</td>\n",
       "      <td>55.762256</td>\n",
       "      <td>&gt;50K</td>\n",
       "      <td>3.418896</td>\n",
       "      <td>50.0</td>\n",
       "      <td>0.0</td>\n",
       "    </tr>\n",
       "    <tr>\n",
       "      <th>8</th>\n",
       "      <td>8</td>\n",
       "      <td>Randy Scott</td>\n",
       "      <td>409 Shawn Loop\\r\\nLanefurt, AL 19223</td>\n",
       "      <td>16.107154</td>\n",
       "      <td>f</td>\n",
       "      <td>13.0</td>\n",
       "      <td>Not-in-family</td>\n",
       "      <td>0.635848</td>\n",
       "      <td>110.484375</td>\n",
       "      <td>11.280522</td>\n",
       "      <td>8614.0</td>\n",
       "      <td>292.468010</td>\n",
       "      <td>0.373528</td>\n",
       "      <td>Sales|United-States\\r\\r\\nNever-married -- priv...</td>\n",
       "      <td>Bachelors</td>\n",
       "      <td>109351.0</td>\n",
       "      <td>0.0</td>\n",
       "      <td>45.808362</td>\n",
       "      <td>&gt;50K</td>\n",
       "      <td>0.829431</td>\n",
       "      <td>45.0</td>\n",
       "      <td>0.0</td>\n",
       "    </tr>\n",
       "    <tr>\n",
       "      <th>9</th>\n",
       "      <td>9</td>\n",
       "      <td>Matthew Collins</td>\n",
       "      <td>0366 Kerr Forks Suite 833\\r\\nKimberlyfurt, IA ...</td>\n",
       "      <td>8.957683</td>\n",
       "      <td>f</td>\n",
       "      <td>10.0</td>\n",
       "      <td>Not-in-family</td>\n",
       "      <td>0.328564</td>\n",
       "      <td>142.664062</td>\n",
       "      <td>19.697795</td>\n",
       "      <td>0.0</td>\n",
       "      <td>85.054503</td>\n",
       "      <td>0.159384</td>\n",
       "      <td>Other-service|United-States\\r\\r\\nDivorced -- p...</td>\n",
       "      <td>Some-college</td>\n",
       "      <td>47783.0</td>\n",
       "      <td>0.0</td>\n",
       "      <td>43.986198</td>\n",
       "      <td>&lt;=50K</td>\n",
       "      <td>2.532609</td>\n",
       "      <td>30.0</td>\n",
       "      <td>0.0</td>\n",
       "    </tr>\n",
       "  </tbody>\n",
       "</table>\n",
       "</div>"
      ],
      "text/plain": [
       "   Unnamed: 0                 name  \\\n",
       "0           0  Christian Gustafson   \n",
       "1           1    Charles Gillespie   \n",
       "2           2          Milton Dube   \n",
       "3           3          Roy Paradis   \n",
       "4           4      Jonathan Spears   \n",
       "5           5         Bruce Gaytan   \n",
       "6           6         Terry Corbin   \n",
       "7           7        Dylan Johnson   \n",
       "8           8          Randy Scott   \n",
       "9           9      Matthew Collins   \n",
       "\n",
       "                                             address  kurtosis_oxygen  \\\n",
       "0  67834 Kim Plaza Suite 620\\r\\nNew Desiree, KS 8...         6.123066   \n",
       "1  62025 Michael Turnpike\\r\\nSouth Stephaniemouth...         9.839099   \n",
       "2  91113 Pierce Pass Suite 424\\r\\nPort Alejandrab...         0.237147   \n",
       "3  01168 Stark Pine Apt. 583\\r\\nDavidville, IN 32044         9.420978   \n",
       "4  698 Cody Prairie Suite 415\\r\\nPort Jenniferche...         1.395169   \n",
       "5    6958 Stewart Port\\r\\nEast Williamstad, AR 01705         7.611175   \n",
       "6  06280 Kimberly Village Apt. 237\\r\\nBentleytown...        14.884448   \n",
       "7  4124 Padilla Roads Apt. 390\\r\\nTylermouth, TN ...         7.474734   \n",
       "8               409 Shawn Loop\\r\\nLanefurt, AL 19223        16.107154   \n",
       "9  0366 Kerr Forks Suite 833\\r\\nKimberlyfurt, IA ...         8.957683   \n",
       "\n",
       "  pregnant  education-num    relationship  skewness_glucose  mean_glucose  \\\n",
       "0        f           13.0   Not-in-family         -0.015362    141.187500   \n",
       "1        f            9.0         Husband          0.672588    120.718750   \n",
       "2        f           10.0       Own-child         16.544542     34.640625   \n",
       "3        f            5.0   Not-in-family         -0.877518    136.148438   \n",
       "4        f            4.0       Own-child         20.564579     34.914062   \n",
       "5        f           10.0         Husband         -0.193124    136.781250   \n",
       "6        f            3.0         Husband         -0.175453    123.804688   \n",
       "7        f           13.0   Not-in-family         -0.669923    123.976562   \n",
       "8        f           13.0   Not-in-family          0.635848    110.484375   \n",
       "9        f           10.0   Not-in-family          0.328564    142.664062   \n",
       "\n",
       "   std_oxygen  capital-gain  skewness_oxygen  kurtosis_glucose  \\\n",
       "0   29.136418           0.0        38.011933         -0.139766   \n",
       "1   16.569199           0.0       111.269661          0.257893   \n",
       "2   65.976393           0.0        -0.338388          3.799229   \n",
       "3   13.897067           0.0       123.388400         -0.053924   \n",
       "4   60.871138           0.0         1.019152          4.429704   \n",
       "5   22.308210           0.0        63.630284         -0.298782   \n",
       "6   10.581796        5178.0       299.273578          0.185460   \n",
       "7   21.804412           0.0        61.002228          0.132096   \n",
       "8   11.280522        8614.0       292.468010          0.373528   \n",
       "9   19.697795           0.0        85.054503          0.159384   \n",
       "\n",
       "                                       personal_info      education    fnlwgt  \\\n",
       "0  Prof-specialty|United-States\\r\\r\\nNever-marrie...      Bachelors  196912.0   \n",
       "1  Other-service|United-States\\r\\r\\nMarried-civ-s...        HS-grad  230136.0   \n",
       "2  Sales|United-States\\r\\r\\nNever-married -- Priv...   Some-college  165505.0   \n",
       "3  Handlers-cleaners|United-States\\r\\r\\nDivorced ...            9th  215150.0   \n",
       "4           ?|United-States\\r\\r\\nDivorced -- ?|White        7th-8th  200819.0   \n",
       "5  Sales|United-States\\r\\r\\nMarried-civ-spouse --...   Some-college  203836.0   \n",
       "6  Craft-repair|Puerto-Rico\\r\\r\\nMarried-civ-spou...        5th-6th  195813.0   \n",
       "7  Sales|United-States\\r\\r\\nNever-married -- Priv...      Bachelors  293073.0   \n",
       "8  Sales|United-States\\r\\r\\nNever-married -- priv...      Bachelors  109351.0   \n",
       "9  Other-service|United-States\\r\\r\\nDivorced -- p...   Some-college   47783.0   \n",
       "\n",
       "   class  std_glucose  income  mean_oxygen  hours-per-week  capital-loss  \n",
       "0    0.0    47.682339   <=50K     5.114548            40.0           0.0  \n",
       "1    0.0    43.125713    >50K     2.163880            60.0           0.0  \n",
       "2    1.0    34.898230   <=50K    88.933946            20.0           0.0  \n",
       "3    0.0    61.442566   <=50K     2.379599            50.0           0.0  \n",
       "4    1.0    36.730868   <=50K    74.640468            84.0           0.0  \n",
       "5    0.0    52.199727    >50K     3.510033            50.0           0.0  \n",
       "6    0.0    49.986101    >50K     1.276756            40.0           0.0  \n",
       "7    0.0    55.762256    >50K     3.418896            50.0           0.0  \n",
       "8    0.0    45.808362    >50K     0.829431            45.0           0.0  \n",
       "9    0.0    43.986198   <=50K     2.532609            30.0           0.0  "
      ]
     },
     "execution_count": 2,
     "metadata": {},
     "output_type": "execute_result"
    }
   ],
   "source": [
    "file = \"dataset/other_train.csv\"\n",
    "medical_data = pd.read_csv(file)\n",
    "\n",
    "file = \"dataset/personal_train.csv\"\n",
    "personal_data = pd.read_csv(file)\n",
    "\n",
    "pd.set_option(\"display.max_columns\", None) # pd.reset_option(\"max_columns\")\n",
    "medical_data.head(10)"
   ]
  },
  {
   "cell_type": "code",
   "execution_count": 3,
   "metadata": {
    "pycharm": {
     "name": "#%%\n"
    }
   },
   "outputs": [
    {
     "name": "stdout",
     "output_type": "stream",
     "text": [
      "<class 'pandas.core.frame.DataFrame'>\n",
      "RangeIndex: 3983 entries, 0 to 3982\n",
      "Data columns (total 22 columns):\n",
      " #   Column            Non-Null Count  Dtype  \n",
      "---  ------            --------------  -----  \n",
      " 0   Unnamed: 0        3983 non-null   int64  \n",
      " 1   name              3983 non-null   object \n",
      " 2   address           3983 non-null   object \n",
      " 3   kurtosis_oxygen   3974 non-null   float64\n",
      " 4   pregnant          3971 non-null   object \n",
      " 5   education-num     3579 non-null   float64\n",
      " 6   relationship      3961 non-null   object \n",
      " 7   skewness_glucose  3965 non-null   float64\n",
      " 8   mean_glucose      3963 non-null   float64\n",
      " 9   std_oxygen        3967 non-null   float64\n",
      " 10  capital-gain      3969 non-null   float64\n",
      " 11  skewness_oxygen   3975 non-null   float64\n",
      " 12  kurtosis_glucose  3968 non-null   float64\n",
      " 13  personal_info     3974 non-null   object \n",
      " 14  education         3971 non-null   object \n",
      " 15  fnlwgt            3967 non-null   float64\n",
      " 16  class             3962 non-null   float64\n",
      " 17  std_glucose       3968 non-null   float64\n",
      " 18  income            3969 non-null   object \n",
      " 19  mean_oxygen       3971 non-null   float64\n",
      " 20  hours-per-week    3970 non-null   float64\n",
      " 21  capital-loss      3970 non-null   float64\n",
      "dtypes: float64(14), int64(1), object(7)\n",
      "memory usage: 575.7+ KB\n"
     ]
    }
   ],
   "source": [
    "# basic info about dataset\n",
    "medical_data.info()"
   ]
  },
  {
   "cell_type": "code",
   "execution_count": null,
   "outputs": [],
   "source": [
    "personal_data.info()"
   ],
   "metadata": {
    "collapsed": false,
    "pycharm": {
     "name": "#%%\n"
    }
   }
  },
  {
   "cell_type": "code",
   "execution_count": 31,
   "metadata": {
    "pycharm": {
     "name": "#%%\n"
    }
   },
   "outputs": [
    {
     "data": {
      "text/html": [
       "<div>\n",
       "<style scoped>\n",
       "    .dataframe tbody tr th:only-of-type {\n",
       "        vertical-align: middle;\n",
       "    }\n",
       "\n",
       "    .dataframe tbody tr th {\n",
       "        vertical-align: top;\n",
       "    }\n",
       "\n",
       "    .dataframe thead th {\n",
       "        text-align: right;\n",
       "    }\n",
       "</style>\n",
       "<table border=\"1\" class=\"dataframe\">\n",
       "  <thead>\n",
       "    <tr style=\"text-align: right;\">\n",
       "      <th></th>\n",
       "      <th>Unnamed: 0</th>\n",
       "      <th>kurtosis_oxygen</th>\n",
       "      <th>education-num</th>\n",
       "      <th>skewness_glucose</th>\n",
       "      <th>mean_glucose</th>\n",
       "      <th>std_oxygen</th>\n",
       "      <th>capital-gain</th>\n",
       "      <th>skewness_oxygen</th>\n",
       "      <th>kurtosis_glucose</th>\n",
       "      <th>fnlwgt</th>\n",
       "      <th>class</th>\n",
       "      <th>std_glucose</th>\n",
       "      <th>mean_oxygen</th>\n",
       "      <th>hours-per-week</th>\n",
       "      <th>capital-loss</th>\n",
       "    </tr>\n",
       "  </thead>\n",
       "  <tbody>\n",
       "    <tr>\n",
       "      <th>count</th>\n",
       "      <td>3983.00000</td>\n",
       "      <td>3974.000000</td>\n",
       "      <td>3579.000000</td>\n",
       "      <td>3965.000000</td>\n",
       "      <td>3963.000000</td>\n",
       "      <td>3967.000000</td>\n",
       "      <td>3969.000000</td>\n",
       "      <td>3975.000000</td>\n",
       "      <td>3968.000000</td>\n",
       "      <td>3967.000000</td>\n",
       "      <td>3962.000000</td>\n",
       "      <td>3968.000000</td>\n",
       "      <td>3971.000000</td>\n",
       "      <td>3970.000000</td>\n",
       "      <td>3970.000000</td>\n",
       "    </tr>\n",
       "    <tr>\n",
       "      <th>mean</th>\n",
       "      <td>1991.00000</td>\n",
       "      <td>7.416322</td>\n",
       "      <td>12.547080</td>\n",
       "      <td>4.199644</td>\n",
       "      <td>101.295505</td>\n",
       "      <td>31.109754</td>\n",
       "      <td>1001.580751</td>\n",
       "      <td>91.371858</td>\n",
       "      <td>0.949064</td>\n",
       "      <td>189412.756995</td>\n",
       "      <td>0.254922</td>\n",
       "      <td>45.176099</td>\n",
       "      <td>18.421711</td>\n",
       "      <td>40.306549</td>\n",
       "      <td>85.335264</td>\n",
       "    </tr>\n",
       "    <tr>\n",
       "      <th>std</th>\n",
       "      <td>1149.93739</td>\n",
       "      <td>4.803833</td>\n",
       "      <td>322.343903</td>\n",
       "      <td>9.663219</td>\n",
       "      <td>33.546001</td>\n",
       "      <td>22.228906</td>\n",
       "      <td>6799.385942</td>\n",
       "      <td>108.339309</td>\n",
       "      <td>1.608717</td>\n",
       "      <td>102953.580337</td>\n",
       "      <td>0.435872</td>\n",
       "      <td>7.596572</td>\n",
       "      <td>34.713003</td>\n",
       "      <td>12.349879</td>\n",
       "      <td>402.217959</td>\n",
       "    </tr>\n",
       "    <tr>\n",
       "      <th>min</th>\n",
       "      <td>0.00000</td>\n",
       "      <td>-2.597872</td>\n",
       "      <td>-1600.000000</td>\n",
       "      <td>-1.755332</td>\n",
       "      <td>6.187500</td>\n",
       "      <td>7.370432</td>\n",
       "      <td>0.000000</td>\n",
       "      <td>-1.976976</td>\n",
       "      <td>-1.641515</td>\n",
       "      <td>19214.000000</td>\n",
       "      <td>0.000000</td>\n",
       "      <td>25.695250</td>\n",
       "      <td>0.213211</td>\n",
       "      <td>1.000000</td>\n",
       "      <td>0.000000</td>\n",
       "    </tr>\n",
       "    <tr>\n",
       "      <th>25%</th>\n",
       "      <td>995.50000</td>\n",
       "      <td>3.667526</td>\n",
       "      <td>9.000000</td>\n",
       "      <td>-0.119347</td>\n",
       "      <td>87.757812</td>\n",
       "      <td>15.032694</td>\n",
       "      <td>0.000000</td>\n",
       "      <td>13.074440</td>\n",
       "      <td>0.071484</td>\n",
       "      <td>117833.000000</td>\n",
       "      <td>0.000000</td>\n",
       "      <td>40.183354</td>\n",
       "      <td>2.067308</td>\n",
       "      <td>40.000000</td>\n",
       "      <td>0.000000</td>\n",
       "    </tr>\n",
       "    <tr>\n",
       "      <th>50%</th>\n",
       "      <td>1991.00000</td>\n",
       "      <td>7.780968</td>\n",
       "      <td>10.000000</td>\n",
       "      <td>0.371808</td>\n",
       "      <td>110.664062</td>\n",
       "      <td>20.554648</td>\n",
       "      <td>0.000000</td>\n",
       "      <td>68.629714</td>\n",
       "      <td>0.310279</td>\n",
       "      <td>180869.000000</td>\n",
       "      <td>0.000000</td>\n",
       "      <td>45.888203</td>\n",
       "      <td>3.237458</td>\n",
       "      <td>40.000000</td>\n",
       "      <td>0.000000</td>\n",
       "    </tr>\n",
       "    <tr>\n",
       "      <th>75%</th>\n",
       "      <td>2986.50000</td>\n",
       "      <td>10.260954</td>\n",
       "      <td>13.000000</td>\n",
       "      <td>2.078418</td>\n",
       "      <td>124.140625</td>\n",
       "      <td>43.052135</td>\n",
       "      <td>0.000000</td>\n",
       "      <td>126.954629</td>\n",
       "      <td>0.775953</td>\n",
       "      <td>235405.000000</td>\n",
       "      <td>1.000000</td>\n",
       "      <td>50.357111</td>\n",
       "      <td>12.604515</td>\n",
       "      <td>45.000000</td>\n",
       "      <td>0.000000</td>\n",
       "    </tr>\n",
       "    <tr>\n",
       "      <th>max</th>\n",
       "      <td>3982.00000</td>\n",
       "      <td>34.539844</td>\n",
       "      <td>1600.000000</td>\n",
       "      <td>68.101622</td>\n",
       "      <td>189.734375</td>\n",
       "      <td>110.642211</td>\n",
       "      <td>99999.000000</td>\n",
       "      <td>1191.000837</td>\n",
       "      <td>8.069522</td>\n",
       "      <td>755858.000000</td>\n",
       "      <td>1.000000</td>\n",
       "      <td>91.206475</td>\n",
       "      <td>217.371238</td>\n",
       "      <td>99.000000</td>\n",
       "      <td>4356.000000</td>\n",
       "    </tr>\n",
       "  </tbody>\n",
       "</table>\n",
       "</div>"
      ],
      "text/plain": [
       "       Unnamed: 0  kurtosis_oxygen  education-num  skewness_glucose  \\\n",
       "count  3983.00000      3974.000000    3579.000000       3965.000000   \n",
       "mean   1991.00000         7.416322      12.547080          4.199644   \n",
       "std    1149.93739         4.803833     322.343903          9.663219   \n",
       "min       0.00000        -2.597872   -1600.000000         -1.755332   \n",
       "25%     995.50000         3.667526       9.000000         -0.119347   \n",
       "50%    1991.00000         7.780968      10.000000          0.371808   \n",
       "75%    2986.50000        10.260954      13.000000          2.078418   \n",
       "max    3982.00000        34.539844    1600.000000         68.101622   \n",
       "\n",
       "       mean_glucose   std_oxygen  capital-gain  skewness_oxygen  \\\n",
       "count   3963.000000  3967.000000   3969.000000      3975.000000   \n",
       "mean     101.295505    31.109754   1001.580751        91.371858   \n",
       "std       33.546001    22.228906   6799.385942       108.339309   \n",
       "min        6.187500     7.370432      0.000000        -1.976976   \n",
       "25%       87.757812    15.032694      0.000000        13.074440   \n",
       "50%      110.664062    20.554648      0.000000        68.629714   \n",
       "75%      124.140625    43.052135      0.000000       126.954629   \n",
       "max      189.734375   110.642211  99999.000000      1191.000837   \n",
       "\n",
       "       kurtosis_glucose         fnlwgt        class  std_glucose  mean_oxygen  \\\n",
       "count       3968.000000    3967.000000  3962.000000  3968.000000  3971.000000   \n",
       "mean           0.949064  189412.756995     0.254922    45.176099    18.421711   \n",
       "std            1.608717  102953.580337     0.435872     7.596572    34.713003   \n",
       "min           -1.641515   19214.000000     0.000000    25.695250     0.213211   \n",
       "25%            0.071484  117833.000000     0.000000    40.183354     2.067308   \n",
       "50%            0.310279  180869.000000     0.000000    45.888203     3.237458   \n",
       "75%            0.775953  235405.000000     1.000000    50.357111    12.604515   \n",
       "max            8.069522  755858.000000     1.000000    91.206475   217.371238   \n",
       "\n",
       "       hours-per-week  capital-loss  \n",
       "count     3970.000000   3970.000000  \n",
       "mean        40.306549     85.335264  \n",
       "std         12.349879    402.217959  \n",
       "min          1.000000      0.000000  \n",
       "25%         40.000000      0.000000  \n",
       "50%         40.000000      0.000000  \n",
       "75%         45.000000      0.000000  \n",
       "max         99.000000   4356.000000  "
      ]
     },
     "execution_count": 31,
     "metadata": {},
     "output_type": "execute_result"
    }
   ],
   "source": [
    "# mean, median, standard deviation ...\n",
    "medical_data.describe()"
   ]
  },
  {
   "cell_type": "code",
   "execution_count": 5,
   "metadata": {
    "collapsed": true,
    "pycharm": {
     "name": "#%%\n"
    }
   },
   "outputs": [
    {
     "name": "stdout",
     "output_type": "stream",
     "text": [
      "ModeResult(mode=array([87.03125]), count=array([4]))\n",
      "ModeResult(mode=array([2.1187291]), count=array([5]))\n"
     ]
    }
   ],
   "source": [
    "# mode\n",
    "print(stats.mode(medical_data[\"mean_glucose\"]))\n",
    "print(stats.mode(medical_data[\"mean_oxygen\"]))"
   ]
  },
  {
   "cell_type": "code",
   "execution_count": 6,
   "metadata": {
    "collapsed": true,
    "pycharm": {
     "name": "#%%\n"
    }
   },
   "outputs": [
    {
     "name": "stdout",
     "output_type": "stream",
     "text": [
      "1125.0502299640254\n",
      "1204.6891359283454\n"
     ]
    }
   ],
   "source": [
    "# variance\n",
    "print(np.var(medical_data[\"mean_glucose\"]))\n",
    "print(np.var(medical_data[\"mean_oxygen\"]))"
   ]
  },
  {
   "cell_type": "code",
   "execution_count": 43,
   "metadata": {
    "pycharm": {
     "name": "#%%\n"
    }
   },
   "outputs": [
    {
     "data": {
      "text/plain": [
       "<AxesSubplot:xlabel='mean_glucose'>"
      ]
     },
     "execution_count": 43,
     "metadata": {},
     "output_type": "execute_result"
    },
    {
     "data": {
      "image/png": "[encoded data removed]",
      "text/plain": [
       "<Figure size 432x288 with 1 Axes>"
      ]
     },
     "metadata": {
      "needs_background": "light"
     },
     "output_type": "display_data"
    }
   ],
   "source": [
    "sns.boxplot(data = medical_data, x = \"mean_glucose\")"
   ]
  },
  {
   "cell_type": "code",
   "execution_count": 42,
   "metadata": {
    "pycharm": {
     "name": "#%%\n"
    }
   },
   "outputs": [
    {
     "data": {
      "text/plain": [
       "<AxesSubplot:xlabel='mean_oxygen'>"
      ]
     },
     "execution_count": 42,
     "metadata": {},
     "output_type": "execute_result"
    },
    {
     "data": {
      "image/png": "[encoded data removed]",
      "text/plain": [
       "<Figure size 432x288 with 1 Axes>"
      ]
     },
     "metadata": {
      "needs_background": "light"
     },
     "output_type": "display_data"
    }
   ],
   "source": [
    "sns.boxplot(data = medical_data, x = \"mean_oxygen\")"
   ]
  },
  {
   "cell_type": "markdown",
   "metadata": {
    "pycharm": {
     "name": "#%% md\n"
    }
   },
   "source": [
    "## Základný opis dát a ich charakteristika\n",
    "\n",
    "Súbor personal_train.cvs\n",
    "- 3933 záznamov\n",
    "- 6 stĺpcov:\n",
    "    - Unnamed: 0 (číslo riadku) - integer\n",
    "    - name (meno) - object/string\n",
    "    - address (adresa) - object/string\n",
    "    - age (vek) - integer\n",
    "    - sex (pohlavie) - object/string\n",
    "    - date_of_birth (dátum narodenia) - object/string\n",
    "\n",
    "Súbor other_train.cvs\n",
    "- 3983 záznamov\n",
    "- 22 stĺpcov:\n",
    "    - Unnamed: 0 (číslo riadku) - integer\n",
    "    - name (meno) - object/string\n",
    "    - address (adresa) - object/string\n",
    "    - kurtosis_oxygen (koeficient špicatosti pre hladinu kyslíka v krvi) - float\n",
    "    - pregnant (tehotný) - object/string\n",
    "    - education-num - float\n",
    "    - relationship - object/string\n",
    "    - skewness_glucose (koeficient asymetrie pre hladinu cukru v krvi) - float\n",
    "    - mean_glucose (priemerná hladina cukru v krvi) - float\n",
    "    - std_oxygen (štandardná odchýlka pre hladinu kyslíka v krvi) - float\n",
    "    - capital-gain - float\n",
    "    - skewness_oxygen (koeficient asymetrie pre hladinu kyslíka v krvi) - float\n",
    "    - kurtosis_glucose (koeficient špicatosti pre hladinu cukru v krvi) - float\n",
    "    - personal_info (osobné údaje) - object/string\n",
    "    - education (dosiahnuté vzdelanie) - object/string\n",
    "    - fnlwgt - float\n",
    "    - class (prítomnosť ochorenia) - float\n",
    "    - std_glucose (štandardná odchýlka pre hladinu cukru v krvi) - float\n",
    "    - income (ročný príjem) - object/string\n",
    "    - mean_oxygen (priemerná hladina kyslíka v krvi) - float\n",
    "    - hours-per-week - float\n",
    "    - capital-loss - float\n",
    "\n",
    "štatistické údaje pre priemernú hladinu cukru v krvi:\n",
    "- priemer = 101.295\n",
    "- medián = 110.664\n",
    "- smerodajná odchýlka = 33.546\n",
    "- variancia = 1125.050\n",
    "\n",
    "štatistické údaje pre priemernú hladinu kyslíka v krvi\n",
    "- priemer = 18.421\n",
    "- medián = 3.237\n",
    "- smerodajná odchýlka = 34.713\n",
    "- variancia = 1204.689"
   ]
  },
  {
   "cell_type": "markdown",
   "metadata": {
    "pycharm": {
     "name": "#%% md\n"
    }
   },
   "source": [
    "## Identifikácia problémov v dátach\n",
    "\n",
    "V momentálnom stave dáta nie sú vhodné na ďalšie spracovanie, vyskytujú sa v nich problémy, ktoré nám v tom bránia.\n",
    "V tejto časti dané problémy identifikujeme a navrhneme ich riešenie.\n",
    "\n",
    "Duplicitné záznamy sa nevyskytujú ani v jednom dátovom sete, každý záznam je určený pre jedného špecifického človeka.\n",
    "Dáta sú v oboch setoch v tabuľkovej podobe a mená stĺpcov sú až na dve výnimky dostatočne opisujúce. Stĺpec \"fnlwgt\"\n",
    "by nemal byť pomenovaný v skratkovej podobe, keďže všetky ostatné stĺpce majú neskratkové pomenovanie. Bolo by vhodné\n",
    "premenovať ho na \"final_weight\". Stĺpec \"class\" bude taktiež nutné premenovať, z dôvodu, že je to rezervovaný keyword\n",
    "v Pythone. Tiež by bolo vhodné zmeniť jeho dátový typ z float na bool, keďže v ňom nastávajú len hodnoty 1 a 0.\n",
    "\n",
    "Oba sety obsahujú stĺpec \"Unnamed: 0\", ktorý symbolizuje poradie riadkov v tabuľke. Na čísla riadkov nie je nutné\n",
    "mať špecifický stĺpec, túto možnosť poskytuje knižnica pandas automaticky. V prípade, že by došlo k zmene poradia\n",
    "záznamov, bolo by taktiež nutné meniť hodnoty v tomto stĺpci, čo je vlastne zbytočné, lebo pandas vypíše poradové\n",
    "číslo správne, aj bez nášho zásahu. Z každého setu môžeme teda celý stĺpec \"Unnamed: 0\" odstrániť.\n",
    "\n",
    "Hodnoty v stĺpci \"education-num\" odkazujú na hodnoty v stĺpci \"education\", čiže celý stĺpec \"education-num\" nám podáva\n",
    "rovnakú informáciu ako stĺpec \"education\". Z tohto dôvodu ho môžeme z dátového setu odstrániť. Ak by sme toto nechceli\n",
    "spraviť, tak je nutné niektoré hodnoty upraviť, pretože sú chybné a majú pripísané nuly navyše. Unikátných hodnôt v\n",
    "\"education\" je 16, takže stĺpec \"education-num\" by ich mal obsahovať rovnako.\n",
    "\n",
    "Taktiež pri stĺpcoch, ktoré majú len celočíselné hodnoty (capital-gain, fnlwgt, hours-per-week, capital-loss)\n",
    "by bolo vhodné zmeniť dátový typ z float na integer."
   ]
  },
  {
   "cell_type": "code",
   "execution_count": 9,
   "metadata": {
    "collapsed": true,
    "pycharm": {
     "name": "#%%\n"
    }
   },
   "outputs": [
    {
     "data": {
      "text/plain": [
       "array(['f', 'FALSE', 'F', 'TRUE', 'T', 't', nan], dtype=object)"
      ]
     },
     "execution_count": 9,
     "metadata": {},
     "output_type": "execute_result"
    }
   ],
   "source": [
    "medical_data.pregnant.unique()"
   ]
  },
  {
   "cell_type": "markdown",
   "metadata": {
    "pycharm": {
     "name": "#%% md\n"
    }
   },
   "source": [
    "Na určenie tehotenstva je použitých zbytočne veľa hodnôt ('f', 'FALSE', 'F', 'TRUE', 'T', 't', nan), ktoré symbolizujú\n",
    "len dva stavy (nerátajúc 'NaN' hodnoty, ktoré sú prázdne). Bude nutné niektoré z nich premenovať, a používať len znaky\n",
    "T a F (alebo 1 a 0), prípadne zmeniť dátový typ celého stĺpca na bool."
   ]
  },
  {
   "cell_type": "code",
   "execution_count": 10,
   "metadata": {
    "collapsed": true,
    "pycharm": {
     "name": "#%%\n"
    }
   },
   "outputs": [
    {
     "data": {
      "text/plain": [
       "Unnamed: 0            0\n",
       "name                  0\n",
       "address               0\n",
       "kurtosis_oxygen       9\n",
       "pregnant             12\n",
       "education-num       404\n",
       "relationship         22\n",
       "skewness_glucose     18\n",
       "mean_glucose         20\n",
       "std_oxygen           16\n",
       "capital-gain         14\n",
       "skewness_oxygen       8\n",
       "kurtosis_glucose     15\n",
       "personal_info         9\n",
       "education            12\n",
       "fnlwgt               16\n",
       "class                21\n",
       "std_glucose          15\n",
       "income               14\n",
       "mean_oxygen          12\n",
       "hours-per-week       13\n",
       "capital-loss         13\n",
       "dtype: int64"
      ]
     },
     "execution_count": 10,
     "metadata": {},
     "output_type": "execute_result"
    }
   ],
   "source": [
    "medical_data.isnull().sum()"
   ]
  },
  {
   "cell_type": "markdown",
   "metadata": {
    "pycharm": {
     "name": "#%% md\n"
    }
   },
   "source": [
    "V súbore other_train.cvs sa vyskytujú záznamy, kde majú niektoré stĺpce chýbajúcu hodnotu reprezentovanú stavom NaN.\n",
    "Ak sa nulová hodnota vyskytuje v dole uvedených stĺpcoch, nejde o príliš závažný problém, keďže tie stĺpce neobsahujú\n",
    "pre nás dôležité informácie. Dané hodnoty môžeme nechať naďalej prázdne, keďže sa zväčša jedná o údaje, ktorých hodnotu\n",
    "nevieme predpokladať, takže sa nedá doplniť. Ak pri ďalšej práci narazíme na záznam, kde bude v stĺpci, ktorý potrebuje\n",
    "použiť, nulová hodnota, tak daný záznam jednoducho nezarátame.\n",
    "\n",
    "Ďalšie z možných riešení je na miesto chýbajúcej hodnoty doplniť priemer, alebo medián. Toto je vhodné použiť v prípadoch,\n",
    "kde hodnotu nevieme predpokladať. Samozrejme, dá sa to len pri číselných údajoch, ak sa jedná o dáta iného typu, je nutné\n",
    "použiť najčastejšie vyskytujúcu sa hodnotu.\n",
    "\n",
    "Stĺpce, kde môžeme nulovú hodnotu ignorovať:\n",
    "- pregnant\n",
    "- education-num\n",
    "- relationship\n",
    "- capital-gain\n",
    "- personal_info\n",
    "- education\n",
    "- fnlwgt\n",
    "- income\n",
    "- hours-per-week\n",
    "- capital-loss\n",
    "\n",
    "V nasledujúcich stĺpcoch predstavuje chýbajúca hodnota vážnejší problém, keďže sa jedná o stĺpce, ktoré budú pre\n",
    "nastávajúcu prácu podstatnejšie. V tomto prípade by bolo možné v niektorých prípadoch chýbajúce hodnoty doplniť.\n",
    "Môžeme porovnať vybrané neprázdne stĺpce s neprázdnymi stĺpcami ostatných záznamov. Ak v inom zázname nájdeme podobné\n",
    "hodnoty, dá sa predpokladať, že chýbajúca hodnota pôvodného záznamu, bude podobná tej v nájdenom. Samozrejme, táto\n",
    "hodnota nebude 100% presná, preto je nutné brať ju s rezervou. Toto je možné len v prípadoch, keď k stĺpcu s chýbajucou\n",
    "hodnotou, vieme priradiť stĺpec, ktorých hodnoty spolu súvisia.\n",
    "\n",
    "Stĺpce, kde môžeme predpokladať hodnotu chýbajúcich údajov:\n",
    "- kurtosis_oxygen\n",
    "- skewness_glucose\n",
    "- mean_glucose\n",
    "- std_oxygen\n",
    "- skewness_oxygen\n",
    "- kurtosis_glucose\n",
    "- class\n",
    "- std_glucose\n",
    "- mean_oxygen"
   ]
  },
  {
   "cell_type": "code",
   "execution_count": 44,
   "metadata": {},
   "outputs": [
    {
     "data": {
      "text/plain": [
       "<seaborn.axisgrid.FacetGrid at 0x181b8f10>"
      ]
     },
     "execution_count": 44,
     "metadata": {},
     "output_type": "execute_result"
    },
    {
     "data": {
      "image/png": "[encoded data removed]",
      "text/plain": [
       "<Figure size 360x360 with 1 Axes>"
      ]
     },
     "metadata": {
      "needs_background": "light"
     },
     "output_type": "display_data"
    }
   ],
   "source": [
    "sns.displot(medical_data, x = \"mean_oxygen\")"
   ]
  },
  {
   "cell_type": "markdown",
   "metadata": {
    "pycharm": {
     "name": "#%% md\n"
    }
   },
   "source": [
    "Ako môžeme v hore uvedenom grafe vidieť, stĺpec \"mean_oxygen\" v niektorých záznamoch nadobúda výrazne vychýlené hodnoty.\n",
    "Daný problém nemôžeme vyriešiť spôsobom, kde vychýleným hodnotám pripíšeme hodnotu priemeru, keďže extrémne vysoké (alebo\n",
    "aj nízke) hodnoty výsledný priemer ovplyvňujú. V tomto prípade je vhodné použiť medián, ktorý takýmito hodnotami zväčša\n",
    "ovplyvnený nebýva. Takto sa môžeme vysporiadať so všetkými záznamami, ktoré budú obsahovať výrazne vychýlené hodnoty.\n",
    "Iným riešením by bolo vyrátať priemer všetkých záznamov, kde je ich hodnota v norme, a priradiť ho vychýleným hodnotám.\n",
    "Na zistenie vychýlenej hodnoty nemusíme používať len grafy, funkcia describe() nám ukáže všetky dôležité štatistické\n",
    "údaje. Ak je maximum/minimum výrazne väčšie ako horný/dolný kvartil, dá sa predpokladať, že niektoré hodnoty sú vychýlené."
   ]
  }
 ],
 "metadata": {
  "kernelspec": {
   "display_name": "Python 3",
   "language": "python",
   "name": "python3"
  },
  "language_info": {
   "codemirror_mode": {
    "name": "ipython",
    "version": 3
   },
   "file_extension": ".py",
   "mimetype": "text/x-python",
   "name": "python",
   "nbconvert_exporter": "python",
   "pygments_lexer": "ipython3",
   "version": "3.7.0"
  }
 },
 "nbformat": 4,
 "nbformat_minor": 1
}