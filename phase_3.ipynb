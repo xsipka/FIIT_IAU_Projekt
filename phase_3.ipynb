{
 "cells": [
  {
   "cell_type": "code",
   "execution_count": 1,
   "metadata": {
    "pycharm": {
     "is_executing": true,
     "name": "#%%\n"
    }
   },
   "outputs": [],
   "source": [
    "import pandas as pd\n",
    "import numpy as np\n",
    "import matplotlib.pyplot as plt\n",
    "import seaborn as sns\n",
    "import preprocessing\n",
    "from sklearn.tree import DecisionTreeClassifier"
   ]
  },
  {
   "cell_type": "markdown",
   "metadata": {
    "pycharm": {
     "name": "#%% md\n"
    }
   },
   "source": [
    "## Predspracovanie datasetov\n",
    "\n",
    "Na predspracovanie oboch datasetov bolo nutné premiestniť všetky potrebné funkcie a triedy, vytvorené v predchádzajúcej\n",
    "fáze projektu do novovytvoreného súboru preprocessing.py. V danom súbore sme vytvorili funkciu, ktorá ako argument berie\n",
    ".csv súbory pre osobné a aj medicínske dáta, spojí ich do jedného datasetu, ktorý následne upraví pomocou našej\n",
    "pipeline. Po predspracovaní nám vráti upravený dataset, s ktorým už môžeme ďalej pracovať. Túto funkciu zavoláme pre\n",
    "trénovací, ako aj validačný dataset.\n",
    "\n",
    "Ako môžeme nižšie vidieť, proces predspracovania prebehol správne, oba datasety obsahujú rovnaké atribúty, majú všade\n",
    "len jeden dátový typ a sú bez akýchkoľvek chýbajúcich hodnôt."
   ]
  },
  {
   "cell_type": "code",
   "execution_count": 2,
   "metadata": {
    "pycharm": {
     "name": "#%%\n"
    }
   },
   "outputs": [
    {
     "name": "stdout",
     "output_type": "stream",
     "text": [
      "Median stlpca education-num 10.0\n",
      "Median stlpca capital-gain 0.0\n",
      "Median stlpca age 52.0\n",
      "Median stlpca pregnant 0.0\n",
      "Median stlpca hours-per-week 40.0\n",
      "Median stlpca capital-loss 0.0\n",
      "<class 'pandas.core.frame.DataFrame'>\n",
      "RangeIndex: 3924 entries, 0 to 3923\n",
      "Data columns (total 17 columns):\n",
      " #   Column             Non-Null Count  Dtype  \n",
      "---  ------             --------------  -----  \n",
      " 0   age                3924 non-null   float64\n",
      " 1   sex                3924 non-null   float64\n",
      " 2   kurtosis_oxygen    3924 non-null   float64\n",
      " 3   pregnant           3924 non-null   float64\n",
      " 4   education-num      3924 non-null   float64\n",
      " 5   skewness_glucose   3924 non-null   float64\n",
      " 6   mean_glucose       3924 non-null   float64\n",
      " 7   std_oxygen         3924 non-null   float64\n",
      " 8   capital-gain       3924 non-null   float64\n",
      " 9   skewness_oxygen    3924 non-null   float64\n",
      " 10  kurtosis_glucose   3924 non-null   float64\n",
      " 11  final_weight       3924 non-null   float64\n",
      " 12  diabetes_presence  3924 non-null   float64\n",
      " 13  std_glucose        3924 non-null   float64\n",
      " 14  mean_oxygen        3924 non-null   float64\n",
      " 15  hours-per-week     3924 non-null   float64\n",
      " 16  capital-loss       3924 non-null   float64\n",
      "dtypes: float64(17)\n",
      "memory usage: 521.3 KB\n"
     ]
    },
    {
     "name": "stderr",
     "output_type": "stream",
     "text": [
      "d:\\programming\\python\\iau_projekt\\venv\\lib\\site-packages\\pandas\\core\\indexing.py:1765: SettingWithCopyWarning: \n",
      "A value is trying to be set on a copy of a slice from a DataFrame.\n",
      "Try using .loc[row_indexer,col_indexer] = value instead\n",
      "\n",
      "See the caveats in the documentation: https://pandas.pydata.org/pandas-docs/stable/user_guide/indexing.html#returning-a-view-versus-a-copy\n",
      "  isetter(loc, value)\n",
      "D:\\Programming\\Python\\IAU_projekt\\preprocessing.py:64: SettingWithCopyWarning: \n",
      "A value is trying to be set on a copy of a slice from a DataFrame.\n",
      "Try using .loc[row_indexer,col_indexer] = value instead\n",
      "\n",
      "See the caveats in the documentation: https://pandas.pydata.org/pandas-docs/stable/user_guide/indexing.html#returning-a-view-versus-a-copy\n",
      "  X[\"pregnant\"] = X[\"pregnant\"].map(format_pregnancy)\n",
      "D:\\Programming\\Python\\IAU_projekt\\preprocessing.py:52: SettingWithCopyWarning: \n",
      "A value is trying to be set on a copy of a slice from a DataFrame.\n",
      "Try using .loc[row_indexer,col_indexer] = value instead\n",
      "\n",
      "See the caveats in the documentation: https://pandas.pydata.org/pandas-docs/stable/user_guide/indexing.html#returning-a-view-versus-a-copy\n",
      "  X['sex'] = X[\"sex\"].map(fix_sex_value)\n",
      "d:\\programming\\python\\iau_projekt\\venv\\lib\\site-packages\\pandas\\core\\indexing.py:1765: SettingWithCopyWarning: \n",
      "A value is trying to be set on a copy of a slice from a DataFrame.\n",
      "Try using .loc[row_indexer,col_indexer] = value instead\n",
      "\n",
      "See the caveats in the documentation: https://pandas.pydata.org/pandas-docs/stable/user_guide/indexing.html#returning-a-view-versus-a-copy\n",
      "  isetter(loc, value)\n"
     ]
    }
   ],
   "source": [
    "medical_train = pd.read_csv(\"dataset/other_train.csv\")\n",
    "personal_train = pd.read_csv(\"dataset/personal_train.csv\")\n",
    "\n",
    "train_data = preprocessing.preprocess_dataset(medical_train, personal_train, 1)\n",
    "train_data.info()"
   ]
  },
  {
   "cell_type": "code",
   "execution_count": 3,
   "metadata": {
    "pycharm": {
     "name": "#%%\n"
    }
   },
   "outputs": [
    {
     "name": "stdout",
     "output_type": "stream",
     "text": [
      "Median stlpca education-num 10.0\n",
      "Median stlpca capital-gain 0.0\n",
      "Median stlpca age 52.0\n",
      "Median stlpca pregnant 0.0\n",
      "Median stlpca hours-per-week 40.0\n",
      "Median stlpca capital-loss 0.0\n",
      "<class 'pandas.core.frame.DataFrame'>\n",
      "RangeIndex: 1306 entries, 0 to 1305\n",
      "Data columns (total 17 columns):\n",
      " #   Column             Non-Null Count  Dtype  \n",
      "---  ------             --------------  -----  \n",
      " 0   age                1306 non-null   float64\n",
      " 1   sex                1306 non-null   float64\n",
      " 2   kurtosis_oxygen    1306 non-null   float64\n",
      " 3   pregnant           1306 non-null   float64\n",
      " 4   education-num      1306 non-null   float64\n",
      " 5   skewness_glucose   1306 non-null   float64\n",
      " 6   mean_glucose       1306 non-null   float64\n",
      " 7   std_oxygen         1306 non-null   float64\n",
      " 8   capital-gain       1306 non-null   float64\n",
      " 9   skewness_oxygen    1306 non-null   float64\n",
      " 10  kurtosis_glucose   1306 non-null   float64\n",
      " 11  final_weight       1306 non-null   float64\n",
      " 12  diabetes_presence  1306 non-null   float64\n",
      " 13  std_glucose        1306 non-null   float64\n",
      " 14  mean_oxygen        1306 non-null   float64\n",
      " 15  hours-per-week     1306 non-null   float64\n",
      " 16  capital-loss       1306 non-null   float64\n",
      "dtypes: float64(17)\n",
      "memory usage: 173.6 KB\n"
     ]
    },
    {
     "name": "stderr",
     "output_type": "stream",
     "text": [
      "d:\\programming\\python\\iau_projekt\\venv\\lib\\site-packages\\pandas\\core\\indexing.py:1765: SettingWithCopyWarning: \n",
      "A value is trying to be set on a copy of a slice from a DataFrame.\n",
      "Try using .loc[row_indexer,col_indexer] = value instead\n",
      "\n",
      "See the caveats in the documentation: https://pandas.pydata.org/pandas-docs/stable/user_guide/indexing.html#returning-a-view-versus-a-copy\n",
      "  isetter(loc, value)\n",
      "D:\\Programming\\Python\\IAU_projekt\\preprocessing.py:64: SettingWithCopyWarning: \n",
      "A value is trying to be set on a copy of a slice from a DataFrame.\n",
      "Try using .loc[row_indexer,col_indexer] = value instead\n",
      "\n",
      "See the caveats in the documentation: https://pandas.pydata.org/pandas-docs/stable/user_guide/indexing.html#returning-a-view-versus-a-copy\n",
      "  X[\"pregnant\"] = X[\"pregnant\"].map(format_pregnancy)\n",
      "D:\\Programming\\Python\\IAU_projekt\\preprocessing.py:52: SettingWithCopyWarning: \n",
      "A value is trying to be set on a copy of a slice from a DataFrame.\n",
      "Try using .loc[row_indexer,col_indexer] = value instead\n",
      "\n",
      "See the caveats in the documentation: https://pandas.pydata.org/pandas-docs/stable/user_guide/indexing.html#returning-a-view-versus-a-copy\n",
      "  X['sex'] = X[\"sex\"].map(fix_sex_value)\n",
      "d:\\programming\\python\\iau_projekt\\venv\\lib\\site-packages\\pandas\\core\\indexing.py:1765: SettingWithCopyWarning: \n",
      "A value is trying to be set on a copy of a slice from a DataFrame.\n",
      "Try using .loc[row_indexer,col_indexer] = value instead\n",
      "\n",
      "See the caveats in the documentation: https://pandas.pydata.org/pandas-docs/stable/user_guide/indexing.html#returning-a-view-versus-a-copy\n",
      "  isetter(loc, value)\n"
     ]
    }
   ],
   "source": [
    "medical_valid = pd.read_csv(\"dataset/other_valid.csv\")\n",
    "personal_valid = pd.read_csv(\"dataset/personal_valid.csv\")\n",
    "\n",
    "valid_data = preprocessing.preprocess_dataset(medical_valid, personal_valid, 1)\n",
    "valid_data.info()"
   ]
  },
  {
   "cell_type": "markdown",
   "metadata": {
    "pycharm": {
     "name": "#%% md\n"
    }
   },
   "source": [
    "## Manuálne vytvorenie a vyhodnotenie rozhodovacích pravidiel pre klasifikáciu\n",
    "\n",
    "### Pozorovanie závislostí v dátach\n",
    "\n",
    "Predtým ako vytvoríme rozhodovací strom, musíme najprv určiť, aké atribúty pri výbere pravidiel použijeme. Taktiež bude\n",
    "nutné určiť akú hodnotu by mali mať. Pomocou nej budeme dáta v strome rozdeľovať. Túto hodnotu môžeme predpokladať\n",
    "pomocou grafov, ktoré môžeme vidieť nižšie. Ako prvé máme zobrazené boxploty pre vybrané atribúty (zamerali sme sa na\n",
    "hlavne na tie, ktoré korelovali s atribútom diabetes_presence), kde môžeme vidieť pri akej hodnote začne prevládať počet\n",
    "chorých pacientov. Rovnakým spôsobom slúžia aj zobrazenia distribúcií jednotlivých atribútov.\n",
    "\n",
    "Ako prvý sme použili atribút skewness_oxygen. V oboch grafoch môžeme vidieť, že počet chorých s klesajúcou hodnotou atribútu\n",
    "narastá. Chorí začnú prevládať okolo hodnoty -0.75 a práve túto hodnotu použijeme aj v našich pravidlách. Pacienti s nižšou\n",
    "hodnotou pôjdú do ľavej vetvy stromu, pacienti s vyššou do pravej.\n",
    "\n",
    "V ľavej vetve je ako ďalší použitý atribút skewness_glucose. Pri hodnote 0 až -0.2 začne počet chorých pacientov klesať,\n",
    "zatiaľ čo zdraví narastajú. Vybrali sme si hodnotu -0.2. Pacienti u ktorých bola táto hodnota väčia sa presunuli do ľavej\n",
    "vetvy  a tí, ktorí nesplnili podmienky pravidla, boli označení za zdravých.\n",
    "\n",
    "V poslednom pravidle ľavej vetvy sme využili atribút kurtosis_glucose. Vidíme, že stredná hranica medzi počtom chorých a\n",
    "zdravých sa nachádza niekde v intervale od 0.5 približne po 0.75. Nakoniec sme vybrali hodnotu 0.6. Ak bola väčšia, pacient\n",
    "bude označený za chorého, zatiaľ čo ostatných označíme za zdravých.\n",
    "\n",
    "V pravej vetve najprv rozdeľujeme podľa dvoch atribútov, skewness_glucose a kurtosis_glucose. Ak je hodnota oboch atribútov\n",
    "väčšia ako 0.7, pacienta budeme považovať za chorého, keďže v týchto hodnotách sa vyskytuje väčší počet ľudí s prítomnosťou\n",
    "ochorenia. Ostatné dáta rozdeľujeme dalej, podľa atribútu mean_glucose. Tu sme vybrali hodnotu -0.95, kde menšie číslo\n",
    "indikovalo prítomnosť choroby a väčšie naopak. Rovnakým spôsobom sme vytvorili aj druhý zoznam pravidiel. Nižšie budeme môcť\n",
    "vidieť vyhodnotenie oboch zoznamov a ich porovnanie."
   ]
  },
  {
   "cell_type": "code",
   "execution_count": 4,
   "metadata": {
    "pycharm": {
     "name": "#%%\n"
    }
   },
   "outputs": [
    {
     "data": {
      "image/png": "[encoded data removed]",
      "text/plain": [
       "<Figure size 864x432 with 1 Axes>"
      ]
     },
     "metadata": {
      "needs_background": "light"
     },
     "output_type": "display_data"
    },
    {
     "data": {
      "image/png": "[encoded data removed]",
      "text/plain": [
       "<Figure size 864x432 with 1 Axes>"
      ]
     },
     "metadata": {
      "needs_background": "light"
     },
     "output_type": "display_data"
    },
    {
     "data": {
      "image/png": "[encoded data removed]",
      "text/plain": [
       "<Figure size 864x432 with 1 Axes>"
      ]
     },
     "metadata": {
      "needs_background": "light"
     },
     "output_type": "display_data"
    },
    {
     "data": {
      "image/png": "[encoded data removed]",
      "text/plain": [
       "<Figure size 864x432 with 1 Axes>"
      ]
     },
     "metadata": {
      "needs_background": "light"
     },
     "output_type": "display_data"
    },
    {
     "data": {
      "image/png": "[encoded data removed]",
      "text/plain": [
       "<Figure size 864x432 with 1 Axes>"
      ]
     },
     "metadata": {
      "needs_background": "light"
     },
     "output_type": "display_data"
    },
    {
     "data": {
      "image/png": "[encoded data removed]",
      "text/plain": [
       "<Figure size 864x432 with 1 Axes>"
      ]
     },
     "metadata": {
      "needs_background": "light"
     },
     "output_type": "display_data"
    },
    {
     "data": {
      "image/png": "[encoded data removed]",
      "text/plain": [
       "<Figure size 864x432 with 1 Axes>"
      ]
     },
     "metadata": {
      "needs_background": "light"
     },
     "output_type": "display_data"
    },
    {
     "data": {
      "image/png": "[encoded data removed]",
      "text/plain": [
       "<Figure size 864x432 with 1 Axes>"
      ]
     },
     "metadata": {
      "needs_background": "light"
     },
     "output_type": "display_data"
    }
   ],
   "source": [
    "columns = [\"kurtosis_oxygen\", \"skewness_oxygen\", \"mean_oxygen\", \"std_oxygen\",\n",
    "           \"kurtosis_glucose\", \"skewness_glucose\", \"mean_glucose\", \"std_glucose\"]\n",
    "\n",
    "for col in columns:\n",
    "    fig_01 = plt.subplots(figsize = (12, 6))\n",
    "    sns.boxplot(y = col, x = \"diabetes_presence\", data = valid_data)"
   ]
  },
  {
   "cell_type": "code",
   "execution_count": 5,
   "metadata": {
    "pycharm": {
     "name": "#%%\n"
    }
   },
   "outputs": [
    {
     "data": {
      "image/png": "[encoded data removed]",
      "text/plain": [
       "<Figure size 461.625x360 with 1 Axes>"
      ]
     },
     "metadata": {
      "needs_background": "light"
     },
     "output_type": "display_data"
    },
    {
     "data": {
      "image/png": "[encoded data removed]",
      "text/plain": [
       "<Figure size 461.625x360 with 1 Axes>"
      ]
     },
     "metadata": {
      "needs_background": "light"
     },
     "output_type": "display_data"
    },
    {
     "data": {
      "image/png": "[encoded data removed]",
      "text/plain": [
       "<Figure size 461.625x360 with 1 Axes>"
      ]
     },
     "metadata": {
      "needs_background": "light"
     },
     "output_type": "display_data"
    },
    {
     "data": {
      "image/png": "[encoded data removed]",
      "text/plain": [
       "<Figure size 461.625x360 with 1 Axes>"
      ]
     },
     "metadata": {
      "needs_background": "light"
     },
     "output_type": "display_data"
    },
    {
     "data": {
      "image/png": "[encoded data removed]",
      "text/plain": [
       "<Figure size 461.625x360 with 1 Axes>"
      ]
     },
     "metadata": {
      "needs_background": "light"
     },
     "output_type": "display_data"
    },
    {
     "data": {
      "image/png": "[encoded data removed]",
      "text/plain": [
       "<Figure size 461.625x360 with 1 Axes>"
      ]
     },
     "metadata": {
      "needs_background": "light"
     },
     "output_type": "display_data"
    },
    {
     "data": {
      "image/png": "[encoded data removed]",
      "text/plain": [
       "<Figure size 461.625x360 with 1 Axes>"
      ]
     },
     "metadata": {
      "needs_background": "light"
     },
     "output_type": "display_data"
    },
    {
     "data": {
      "image/png": "[encoded data removed]",
      "text/plain": [
       "<Figure size 461.625x360 with 1 Axes>"
      ]
     },
     "metadata": {
      "needs_background": "light"
     },
     "output_type": "display_data"
    }
   ],
   "source": [
    "for col in columns:\n",
    "    sns.displot(x = col, hue = \"diabetes_presence\", data = train_data)"
   ]
  },
  {
   "cell_type": "code",
   "execution_count": 6,
   "metadata": {
    "pycharm": {
     "name": "#%%%\n"
    }
   },
   "outputs": [],
   "source": [
    "import operator\n",
    "\n",
    "rules_01 = [ [((\"skewness_oxygen\", -0.75), operator.lt)],\n",
    "          [((\"kurtosis_glucose\",  0.6), operator.gt)],\n",
    "          [((\"skewness_glucose\", -0.2), operator.gt)],\n",
    "          [((\"mean_glucose\", -0.95), operator.lt)],\n",
    "          [((\"skewness_glucose\", 0.7), operator.gt), ((\"kurtosis_glucose\", 0.7), operator.gt)]]\n",
    "\n",
    "rules_02 = [ [((\"kurtosis_oxygen\", -0.5), operator.lt)],\n",
    "          [((\"skewness_glucose\", 0.), operator.gt), ((\"kurtosis_glucose\", 0.5), operator.gt)],\n",
    "          [((\"mean_glucose\", 1.), operator.lt)],\n",
    "          [((\"mean_glucose\", -1.), operator.lt)],\n",
    "          [((\"skewness_oxygen\", -0.25), operator.lt), ((\"kurtosis_glucose\", 0.5), operator.gt)]]\n"
   ]
  },
  {
   "cell_type": "markdown",
   "metadata": {
    "pycharm": {
     "name": "#%% md\n"
    }
   },
   "source": [
    "### Opis fungovania rozhodovacieho stromu\n",
    "\n",
    "Následne sme vytvorili náš vlastný rozhodovací strom. Ako parametre sme mu poskytli trénovací dataset a súbor pravidiel.\n",
    "Tie sú uložené v zozname, v ktorom je každé pravidlo reprezentované jedným elementom. Jednotlivé pravidlá sú taktiež\n",
    "reprezentované zoznamom. Ten obsahuje atribúty, spolu s číselnou hodnotou, pomocou ktorých budeme dáta v strome rozdeľovať.\n",
    "Okrem toho musí obsahovať aj operátor >, alebo <, aby sme vedeli dáta správne porovnať. Tie sú reprezentované pomocou\n",
    "knižnice operator.\n",
    "\n",
    "Jednotlivé vrcholy v strome sú vytvorené manuálne vo funkcií create_tree(). Pri tvorení nového vrcholu, ako parametre\n",
    "posúvame aktuálny dataset, pravidlo (rule), podľa ktorého budeme dataset rozdeľovať a ak sa jedná o listy, tak aj\n",
    "zdravotný stav pacienta (condition). V tom prípade nebude nutné dataset už daľej rozdeľovať. Ale ak aktuálny vrchol ešte\n",
    "nie je list, tak sa spúšťa funkcia split_dataset(), v ktorej podľa aktuálneho pravidla určíme, ktorá časť dát pôjde do\n",
    "ľavej a ktorá do pravej vetvy stromu. V našom prípade idú do ľava tie dáta, ktoré spĺňajú podmienky pravidla, do pravej\n",
    "tie, čo nespĺňajú.\n",
    "\n",
    "Po vytvorení stromu vo funkcií assign_diabetes_presence() prechádzame celým stromom, až k listom, kde výsledným dátam\n",
    "priradíme hodnotu 1, ak predpokladáme, že sú chorí a 0 ak majú byť zdraví. Nami ohodnotené dáta ukladáme do premennej\n",
    "categorized_data, čo je vlastne nový Pandas data frame. Ten budeme porovnávať s originálnym datasetom, vďaka čomu budeme\n",
    "môcť zistiť aké  hodnoty nadobúdajú TP, TN, FP a FN. Podľa nich vyrátame ostatné metriky a následne môžeme náš\n",
    "rozhodovací strom vyhodnotiť."
   ]
  },
  {
   "cell_type": "code",
   "execution_count": 7,
   "metadata": {
    "pycharm": {
     "name": "#%%\n"
    }
   },
   "outputs": [],
   "source": [
    "class Node:\n",
    "    def __init__(self, data, rule, condition = None):\n",
    "        self.data = data\n",
    "        self.condition = condition\n",
    "        self.left = None\n",
    "        self.right = None\n",
    "        \n",
    "        if condition is None:\n",
    "            self.l_data, self.r_data = self.split_dataset(rule)\n",
    "        else:\n",
    "            self.l_data = None\n",
    "            self.r_data = None\n",
    "            \n",
    "\n",
    "    def split_dataset(self, rule):\n",
    "        l_data = None\n",
    "\n",
    "        if len(rule) == 1:\n",
    "            if rule[0][1] == operator.lt:\n",
    "                l_data = self.data[self.data[rule[0][0][0]] < rule[0][0][1]]\n",
    "            else:\n",
    "                l_data = self.data[self.data[rule[0][0][0]] > rule[0][0][1]]\n",
    "\n",
    "        elif len(rule) == 2:\n",
    "            if rule[0][1] == operator.lt and rule[1][1] == operator.lt:\n",
    "                l_data = self.data[(self.data[rule[0][0][0]] < rule[0][0][1]) & (self.data[rule[1][0][0]] < rule[1][0][1])]\n",
    "\n",
    "            if rule[0][1] == operator.gt and rule[1][1] == operator.gt:\n",
    "                l_data = self.data[(self.data[rule[0][0][0]] > rule[0][0][1]) & (self.data[rule[1][0][0]] > rule[1][0][1])]\n",
    "\n",
    "            if rule[0][1] == operator.lt and rule[1][1] == operator.gt:\n",
    "                l_data = self.data[(self.data[rule[0][0][0]] < rule[0][0][1]) & (self.data[rule[1][0][0]] > rule[1][0][1])]\n",
    "\n",
    "            if rule[0][1] == operator.gt and rule[1][1] == operator.lt:\n",
    "                l_data = self.data[(self.data[rule[0][0][0]] > rule[0][0][1]) & (self.data[rule[1][0][0]] < rule[1][0][1])]\n",
    "                \n",
    "        r_data = pd.concat([self.data, l_data]).drop_duplicates(keep = False)\n",
    "        return l_data, r_data\n"
   ]
  },
  {
   "cell_type": "code",
   "execution_count": 8,
   "metadata": {
    "pycharm": {
     "name": "#%%\n"
    }
   },
   "outputs": [],
   "source": [
    "class Tree:\n",
    "    def __init__(self, data, rules):\n",
    "        self.data = data\n",
    "        self.rules = rules\n",
    "        self.categorized_data = pd.DataFrame(columns = self.data.columns)\n",
    "        self.root = Node(self.data, self.rules[0])\n",
    "\n",
    "        # binary classifiers\n",
    "        self.tp = 0\n",
    "        self.tn = 0\n",
    "        self.fp = 0\n",
    "        self.fn = 0\n",
    "\n",
    "\n",
    "    def create_tree(self, root):\n",
    "        # left branch\n",
    "        root.left = Node(root.l_data, self.rules[2])\n",
    "        root.left.left = Node(root.left.l_data, self.rules[1])\n",
    "        root.left.right = Node(root.left.r_data, [], False)\n",
    "        root.left.left.left = Node(root.left.left.l_data, [], True)\n",
    "        root.left.left.right = Node(root.left.left.r_data, [], False)\n",
    "\n",
    "        # right branch\n",
    "        root.right = Node(root.r_data, self.rules[4])\n",
    "        root.right.left = Node(root.right.l_data, [], True)\n",
    "        root.right.right = Node(root.right.r_data, self.rules[3])\n",
    "        root.right.right.left = Node(root.right.right.l_data, [], True)\n",
    "        root.right.right.right = Node(root.right.right.r_data, [], False)\n",
    "\n",
    "\n",
    "    def assign_diabetes_presence(self, curr):\n",
    "        \n",
    "        if curr.left is None:\n",
    "            to_add = curr.data.copy()\n",
    "            if curr.condition == True:\n",
    "                to_add[\"diabetes_presence\"] = 1\n",
    "            else:\n",
    "                to_add[\"diabetes_presence\"] = 0\n",
    "            self.categorized_data = pd.concat([self.categorized_data, to_add])\n",
    "            return\n",
    "\n",
    "        if curr.right is None:\n",
    "            to_add = curr.data.copy()\n",
    "            if curr.condition == True:\n",
    "                to_add[\"diabetes_presence\"] = 1\n",
    "            else:\n",
    "                to_add[\"diabetes_presence\"] = 0\n",
    "            self.categorized_data = pd.concat([self.categorized_data, to_add])\n",
    "            return\n",
    "\n",
    "        self.assign_diabetes_presence(curr.left)\n",
    "        self.assign_diabetes_presence(curr.right)\n",
    "\n",
    "\n",
    "    def get_binary_classification(self, row):\n",
    "        \n",
    "        to_compare = self.categorized_data.loc[self.categorized_data.index.values == row.name]\n",
    "\n",
    "        if to_compare[\"diabetes_presence\"].values == 1 and row[\"diabetes_presence\"] == 1:\n",
    "            self.tp += 1\n",
    "        if to_compare[\"diabetes_presence\"].values == 0 and row[\"diabetes_presence\"] == 0:\n",
    "            self.tn += 1\n",
    "        if to_compare[\"diabetes_presence\"].values == 1 and row[\"diabetes_presence\"] == 0:\n",
    "            self.fp += 1\n",
    "        if to_compare[\"diabetes_presence\"].values == 0 and row[\"diabetes_presence\"] == 1:\n",
    "            self.fn += 1\n",
    "\n",
    "\n",
    "    def calculate_accuracy(self):\n",
    "        return (self.tp + self.tn) / len(self.data)\n",
    "\n",
    "    def calculate_precision(self):\n",
    "        return self.tp / (self.tp + self.fp)\n",
    "\n",
    "    def calculate_recall(self):\n",
    "        return self.tp / (self.tp + self.fn)\n",
    "\n",
    "    def calculate_f1_score(self):\n",
    "        p = self.calculate_precision()\n",
    "        r = self.calculate_recall()\n",
    "        return (2 * p * r) / (p + r)\n",
    "\n",
    "\n",
    "    def print_metrics(self):\n",
    "        \n",
    "        self.data.apply(lambda x: self.get_binary_classification(x), axis = 1)\n",
    "        \n",
    "        print(\"Number of rows: \", len(self.data))\n",
    "        print(\"True positive: \", self.tp)\n",
    "        print(\"True negative: \", self.tn)\n",
    "        print(\"False positive: \", self.fp)\n",
    "        print(\"False negative: \", self.fn)\n",
    "        \n",
    "        print(\"\\nAccuracy: \", self.calculate_accuracy())\n",
    "        print(\"Precision: \", self.calculate_precision())\n",
    "        print(\"Recall: \", self.calculate_recall())\n",
    "        print(\"F1 score: \", self.calculate_f1_score())\n",
    "        "
   ]
  },
  {
   "cell_type": "markdown",
   "metadata": {
    "pycharm": {
     "name": "#%% md\n"
    }
   },
   "source": [
    "### Vyhodnotenie pravidiel\n",
    "\n",
    "Nižšie môžeme vidieť vyhodnotenia našich stromov. Použili sme testovacie a taktiež aj validačné dáta, aby sme ukázali,\n",
    "že pravidlá fungujú približne rovnako pri oboch datasetoch. Okrem toho sme použili oba zoznamy pravidiel. V testovacích\n",
    "dátach boli vyhodnotenia takmer identické. Celkovo bolo správne označených približne 95% dát a až 97% záznamov, u ktorých\n",
    "sme predpokladali výskyt cukrovky bolo taktiež označených správne. Presnosť oboch súborov pravidiel trochu klesla pri\n",
    "validačných dátach, kde nadobudla hodnotu okolo 95%.\n",
    "\n",
    "Stromy pri ktorých sme použili testovacie dáta mali hodnotu pokrytia približne 83%, čiže sa nám nepodarilo idenifikovať\n",
    "cukrovku u 27% pacientov, ktorí ju skutočne mali. Vo validačných dátach sme sa dopracovali k priaznivejším výsledkom,\n",
    "kde pokrytie nadobudlo hodnotu 85% pre prvý set pravidiel a 86% pre druhý. Túto hodnotu ovplyvnil menší počet chýb druhého\n",
    "typu. Pri testovacích datasetoch sme dosiahli F1 skóre 89% a pri validačných až 90%. Pri porovnávani s ostatnými\n",
    "rozhodovacími stromami, vytvorenými pomocou scikit-learn sme sa rozhodli použiť strom, ktorý klasifikuje dáta pomocou\n",
    "prvého súboru pravidiel, keďže väčšina metrík mala práve tu priaznivejšiu hodnotu ako v druhom strome."
   ]
  },
  {
   "cell_type": "code",
   "execution_count": 9,
   "metadata": {
    "pycharm": {
     "name": "#%%\n"
    }
   },
   "outputs": [
    {
     "name": "stdout",
     "output_type": "stream",
     "text": [
      "Number of rows:  3924\n",
      "True positive:  831\n",
      "True negative:  2894\n",
      "False positive:  26\n",
      "False negative:  173\n",
      "\n",
      "Accuracy:  0.9492864424057085\n",
      "Precision:  0.969661610268378\n",
      "Recall:  0.8276892430278885\n",
      "F1 score:  0.893068242880172\n"
     ]
    }
   ],
   "source": [
    "my_tree_1 = Tree(train_data, rules_01)\n",
    "my_tree_1.create_tree(my_tree_1.root)\n",
    "my_tree_1.assign_diabetes_presence(my_tree_1.root)\n",
    "my_tree_1.print_metrics()"
   ]
  },
  {
   "cell_type": "code",
   "execution_count": 10,
   "metadata": {
    "pycharm": {
     "name": "#%%\n"
    }
   },
   "outputs": [
    {
     "name": "stdout",
     "output_type": "stream",
     "text": [
      "Number of rows:  3924\n",
      "True positive:  832\n",
      "True negative:  2894\n",
      "False positive:  26\n",
      "False negative:  172\n",
      "\n",
      "Accuracy:  0.9495412844036697\n",
      "Precision:  0.9696969696969697\n",
      "Recall:  0.8286852589641435\n",
      "F1 score:  0.8936627282491943\n"
     ]
    }
   ],
   "source": [
    "my_tree_2 = Tree(train_data, rules_02)\n",
    "my_tree_2.create_tree(my_tree_2.root)\n",
    "my_tree_2.assign_diabetes_presence(my_tree_2.root)\n",
    "my_tree_2.print_metrics()"
   ]
  },
  {
   "cell_type": "code",
   "execution_count": 11,
   "metadata": {
    "pycharm": {
     "name": "#%%\n"
    }
   },
   "outputs": [
    {
     "name": "stdout",
     "output_type": "stream",
     "text": [
      "Number of rows:  1306\n",
      "True positive:  299\n",
      "True negative:  943\n",
      "False positive:  17\n",
      "False negative:  47\n",
      "\n",
      "Accuracy:  0.9509954058192955\n",
      "Precision:  0.9462025316455697\n",
      "Recall:  0.8641618497109826\n",
      "F1 score:  0.9033232628398791\n"
     ]
    }
   ],
   "source": [
    "my_tree_v1 = Tree(valid_data, rules_01)\n",
    "my_tree_v1.create_tree(my_tree_v1.root)\n",
    "my_tree_v1.assign_diabetes_presence(my_tree_v1.root)\n",
    "my_tree_v1.print_metrics()"
   ]
  },
  {
   "cell_type": "code",
   "execution_count": 12,
   "metadata": {
    "pycharm": {
     "name": "#%%\n"
    }
   },
   "outputs": [
    {
     "name": "stdout",
     "output_type": "stream",
     "text": [
      "Number of rows:  1306\n",
      "True positive:  296\n",
      "True negative:  945\n",
      "False positive:  15\n",
      "False negative:  50\n",
      "\n",
      "Accuracy:  0.9502297090352221\n",
      "Precision:  0.9517684887459807\n",
      "Recall:  0.8554913294797688\n",
      "F1 score:  0.9010654490106546\n"
     ]
    }
   ],
   "source": [
    "my_tree_v2 = Tree(valid_data, rules_02)\n",
    "my_tree_v2.create_tree(my_tree_v2.root)\n",
    "my_tree_v2.assign_diabetes_presence(my_tree_v2.root)\n",
    "my_tree_v2.print_metrics()"
   ]
  },
  {
   "cell_type": "code",
   "execution_count": 13,
   "metadata": {},
   "outputs": [
    {
     "data": {
      "image/png": "[encoded data removed]",
      "text/plain": [
       "<IPython.core.display.Image object>"
      ]
     },
     "execution_count": 13,
     "metadata": {},
     "output_type": "execute_result"
    }
   ],
   "source": [
    "from IPython.display import Image\n",
    "Image(\"images/xd.png\")"
   ]
  },
  {
   "cell_type": "markdown",
   "metadata": {
    "pycharm": {
     "name": "#%% md\n"
    }
   },
   "source": [
    "Na obrázku môžeme vidieť náčrt nášho manuálne vytvoreného rozhodovacieho stromu. V tomto prípade bol použitý prvý set\n",
    "pravidiel."
   ]
  },
  {
   "cell_type": "markdown",
   "metadata": {
    "pycharm": {
     "name": "#%%\n"
    }
   },
   "source": [
    "# Reálne stromy, trénovanie"
   ]
  },
  {
   "cell_type": "code",
   "execution_count": 14,
   "metadata": {},
   "outputs": [
    {
     "data": {
      "text/html": [
       "<div>\n",
       "<style scoped>\n",
       "    .dataframe tbody tr th:only-of-type {\n",
       "        vertical-align: middle;\n",
       "    }\n",
       "\n",
       "    .dataframe tbody tr th {\n",
       "        vertical-align: top;\n",
       "    }\n",
       "\n",
       "    .dataframe thead th {\n",
       "        text-align: right;\n",
       "    }\n",
       "</style>\n",
       "<table border=\"1\" class=\"dataframe\">\n",
       "  <thead>\n",
       "    <tr style=\"text-align: right;\">\n",
       "      <th></th>\n",
       "      <th>age</th>\n",
       "      <th>sex</th>\n",
       "      <th>kurtosis_oxygen</th>\n",
       "      <th>pregnant</th>\n",
       "      <th>education-num</th>\n",
       "      <th>skewness_glucose</th>\n",
       "      <th>mean_glucose</th>\n",
       "      <th>std_oxygen</th>\n",
       "      <th>capital-gain</th>\n",
       "      <th>skewness_oxygen</th>\n",
       "      <th>kurtosis_glucose</th>\n",
       "      <th>final_weight</th>\n",
       "      <th>diabetes_presence</th>\n",
       "      <th>std_glucose</th>\n",
       "      <th>mean_oxygen</th>\n",
       "      <th>hours-per-week</th>\n",
       "      <th>capital-loss</th>\n",
       "    </tr>\n",
       "  </thead>\n",
       "  <tbody>\n",
       "    <tr>\n",
       "      <th>0</th>\n",
       "      <td>64.0</td>\n",
       "      <td>0.0</td>\n",
       "      <td>-0.247785</td>\n",
       "      <td>0.0</td>\n",
       "      <td>-0.044795</td>\n",
       "      <td>0.966599</td>\n",
       "      <td>-0.741347</td>\n",
       "      <td>0.482709</td>\n",
       "      <td>0.0</td>\n",
       "      <td>-0.273095</td>\n",
       "      <td>0.895564</td>\n",
       "      <td>124076.0</td>\n",
       "      <td>1.0</td>\n",
       "      <td>-0.903880</td>\n",
       "      <td>0.315574</td>\n",
       "      <td>40.0</td>\n",
       "      <td>0.0</td>\n",
       "    </tr>\n",
       "    <tr>\n",
       "      <th>1</th>\n",
       "      <td>45.0</td>\n",
       "      <td>1.0</td>\n",
       "      <td>1.053704</td>\n",
       "      <td>0.0</td>\n",
       "      <td>-0.044795</td>\n",
       "      <td>-0.980163</td>\n",
       "      <td>0.487484</td>\n",
       "      <td>-0.949389</td>\n",
       "      <td>0.0</td>\n",
       "      <td>1.059518</td>\n",
       "      <td>-0.562561</td>\n",
       "      <td>383365.0</td>\n",
       "      <td>0.0</td>\n",
       "      <td>0.752521</td>\n",
       "      <td>-1.022556</td>\n",
       "      <td>70.0</td>\n",
       "      <td>0.0</td>\n",
       "    </tr>\n",
       "    <tr>\n",
       "      <th>2</th>\n",
       "      <td>42.0</td>\n",
       "      <td>1.0</td>\n",
       "      <td>-0.558023</td>\n",
       "      <td>0.0</td>\n",
       "      <td>-0.068336</td>\n",
       "      <td>-0.256712</td>\n",
       "      <td>0.176430</td>\n",
       "      <td>0.482185</td>\n",
       "      <td>0.0</td>\n",
       "      <td>-0.569871</td>\n",
       "      <td>-0.147686</td>\n",
       "      <td>272913.0</td>\n",
       "      <td>0.0</td>\n",
       "      <td>0.333066</td>\n",
       "      <td>0.513521</td>\n",
       "      <td>30.0</td>\n",
       "      <td>0.0</td>\n",
       "    </tr>\n",
       "    <tr>\n",
       "      <th>3</th>\n",
       "      <td>61.0</td>\n",
       "      <td>0.0</td>\n",
       "      <td>-1.170262</td>\n",
       "      <td>0.0</td>\n",
       "      <td>-0.058305</td>\n",
       "      <td>0.899044</td>\n",
       "      <td>-0.966489</td>\n",
       "      <td>1.389073</td>\n",
       "      <td>0.0</td>\n",
       "      <td>-1.254598</td>\n",
       "      <td>1.039322</td>\n",
       "      <td>509048.0</td>\n",
       "      <td>1.0</td>\n",
       "      <td>-0.352131</td>\n",
       "      <td>1.332811</td>\n",
       "      <td>37.0</td>\n",
       "      <td>0.0</td>\n",
       "    </tr>\n",
       "    <tr>\n",
       "      <th>4</th>\n",
       "      <td>57.0</td>\n",
       "      <td>1.0</td>\n",
       "      <td>0.677641</td>\n",
       "      <td>0.0</td>\n",
       "      <td>-0.041398</td>\n",
       "      <td>-0.794815</td>\n",
       "      <td>0.169169</td>\n",
       "      <td>-0.976165</td>\n",
       "      <td>0.0</td>\n",
       "      <td>0.774450</td>\n",
       "      <td>-0.832922</td>\n",
       "      <td>368797.0</td>\n",
       "      <td>0.0</td>\n",
       "      <td>0.898301</td>\n",
       "      <td>-0.743272</td>\n",
       "      <td>60.0</td>\n",
       "      <td>1977.0</td>\n",
       "    </tr>\n",
       "    <tr>\n",
       "      <th>...</th>\n",
       "      <td>...</td>\n",
       "      <td>...</td>\n",
       "      <td>...</td>\n",
       "      <td>...</td>\n",
       "      <td>...</td>\n",
       "      <td>...</td>\n",
       "      <td>...</td>\n",
       "      <td>...</td>\n",
       "      <td>...</td>\n",
       "      <td>...</td>\n",
       "      <td>...</td>\n",
       "      <td>...</td>\n",
       "      <td>...</td>\n",
       "      <td>...</td>\n",
       "      <td>...</td>\n",
       "      <td>...</td>\n",
       "      <td>...</td>\n",
       "    </tr>\n",
       "    <tr>\n",
       "      <th>3919</th>\n",
       "      <td>62.0</td>\n",
       "      <td>1.0</td>\n",
       "      <td>-1.275206</td>\n",
       "      <td>0.0</td>\n",
       "      <td>-0.044795</td>\n",
       "      <td>1.755165</td>\n",
       "      <td>-1.729280</td>\n",
       "      <td>1.484663</td>\n",
       "      <td>0.0</td>\n",
       "      <td>-1.356073</td>\n",
       "      <td>1.794529</td>\n",
       "      <td>46094.0</td>\n",
       "      <td>1.0</td>\n",
       "      <td>-1.903066</td>\n",
       "      <td>1.474278</td>\n",
       "      <td>33.0</td>\n",
       "      <td>0.0</td>\n",
       "    </tr>\n",
       "    <tr>\n",
       "      <th>3920</th>\n",
       "      <td>60.0</td>\n",
       "      <td>0.0</td>\n",
       "      <td>2.528143</td>\n",
       "      <td>0.0</td>\n",
       "      <td>-0.044795</td>\n",
       "      <td>-0.628922</td>\n",
       "      <td>0.021402</td>\n",
       "      <td>-1.894191</td>\n",
       "      <td>0.0</td>\n",
       "      <td>2.301458</td>\n",
       "      <td>-0.506712</td>\n",
       "      <td>35378.0</td>\n",
       "      <td>0.0</td>\n",
       "      <td>0.630336</td>\n",
       "      <td>-2.078312</td>\n",
       "      <td>45.0</td>\n",
       "      <td>0.0</td>\n",
       "    </tr>\n",
       "    <tr>\n",
       "      <th>3921</th>\n",
       "      <td>60.0</td>\n",
       "      <td>1.0</td>\n",
       "      <td>0.733397</td>\n",
       "      <td>0.0</td>\n",
       "      <td>-0.058305</td>\n",
       "      <td>-0.623782</td>\n",
       "      <td>0.938440</td>\n",
       "      <td>-1.027755</td>\n",
       "      <td>0.0</td>\n",
       "      <td>0.797377</td>\n",
       "      <td>-0.527208</td>\n",
       "      <td>22418.0</td>\n",
       "      <td>0.0</td>\n",
       "      <td>0.359200</td>\n",
       "      <td>-0.953727</td>\n",
       "      <td>40.0</td>\n",
       "      <td>0.0</td>\n",
       "    </tr>\n",
       "    <tr>\n",
       "      <th>3922</th>\n",
       "      <td>42.0</td>\n",
       "      <td>1.0</td>\n",
       "      <td>0.742787</td>\n",
       "      <td>0.0</td>\n",
       "      <td>-0.054940</td>\n",
       "      <td>-0.369599</td>\n",
       "      <td>0.022809</td>\n",
       "      <td>-0.467416</td>\n",
       "      <td>0.0</td>\n",
       "      <td>0.714641</td>\n",
       "      <td>-0.527812</td>\n",
       "      <td>277695.0</td>\n",
       "      <td>0.0</td>\n",
       "      <td>0.431564</td>\n",
       "      <td>-0.534153</td>\n",
       "      <td>36.0</td>\n",
       "      <td>0.0</td>\n",
       "    </tr>\n",
       "    <tr>\n",
       "      <th>3923</th>\n",
       "      <td>33.0</td>\n",
       "      <td>0.0</td>\n",
       "      <td>-1.223123</td>\n",
       "      <td>0.0</td>\n",
       "      <td>-0.054940</td>\n",
       "      <td>1.760636</td>\n",
       "      <td>-1.671112</td>\n",
       "      <td>1.537892</td>\n",
       "      <td>0.0</td>\n",
       "      <td>-1.332627</td>\n",
       "      <td>1.766874</td>\n",
       "      <td>109815.0</td>\n",
       "      <td>1.0</td>\n",
       "      <td>-2.196554</td>\n",
       "      <td>1.419209</td>\n",
       "      <td>40.0</td>\n",
       "      <td>0.0</td>\n",
       "    </tr>\n",
       "  </tbody>\n",
       "</table>\n",
       "<p>3924 rows × 17 columns</p>\n",
       "</div>"
      ],
      "text/plain": [
       "       age  sex  kurtosis_oxygen  pregnant  education-num  skewness_glucose  \\\n",
       "0     64.0  0.0        -0.247785       0.0      -0.044795          0.966599   \n",
       "1     45.0  1.0         1.053704       0.0      -0.044795         -0.980163   \n",
       "2     42.0  1.0        -0.558023       0.0      -0.068336         -0.256712   \n",
       "3     61.0  0.0        -1.170262       0.0      -0.058305          0.899044   \n",
       "4     57.0  1.0         0.677641       0.0      -0.041398         -0.794815   \n",
       "...    ...  ...              ...       ...            ...               ...   \n",
       "3919  62.0  1.0        -1.275206       0.0      -0.044795          1.755165   \n",
       "3920  60.0  0.0         2.528143       0.0      -0.044795         -0.628922   \n",
       "3921  60.0  1.0         0.733397       0.0      -0.058305         -0.623782   \n",
       "3922  42.0  1.0         0.742787       0.0      -0.054940         -0.369599   \n",
       "3923  33.0  0.0        -1.223123       0.0      -0.054940          1.760636   \n",
       "\n",
       "      mean_glucose  std_oxygen  capital-gain  skewness_oxygen  \\\n",
       "0        -0.741347    0.482709           0.0        -0.273095   \n",
       "1         0.487484   -0.949389           0.0         1.059518   \n",
       "2         0.176430    0.482185           0.0        -0.569871   \n",
       "3        -0.966489    1.389073           0.0        -1.254598   \n",
       "4         0.169169   -0.976165           0.0         0.774450   \n",
       "...            ...         ...           ...              ...   \n",
       "3919     -1.729280    1.484663           0.0        -1.356073   \n",
       "3920      0.021402   -1.894191           0.0         2.301458   \n",
       "3921      0.938440   -1.027755           0.0         0.797377   \n",
       "3922      0.022809   -0.467416           0.0         0.714641   \n",
       "3923     -1.671112    1.537892           0.0        -1.332627   \n",
       "\n",
       "      kurtosis_glucose  final_weight  diabetes_presence  std_glucose  \\\n",
       "0             0.895564      124076.0                1.0    -0.903880   \n",
       "1            -0.562561      383365.0                0.0     0.752521   \n",
       "2            -0.147686      272913.0                0.0     0.333066   \n",
       "3             1.039322      509048.0                1.0    -0.352131   \n",
       "4            -0.832922      368797.0                0.0     0.898301   \n",
       "...                ...           ...                ...          ...   \n",
       "3919          1.794529       46094.0                1.0    -1.903066   \n",
       "3920         -0.506712       35378.0                0.0     0.630336   \n",
       "3921         -0.527208       22418.0                0.0     0.359200   \n",
       "3922         -0.527812      277695.0                0.0     0.431564   \n",
       "3923          1.766874      109815.0                1.0    -2.196554   \n",
       "\n",
       "      mean_oxygen  hours-per-week  capital-loss  \n",
       "0        0.315574            40.0           0.0  \n",
       "1       -1.022556            70.0           0.0  \n",
       "2        0.513521            30.0           0.0  \n",
       "3        1.332811            37.0           0.0  \n",
       "4       -0.743272            60.0        1977.0  \n",
       "...           ...             ...           ...  \n",
       "3919     1.474278            33.0           0.0  \n",
       "3920    -2.078312            45.0           0.0  \n",
       "3921    -0.953727            40.0           0.0  \n",
       "3922    -0.534153            36.0           0.0  \n",
       "3923     1.419209            40.0           0.0  \n",
       "\n",
       "[3924 rows x 17 columns]"
      ]
     },
     "execution_count": 14,
     "metadata": {},
     "output_type": "execute_result"
    }
   ],
   "source": [
    "train_data"
   ]
  },
  {
   "cell_type": "code",
   "execution_count": 15,
   "metadata": {},
   "outputs": [],
   "source": [
    "train_data_without_diabetes = train_data.drop(columns=[\"diabetes_presence\"])"
   ]
  },
  {
   "cell_type": "code",
   "execution_count": 16,
   "metadata": {},
   "outputs": [],
   "source": [
    "model = DecisionTreeClassifier(max_depth=5)\n",
    "model = model.fit(train_data_without_diabetes, train_data[\"diabetes_presence\"])"
   ]
  },
  {
   "cell_type": "code",
   "execution_count": 17,
   "metadata": {},
   "outputs": [
    {
     "data": {
      "image/svg+xml": [
       "<svg xmlns=\"http://www.w3.org/2000/svg\" xmlns:xlink=\"http://www.w3.org/1999/xlink\" width=\"1617pt\" height=\"671pt\" viewBox=\"0.00 0.00 1616.50 671.00\">\n",
       "<g id=\"graph0\" class=\"graph\" transform=\"scale(1 1) rotate(0) translate(4 667)\">\n",
       "<title>Tree</title>\n",
       "<polygon fill=\"white\" stroke=\"transparent\" points=\"-4,4 -4,-667 1612.5,-667 1612.5,4 -4,4\"/>\n",
       "<!-- 0 -->\n",
       "<g id=\"node1\" class=\"node\">\n",
       "<title>0</title>\n",
       "<polygon fill=\"#eeac7d\" stroke=\"black\" points=\"981,-663 815,-663 815,-580 981,-580 981,-663\"/>\n",
       "<text text-anchor=\"middle\" x=\"898\" y=\"-647.8\" font-family=\"Times New Roman,serif\" font-size=\"14.00\">kurtosis_glucose &lt;= 0.525</text>\n",
       "<text text-anchor=\"middle\" x=\"898\" y=\"-632.8\" font-family=\"Times New Roman,serif\" font-size=\"14.00\">gini = 0.381</text>\n",
       "<text text-anchor=\"middle\" x=\"898\" y=\"-617.8\" font-family=\"Times New Roman,serif\" font-size=\"14.00\">samples = 3924</text>\n",
       "<text text-anchor=\"middle\" x=\"898\" y=\"-602.8\" font-family=\"Times New Roman,serif\" font-size=\"14.00\">value = [2920, 1004]</text>\n",
       "<text text-anchor=\"middle\" x=\"898\" y=\"-587.8\" font-family=\"Times New Roman,serif\" font-size=\"14.00\">class = no</text>\n",
       "</g>\n",
       "<!-- 1 -->\n",
       "<g id=\"node2\" class=\"node\">\n",
       "<title>1</title>\n",
       "<polygon fill=\"#e68743\" stroke=\"black\" points=\"875.5,-544 750.5,-544 750.5,-461 875.5,-461 875.5,-544\"/>\n",
       "<text text-anchor=\"middle\" x=\"813\" y=\"-528.8\" font-family=\"Times New Roman,serif\" font-size=\"14.00\">age &lt;= 77.5</text>\n",
       "<text text-anchor=\"middle\" x=\"813\" y=\"-513.8\" font-family=\"Times New Roman,serif\" font-size=\"14.00\">gini = 0.092</text>\n",
       "<text text-anchor=\"middle\" x=\"813\" y=\"-498.8\" font-family=\"Times New Roman,serif\" font-size=\"14.00\">samples = 3035</text>\n",
       "<text text-anchor=\"middle\" x=\"813\" y=\"-483.8\" font-family=\"Times New Roman,serif\" font-size=\"14.00\">value = [2888, 147]</text>\n",
       "<text text-anchor=\"middle\" x=\"813\" y=\"-468.8\" font-family=\"Times New Roman,serif\" font-size=\"14.00\">class = no</text>\n",
       "</g>\n",
       "<!-- 0&#45;&gt;1 -->\n",
       "<g id=\"edge1\" class=\"edge\">\n",
       "<title>0-&gt;1</title>\n",
       "<path fill=\"none\" stroke=\"black\" d=\"M868.51,-579.91C862.05,-571.01 855.14,-561.51 848.48,-552.33\"/>\n",
       "<polygon fill=\"black\" stroke=\"black\" points=\"851.15,-550.05 842.44,-544.02 845.48,-554.17 851.15,-550.05\"/>\n",
       "<text text-anchor=\"middle\" x=\"838.53\" y=\"-565.01\" font-family=\"Times New Roman,serif\" font-size=\"14.00\">True</text>\n",
       "</g>\n",
       "<!-- 20 -->\n",
       "<g id=\"node21\" class=\"node\">\n",
       "<title>20</title>\n",
       "<polygon fill=\"#40a1e6\" stroke=\"black\" points=\"1083.5,-544 942.5,-544 942.5,-461 1083.5,-461 1083.5,-544\"/>\n",
       "<text text-anchor=\"middle\" x=\"1013\" y=\"-528.8\" font-family=\"Times New Roman,serif\" font-size=\"14.00\">std_oxygen &lt;= -0.449</text>\n",
       "<text text-anchor=\"middle\" x=\"1013\" y=\"-513.8\" font-family=\"Times New Roman,serif\" font-size=\"14.00\">gini = 0.069</text>\n",
       "<text text-anchor=\"middle\" x=\"1013\" y=\"-498.8\" font-family=\"Times New Roman,serif\" font-size=\"14.00\">samples = 889</text>\n",
       "<text text-anchor=\"middle\" x=\"1013\" y=\"-483.8\" font-family=\"Times New Roman,serif\" font-size=\"14.00\">value = [32, 857]</text>\n",
       "<text text-anchor=\"middle\" x=\"1013\" y=\"-468.8\" font-family=\"Times New Roman,serif\" font-size=\"14.00\">class = yes</text>\n",
       "</g>\n",
       "<!-- 0&#45;&gt;20 -->\n",
       "<g id=\"edge20\" class=\"edge\">\n",
       "<title>0-&gt;20</title>\n",
       "<path fill=\"none\" stroke=\"black\" d=\"M937.9,-579.91C947,-570.65 956.75,-560.73 966.11,-551.21\"/>\n",
       "<polygon fill=\"black\" stroke=\"black\" points=\"968.66,-553.61 973.17,-544.02 963.67,-548.7 968.66,-553.61\"/>\n",
       "<text text-anchor=\"middle\" x=\"973.39\" y=\"-565.32\" font-family=\"Times New Roman,serif\" font-size=\"14.00\">False</text>\n",
       "</g>\n",
       "<!-- 2 -->\n",
       "<g id=\"node3\" class=\"node\">\n",
       "<title>2</title>\n",
       "<polygon fill=\"#e68742\" stroke=\"black\" points=\"667,-425 497,-425 497,-342 667,-342 667,-425\"/>\n",
       "<text text-anchor=\"middle\" x=\"582\" y=\"-409.8\" font-family=\"Times New Roman,serif\" font-size=\"14.00\">kurtosis_glucose &lt;= -0.122</text>\n",
       "<text text-anchor=\"middle\" x=\"582\" y=\"-394.8\" font-family=\"Times New Roman,serif\" font-size=\"14.00\">gini = 0.085</text>\n",
       "<text text-anchor=\"middle\" x=\"582\" y=\"-379.8\" font-family=\"Times New Roman,serif\" font-size=\"14.00\">samples = 3022</text>\n",
       "<text text-anchor=\"middle\" x=\"582\" y=\"-364.8\" font-family=\"Times New Roman,serif\" font-size=\"14.00\">value = [2887, 135]</text>\n",
       "<text text-anchor=\"middle\" x=\"582\" y=\"-349.8\" font-family=\"Times New Roman,serif\" font-size=\"14.00\">class = no</text>\n",
       "</g>\n",
       "<!-- 1&#45;&gt;2 -->\n",
       "<g id=\"edge2\" class=\"edge\">\n",
       "<title>1-&gt;2</title>\n",
       "<path fill=\"none\" stroke=\"black\" d=\"M750.49,-469.84C726,-457.43 697.45,-442.98 670.89,-429.52\"/>\n",
       "<polygon fill=\"black\" stroke=\"black\" points=\"672.47,-426.4 661.97,-425 669.31,-432.64 672.47,-426.4\"/>\n",
       "</g>\n",
       "<!-- 17 -->\n",
       "<g id=\"node18\" class=\"node\">\n",
       "<title>17</title>\n",
       "<polygon fill=\"#49a5e7\" stroke=\"black\" points=\"882.5,-425 743.5,-425 743.5,-342 882.5,-342 882.5,-425\"/>\n",
       "<text text-anchor=\"middle\" x=\"813\" y=\"-409.8\" font-family=\"Times New Roman,serif\" font-size=\"14.00\">std_glucose &lt;= 1.522</text>\n",
       "<text text-anchor=\"middle\" x=\"813\" y=\"-394.8\" font-family=\"Times New Roman,serif\" font-size=\"14.00\">gini = 0.142</text>\n",
       "<text text-anchor=\"middle\" x=\"813\" y=\"-379.8\" font-family=\"Times New Roman,serif\" font-size=\"14.00\">samples = 13</text>\n",
       "<text text-anchor=\"middle\" x=\"813\" y=\"-364.8\" font-family=\"Times New Roman,serif\" font-size=\"14.00\">value = [1, 12]</text>\n",
       "<text text-anchor=\"middle\" x=\"813\" y=\"-349.8\" font-family=\"Times New Roman,serif\" font-size=\"14.00\">class = yes</text>\n",
       "</g>\n",
       "<!-- 1&#45;&gt;17 -->\n",
       "<g id=\"edge17\" class=\"edge\">\n",
       "<title>1-&gt;17</title>\n",
       "<path fill=\"none\" stroke=\"black\" d=\"M813,-460.91C813,-452.65 813,-443.86 813,-435.3\"/>\n",
       "<polygon fill=\"black\" stroke=\"black\" points=\"816.5,-435.02 813,-425.02 809.5,-435.02 816.5,-435.02\"/>\n",
       "</g>\n",
       "<!-- 3 -->\n",
       "<g id=\"node4\" class=\"node\">\n",
       "<title>3</title>\n",
       "<polygon fill=\"#e5823b\" stroke=\"black\" points=\"454,-306 300,-306 300,-223 454,-223 454,-306\"/>\n",
       "<text text-anchor=\"middle\" x=\"377\" y=\"-290.8\" font-family=\"Times New Roman,serif\" font-size=\"14.00\">education-num &lt;= 4.999</text>\n",
       "<text text-anchor=\"middle\" x=\"377\" y=\"-275.8\" font-family=\"Times New Roman,serif\" font-size=\"14.00\">gini = 0.021</text>\n",
       "<text text-anchor=\"middle\" x=\"377\" y=\"-260.8\" font-family=\"Times New Roman,serif\" font-size=\"14.00\">samples = 2089</text>\n",
       "<text text-anchor=\"middle\" x=\"377\" y=\"-245.8\" font-family=\"Times New Roman,serif\" font-size=\"14.00\">value = [2067, 22]</text>\n",
       "<text text-anchor=\"middle\" x=\"377\" y=\"-230.8\" font-family=\"Times New Roman,serif\" font-size=\"14.00\">class = no</text>\n",
       "</g>\n",
       "<!-- 2&#45;&gt;3 -->\n",
       "<g id=\"edge3\" class=\"edge\">\n",
       "<title>2-&gt;3</title>\n",
       "<path fill=\"none\" stroke=\"black\" d=\"M510.88,-341.91C493.54,-332.02 474.89,-321.37 457.17,-311.25\"/>\n",
       "<polygon fill=\"black\" stroke=\"black\" points=\"458.42,-307.94 448,-306.02 454.95,-314.02 458.42,-307.94\"/>\n",
       "</g>\n",
       "<!-- 10 -->\n",
       "<g id=\"node11\" class=\"node\">\n",
       "<title>10</title>\n",
       "<polygon fill=\"#e99254\" stroke=\"black\" points=\"662.5,-306 501.5,-306 501.5,-223 662.5,-223 662.5,-306\"/>\n",
       "<text text-anchor=\"middle\" x=\"582\" y=\"-290.8\" font-family=\"Times New Roman,serif\" font-size=\"14.00\">kurtosis_oxygen &lt;= -0.16</text>\n",
       "<text text-anchor=\"middle\" x=\"582\" y=\"-275.8\" font-family=\"Times New Roman,serif\" font-size=\"14.00\">gini = 0.213</text>\n",
       "<text text-anchor=\"middle\" x=\"582\" y=\"-260.8\" font-family=\"Times New Roman,serif\" font-size=\"14.00\">samples = 933</text>\n",
       "<text text-anchor=\"middle\" x=\"582\" y=\"-245.8\" font-family=\"Times New Roman,serif\" font-size=\"14.00\">value = [820, 113]</text>\n",
       "<text text-anchor=\"middle\" x=\"582\" y=\"-230.8\" font-family=\"Times New Roman,serif\" font-size=\"14.00\">class = no</text>\n",
       "</g>\n",
       "<!-- 2&#45;&gt;10 -->\n",
       "<g id=\"edge10\" class=\"edge\">\n",
       "<title>2-&gt;10</title>\n",
       "<path fill=\"none\" stroke=\"black\" d=\"M582,-341.91C582,-333.65 582,-324.86 582,-316.3\"/>\n",
       "<polygon fill=\"black\" stroke=\"black\" points=\"585.5,-316.02 582,-306.02 578.5,-316.02 585.5,-316.02\"/>\n",
       "</g>\n",
       "<!-- 4 -->\n",
       "<g id=\"node5\" class=\"node\">\n",
       "<title>4</title>\n",
       "<polygon fill=\"#e5823b\" stroke=\"black\" points=\"258,-187 106,-187 106,-104 258,-104 258,-187\"/>\n",
       "<text text-anchor=\"middle\" x=\"182\" y=\"-171.8\" font-family=\"Times New Roman,serif\" font-size=\"14.00\">hours-per-week &lt;= 98.5</text>\n",
       "<text text-anchor=\"middle\" x=\"182\" y=\"-156.8\" font-family=\"Times New Roman,serif\" font-size=\"14.00\">gini = 0.02</text>\n",
       "<text text-anchor=\"middle\" x=\"182\" y=\"-141.8\" font-family=\"Times New Roman,serif\" font-size=\"14.00\">samples = 2084</text>\n",
       "<text text-anchor=\"middle\" x=\"182\" y=\"-126.8\" font-family=\"Times New Roman,serif\" font-size=\"14.00\">value = [2063, 21]</text>\n",
       "<text text-anchor=\"middle\" x=\"182\" y=\"-111.8\" font-family=\"Times New Roman,serif\" font-size=\"14.00\">class = no</text>\n",
       "</g>\n",
       "<!-- 3&#45;&gt;4 -->\n",
       "<g id=\"edge4\" class=\"edge\">\n",
       "<title>3-&gt;4</title>\n",
       "<path fill=\"none\" stroke=\"black\" d=\"M309.35,-222.91C292.86,-213.02 275.11,-202.37 258.26,-192.25\"/>\n",
       "<polygon fill=\"black\" stroke=\"black\" points=\"259.91,-189.16 249.53,-187.02 256.31,-195.17 259.91,-189.16\"/>\n",
       "</g>\n",
       "<!-- 7 -->\n",
       "<g id=\"node8\" class=\"node\">\n",
       "<title>7</title>\n",
       "<polygon fill=\"#eca06a\" stroke=\"black\" points=\"456,-187 298,-187 298,-104 456,-104 456,-187\"/>\n",
       "<text text-anchor=\"middle\" x=\"377\" y=\"-171.8\" font-family=\"Times New Roman,serif\" font-size=\"14.00\">final_weight &lt;= 144080.0</text>\n",
       "<text text-anchor=\"middle\" x=\"377\" y=\"-156.8\" font-family=\"Times New Roman,serif\" font-size=\"14.00\">gini = 0.32</text>\n",
       "<text text-anchor=\"middle\" x=\"377\" y=\"-141.8\" font-family=\"Times New Roman,serif\" font-size=\"14.00\">samples = 5</text>\n",
       "<text text-anchor=\"middle\" x=\"377\" y=\"-126.8\" font-family=\"Times New Roman,serif\" font-size=\"14.00\">value = [4, 1]</text>\n",
       "<text text-anchor=\"middle\" x=\"377\" y=\"-111.8\" font-family=\"Times New Roman,serif\" font-size=\"14.00\">class = no</text>\n",
       "</g>\n",
       "<!-- 3&#45;&gt;7 -->\n",
       "<g id=\"edge7\" class=\"edge\">\n",
       "<title>3-&gt;7</title>\n",
       "<path fill=\"none\" stroke=\"black\" d=\"M377,-222.91C377,-214.65 377,-205.86 377,-197.3\"/>\n",
       "<polygon fill=\"black\" stroke=\"black\" points=\"380.5,-197.02 377,-187.02 373.5,-197.02 380.5,-197.02\"/>\n",
       "</g>\n",
       "<!-- 5 -->\n",
       "<g id=\"node6\" class=\"node\">\n",
       "<title>5</title>\n",
       "<polygon fill=\"#e5823b\" stroke=\"black\" points=\"118,-68 0,-68 0,0 118,0 118,-68\"/>\n",
       "<text text-anchor=\"middle\" x=\"59\" y=\"-52.8\" font-family=\"Times New Roman,serif\" font-size=\"14.00\">gini = 0.019</text>\n",
       "<text text-anchor=\"middle\" x=\"59\" y=\"-37.8\" font-family=\"Times New Roman,serif\" font-size=\"14.00\">samples = 2079</text>\n",
       "<text text-anchor=\"middle\" x=\"59\" y=\"-22.8\" font-family=\"Times New Roman,serif\" font-size=\"14.00\">value = [2059, 20]</text>\n",
       "<text text-anchor=\"middle\" x=\"59\" y=\"-7.8\" font-family=\"Times New Roman,serif\" font-size=\"14.00\">class = no</text>\n",
       "</g>\n",
       "<!-- 4&#45;&gt;5 -->\n",
       "<g id=\"edge5\" class=\"edge\">\n",
       "<title>4-&gt;5</title>\n",
       "<path fill=\"none\" stroke=\"black\" d=\"M136.2,-103.73C125.65,-94.33 114.43,-84.35 103.92,-74.99\"/>\n",
       "<polygon fill=\"black\" stroke=\"black\" points=\"106.2,-72.33 96.41,-68.3 101.55,-77.56 106.2,-72.33\"/>\n",
       "</g>\n",
       "<!-- 6 -->\n",
       "<g id=\"node7\" class=\"node\">\n",
       "<title>6</title>\n",
       "<polygon fill=\"#eca06a\" stroke=\"black\" points=\"227.5,-68 136.5,-68 136.5,0 227.5,0 227.5,-68\"/>\n",
       "<text text-anchor=\"middle\" x=\"182\" y=\"-52.8\" font-family=\"Times New Roman,serif\" font-size=\"14.00\">gini = 0.32</text>\n",
       "<text text-anchor=\"middle\" x=\"182\" y=\"-37.8\" font-family=\"Times New Roman,serif\" font-size=\"14.00\">samples = 5</text>\n",
       "<text text-anchor=\"middle\" x=\"182\" y=\"-22.8\" font-family=\"Times New Roman,serif\" font-size=\"14.00\">value = [4, 1]</text>\n",
       "<text text-anchor=\"middle\" x=\"182\" y=\"-7.8\" font-family=\"Times New Roman,serif\" font-size=\"14.00\">class = no</text>\n",
       "</g>\n",
       "<!-- 4&#45;&gt;6 -->\n",
       "<g id=\"edge6\" class=\"edge\">\n",
       "<title>4-&gt;6</title>\n",
       "<path fill=\"none\" stroke=\"black\" d=\"M182,-103.73C182,-95.52 182,-86.86 182,-78.56\"/>\n",
       "<polygon fill=\"black\" stroke=\"black\" points=\"185.5,-78.3 182,-68.3 178.5,-78.3 185.5,-78.3\"/>\n",
       "</g>\n",
       "<!-- 8 -->\n",
       "<g id=\"node9\" class=\"node\">\n",
       "<title>8</title>\n",
       "<polygon fill=\"#399de5\" stroke=\"black\" points=\"336.5,-68 245.5,-68 245.5,0 336.5,0 336.5,-68\"/>\n",
       "<text text-anchor=\"middle\" x=\"291\" y=\"-52.8\" font-family=\"Times New Roman,serif\" font-size=\"14.00\">gini = 0.0</text>\n",
       "<text text-anchor=\"middle\" x=\"291\" y=\"-37.8\" font-family=\"Times New Roman,serif\" font-size=\"14.00\">samples = 1</text>\n",
       "<text text-anchor=\"middle\" x=\"291\" y=\"-22.8\" font-family=\"Times New Roman,serif\" font-size=\"14.00\">value = [0, 1]</text>\n",
       "<text text-anchor=\"middle\" x=\"291\" y=\"-7.8\" font-family=\"Times New Roman,serif\" font-size=\"14.00\">class = yes</text>\n",
       "</g>\n",
       "<!-- 7&#45;&gt;8 -->\n",
       "<g id=\"edge8\" class=\"edge\">\n",
       "<title>7-&gt;8</title>\n",
       "<path fill=\"none\" stroke=\"black\" d=\"M344.98,-103.73C337.96,-94.79 330.52,-85.32 323.48,-76.36\"/>\n",
       "<polygon fill=\"black\" stroke=\"black\" points=\"326.08,-74 317.15,-68.3 320.58,-78.33 326.08,-74\"/>\n",
       "</g>\n",
       "<!-- 9 -->\n",
       "<g id=\"node10\" class=\"node\">\n",
       "<title>9</title>\n",
       "<polygon fill=\"#e58139\" stroke=\"black\" points=\"445.5,-68 354.5,-68 354.5,0 445.5,0 445.5,-68\"/>\n",
       "<text text-anchor=\"middle\" x=\"400\" y=\"-52.8\" font-family=\"Times New Roman,serif\" font-size=\"14.00\">gini = 0.0</text>\n",
       "<text text-anchor=\"middle\" x=\"400\" y=\"-37.8\" font-family=\"Times New Roman,serif\" font-size=\"14.00\">samples = 4</text>\n",
       "<text text-anchor=\"middle\" x=\"400\" y=\"-22.8\" font-family=\"Times New Roman,serif\" font-size=\"14.00\">value = [4, 0]</text>\n",
       "<text text-anchor=\"middle\" x=\"400\" y=\"-7.8\" font-family=\"Times New Roman,serif\" font-size=\"14.00\">class = no</text>\n",
       "</g>\n",
       "<!-- 7&#45;&gt;9 -->\n",
       "<g id=\"edge9\" class=\"edge\">\n",
       "<title>7-&gt;9</title>\n",
       "<path fill=\"none\" stroke=\"black\" d=\"M385.56,-103.73C387.31,-95.43 389.15,-86.67 390.91,-78.28\"/>\n",
       "<polygon fill=\"black\" stroke=\"black\" points=\"394.38,-78.81 393.01,-68.3 387.52,-77.37 394.38,-78.81\"/>\n",
       "</g>\n",
       "<!-- 11 -->\n",
       "<g id=\"node12\" class=\"node\">\n",
       "<title>11</title>\n",
       "<polygon fill=\"#f4c8a8\" stroke=\"black\" points=\"665,-187 499,-187 499,-104 665,-104 665,-187\"/>\n",
       "<text text-anchor=\"middle\" x=\"582\" y=\"-171.8\" font-family=\"Times New Roman,serif\" font-size=\"14.00\">kurtosis_glucose &lt;= 0.375</text>\n",
       "<text text-anchor=\"middle\" x=\"582\" y=\"-156.8\" font-family=\"Times New Roman,serif\" font-size=\"14.00\">gini = 0.461</text>\n",
       "<text text-anchor=\"middle\" x=\"582\" y=\"-141.8\" font-family=\"Times New Roman,serif\" font-size=\"14.00\">samples = 178</text>\n",
       "<text text-anchor=\"middle\" x=\"582\" y=\"-126.8\" font-family=\"Times New Roman,serif\" font-size=\"14.00\">value = [114, 64]</text>\n",
       "<text text-anchor=\"middle\" x=\"582\" y=\"-111.8\" font-family=\"Times New Roman,serif\" font-size=\"14.00\">class = no</text>\n",
       "</g>\n",
       "<!-- 10&#45;&gt;11 -->\n",
       "<g id=\"edge11\" class=\"edge\">\n",
       "<title>10-&gt;11</title>\n",
       "<path fill=\"none\" stroke=\"black\" d=\"M582,-222.91C582,-214.65 582,-205.86 582,-197.3\"/>\n",
       "<polygon fill=\"black\" stroke=\"black\" points=\"585.5,-197.02 582,-187.02 578.5,-197.02 585.5,-197.02\"/>\n",
       "</g>\n",
       "<!-- 14 -->\n",
       "<g id=\"node15\" class=\"node\">\n",
       "<title>14</title>\n",
       "<polygon fill=\"#e78a47\" stroke=\"black\" points=\"820.5,-187 709.5,-187 709.5,-104 820.5,-104 820.5,-187\"/>\n",
       "<text text-anchor=\"middle\" x=\"765\" y=\"-171.8\" font-family=\"Times New Roman,serif\" font-size=\"14.00\">age &lt;= 67.5</text>\n",
       "<text text-anchor=\"middle\" x=\"765\" y=\"-156.8\" font-family=\"Times New Roman,serif\" font-size=\"14.00\">gini = 0.121</text>\n",
       "<text text-anchor=\"middle\" x=\"765\" y=\"-141.8\" font-family=\"Times New Roman,serif\" font-size=\"14.00\">samples = 755</text>\n",
       "<text text-anchor=\"middle\" x=\"765\" y=\"-126.8\" font-family=\"Times New Roman,serif\" font-size=\"14.00\">value = [706, 49]</text>\n",
       "<text text-anchor=\"middle\" x=\"765\" y=\"-111.8\" font-family=\"Times New Roman,serif\" font-size=\"14.00\">class = no</text>\n",
       "</g>\n",
       "<!-- 10&#45;&gt;14 -->\n",
       "<g id=\"edge14\" class=\"edge\">\n",
       "<title>10-&gt;14</title>\n",
       "<path fill=\"none\" stroke=\"black\" d=\"M645.49,-222.91C663.32,-211.51 682.73,-199.1 700.61,-187.67\"/>\n",
       "<polygon fill=\"black\" stroke=\"black\" points=\"702.71,-190.48 709.25,-182.14 698.94,-184.58 702.71,-190.48\"/>\n",
       "</g>\n",
       "<!-- 12 -->\n",
       "<g id=\"node13\" class=\"node\">\n",
       "<title>12</title>\n",
       "<polygon fill=\"#efb287\" stroke=\"black\" points=\"574.5,-68 463.5,-68 463.5,0 574.5,0 574.5,-68\"/>\n",
       "<text text-anchor=\"middle\" x=\"519\" y=\"-52.8\" font-family=\"Times New Roman,serif\" font-size=\"14.00\">gini = 0.405</text>\n",
       "<text text-anchor=\"middle\" x=\"519\" y=\"-37.8\" font-family=\"Times New Roman,serif\" font-size=\"14.00\">samples = 149</text>\n",
       "<text text-anchor=\"middle\" x=\"519\" y=\"-22.8\" font-family=\"Times New Roman,serif\" font-size=\"14.00\">value = [107, 42]</text>\n",
       "<text text-anchor=\"middle\" x=\"519\" y=\"-7.8\" font-family=\"Times New Roman,serif\" font-size=\"14.00\">class = no</text>\n",
       "</g>\n",
       "<!-- 11&#45;&gt;12 -->\n",
       "<g id=\"edge12\" class=\"edge\">\n",
       "<title>11-&gt;12</title>\n",
       "<path fill=\"none\" stroke=\"black\" d=\"M558.54,-103.73C553.56,-95.06 548.28,-85.9 543.27,-77.18\"/>\n",
       "<polygon fill=\"black\" stroke=\"black\" points=\"546.18,-75.22 538.16,-68.3 540.11,-78.71 546.18,-75.22\"/>\n",
       "</g>\n",
       "<!-- 13 -->\n",
       "<g id=\"node14\" class=\"node\">\n",
       "<title>13</title>\n",
       "<polygon fill=\"#78bced\" stroke=\"black\" points=\"691,-68 593,-68 593,0 691,0 691,-68\"/>\n",
       "<text text-anchor=\"middle\" x=\"642\" y=\"-52.8\" font-family=\"Times New Roman,serif\" font-size=\"14.00\">gini = 0.366</text>\n",
       "<text text-anchor=\"middle\" x=\"642\" y=\"-37.8\" font-family=\"Times New Roman,serif\" font-size=\"14.00\">samples = 29</text>\n",
       "<text text-anchor=\"middle\" x=\"642\" y=\"-22.8\" font-family=\"Times New Roman,serif\" font-size=\"14.00\">value = [7, 22]</text>\n",
       "<text text-anchor=\"middle\" x=\"642\" y=\"-7.8\" font-family=\"Times New Roman,serif\" font-size=\"14.00\">class = yes</text>\n",
       "</g>\n",
       "<!-- 11&#45;&gt;13 -->\n",
       "<g id=\"edge13\" class=\"edge\">\n",
       "<title>11-&gt;13</title>\n",
       "<path fill=\"none\" stroke=\"black\" d=\"M604.34,-103.73C609.09,-95.06 614.11,-85.9 618.89,-77.18\"/>\n",
       "<polygon fill=\"black\" stroke=\"black\" points=\"622.02,-78.75 623.75,-68.3 615.88,-75.39 622.02,-78.75\"/>\n",
       "</g>\n",
       "<!-- 15 -->\n",
       "<g id=\"node16\" class=\"node\">\n",
       "<title>15</title>\n",
       "<polygon fill=\"#e68844\" stroke=\"black\" points=\"820.5,-68 709.5,-68 709.5,0 820.5,0 820.5,-68\"/>\n",
       "<text text-anchor=\"middle\" x=\"765\" y=\"-52.8\" font-family=\"Times New Roman,serif\" font-size=\"14.00\">gini = 0.097</text>\n",
       "<text text-anchor=\"middle\" x=\"765\" y=\"-37.8\" font-family=\"Times New Roman,serif\" font-size=\"14.00\">samples = 725</text>\n",
       "<text text-anchor=\"middle\" x=\"765\" y=\"-22.8\" font-family=\"Times New Roman,serif\" font-size=\"14.00\">value = [688, 37]</text>\n",
       "<text text-anchor=\"middle\" x=\"765\" y=\"-7.8\" font-family=\"Times New Roman,serif\" font-size=\"14.00\">class = no</text>\n",
       "</g>\n",
       "<!-- 14&#45;&gt;15 -->\n",
       "<g id=\"edge15\" class=\"edge\">\n",
       "<title>14-&gt;15</title>\n",
       "<path fill=\"none\" stroke=\"black\" d=\"M765,-103.73C765,-95.52 765,-86.86 765,-78.56\"/>\n",
       "<polygon fill=\"black\" stroke=\"black\" points=\"768.5,-78.3 765,-68.3 761.5,-78.3 768.5,-78.3\"/>\n",
       "</g>\n",
       "<!-- 16 -->\n",
       "<g id=\"node17\" class=\"node\">\n",
       "<title>16</title>\n",
       "<polygon fill=\"#f6d5bd\" stroke=\"black\" points=\"943,-68 839,-68 839,0 943,0 943,-68\"/>\n",
       "<text text-anchor=\"middle\" x=\"891\" y=\"-52.8\" font-family=\"Times New Roman,serif\" font-size=\"14.00\">gini = 0.48</text>\n",
       "<text text-anchor=\"middle\" x=\"891\" y=\"-37.8\" font-family=\"Times New Roman,serif\" font-size=\"14.00\">samples = 30</text>\n",
       "<text text-anchor=\"middle\" x=\"891\" y=\"-22.8\" font-family=\"Times New Roman,serif\" font-size=\"14.00\">value = [18, 12]</text>\n",
       "<text text-anchor=\"middle\" x=\"891\" y=\"-7.8\" font-family=\"Times New Roman,serif\" font-size=\"14.00\">class = no</text>\n",
       "</g>\n",
       "<!-- 14&#45;&gt;16 -->\n",
       "<g id=\"edge16\" class=\"edge\">\n",
       "<title>14-&gt;16</title>\n",
       "<path fill=\"none\" stroke=\"black\" d=\"M811.92,-103.73C822.73,-94.33 834.21,-84.35 844.99,-74.99\"/>\n",
       "<polygon fill=\"black\" stroke=\"black\" points=\"847.43,-77.5 852.68,-68.3 842.84,-72.22 847.43,-77.5\"/>\n",
       "</g>\n",
       "<!-- 18 -->\n",
       "<g id=\"node19\" class=\"node\">\n",
       "<title>18</title>\n",
       "<polygon fill=\"#399de5\" stroke=\"black\" points=\"779,-298.5 681,-298.5 681,-230.5 779,-230.5 779,-298.5\"/>\n",
       "<text text-anchor=\"middle\" x=\"730\" y=\"-283.3\" font-family=\"Times New Roman,serif\" font-size=\"14.00\">gini = 0.0</text>\n",
       "<text text-anchor=\"middle\" x=\"730\" y=\"-268.3\" font-family=\"Times New Roman,serif\" font-size=\"14.00\">samples = 12</text>\n",
       "<text text-anchor=\"middle\" x=\"730\" y=\"-253.3\" font-family=\"Times New Roman,serif\" font-size=\"14.00\">value = [0, 12]</text>\n",
       "<text text-anchor=\"middle\" x=\"730\" y=\"-238.3\" font-family=\"Times New Roman,serif\" font-size=\"14.00\">class = yes</text>\n",
       "</g>\n",
       "<!-- 17&#45;&gt;18 -->\n",
       "<g id=\"edge18\" class=\"edge\">\n",
       "<title>17-&gt;18</title>\n",
       "<path fill=\"none\" stroke=\"black\" d=\"M784.2,-341.91C776.22,-330.65 767.54,-318.42 759.52,-307.11\"/>\n",
       "<polygon fill=\"black\" stroke=\"black\" points=\"762.17,-304.8 753.53,-298.67 756.46,-308.85 762.17,-304.8\"/>\n",
       "</g>\n",
       "<!-- 19 -->\n",
       "<g id=\"node20\" class=\"node\">\n",
       "<title>19</title>\n",
       "<polygon fill=\"#e58139\" stroke=\"black\" points=\"888.5,-298.5 797.5,-298.5 797.5,-230.5 888.5,-230.5 888.5,-298.5\"/>\n",
       "<text text-anchor=\"middle\" x=\"843\" y=\"-283.3\" font-family=\"Times New Roman,serif\" font-size=\"14.00\">gini = 0.0</text>\n",
       "<text text-anchor=\"middle\" x=\"843\" y=\"-268.3\" font-family=\"Times New Roman,serif\" font-size=\"14.00\">samples = 1</text>\n",
       "<text text-anchor=\"middle\" x=\"843\" y=\"-253.3\" font-family=\"Times New Roman,serif\" font-size=\"14.00\">value = [1, 0]</text>\n",
       "<text text-anchor=\"middle\" x=\"843\" y=\"-238.3\" font-family=\"Times New Roman,serif\" font-size=\"14.00\">class = no</text>\n",
       "</g>\n",
       "<!-- 17&#45;&gt;19 -->\n",
       "<g id=\"edge19\" class=\"edge\">\n",
       "<title>17-&gt;19</title>\n",
       "<path fill=\"none\" stroke=\"black\" d=\"M823.41,-341.91C826.18,-331.09 829.19,-319.38 831.99,-308.44\"/>\n",
       "<polygon fill=\"black\" stroke=\"black\" points=\"835.4,-309.22 834.5,-298.67 828.62,-307.48 835.4,-309.22\"/>\n",
       "</g>\n",
       "<!-- 21 -->\n",
       "<g id=\"node22\" class=\"node\">\n",
       "<title>21</title>\n",
       "<polygon fill=\"#fbece1\" stroke=\"black\" points=\"1096,-425 930,-425 930,-342 1096,-342 1096,-425\"/>\n",
       "<text text-anchor=\"middle\" x=\"1013\" y=\"-409.8\" font-family=\"Times New Roman,serif\" font-size=\"14.00\">kurtosis_glucose &lt;= 0.918</text>\n",
       "<text text-anchor=\"middle\" x=\"1013\" y=\"-394.8\" font-family=\"Times New Roman,serif\" font-size=\"14.00\">gini = 0.497</text>\n",
       "<text text-anchor=\"middle\" x=\"1013\" y=\"-379.8\" font-family=\"Times New Roman,serif\" font-size=\"14.00\">samples = 24</text>\n",
       "<text text-anchor=\"middle\" x=\"1013\" y=\"-364.8\" font-family=\"Times New Roman,serif\" font-size=\"14.00\">value = [13, 11]</text>\n",
       "<text text-anchor=\"middle\" x=\"1013\" y=\"-349.8\" font-family=\"Times New Roman,serif\" font-size=\"14.00\">class = no</text>\n",
       "</g>\n",
       "<!-- 20&#45;&gt;21 -->\n",
       "<g id=\"edge21\" class=\"edge\">\n",
       "<title>20-&gt;21</title>\n",
       "<path fill=\"none\" stroke=\"black\" d=\"M1013,-460.91C1013,-452.65 1013,-443.86 1013,-435.3\"/>\n",
       "<polygon fill=\"black\" stroke=\"black\" points=\"1016.5,-435.02 1013,-425.02 1009.5,-435.02 1016.5,-435.02\"/>\n",
       "</g>\n",
       "<!-- 26 -->\n",
       "<g id=\"node27\" class=\"node\">\n",
       "<title>26</title>\n",
       "<polygon fill=\"#3d9fe6\" stroke=\"black\" points=\"1289.5,-425 1178.5,-425 1178.5,-342 1289.5,-342 1289.5,-425\"/>\n",
       "<text text-anchor=\"middle\" x=\"1234\" y=\"-409.8\" font-family=\"Times New Roman,serif\" font-size=\"14.00\">age &lt;= 29.5</text>\n",
       "<text text-anchor=\"middle\" x=\"1234\" y=\"-394.8\" font-family=\"Times New Roman,serif\" font-size=\"14.00\">gini = 0.043</text>\n",
       "<text text-anchor=\"middle\" x=\"1234\" y=\"-379.8\" font-family=\"Times New Roman,serif\" font-size=\"14.00\">samples = 865</text>\n",
       "<text text-anchor=\"middle\" x=\"1234\" y=\"-364.8\" font-family=\"Times New Roman,serif\" font-size=\"14.00\">value = [19, 846]</text>\n",
       "<text text-anchor=\"middle\" x=\"1234\" y=\"-349.8\" font-family=\"Times New Roman,serif\" font-size=\"14.00\">class = yes</text>\n",
       "</g>\n",
       "<!-- 20&#45;&gt;26 -->\n",
       "<g id=\"edge26\" class=\"edge\">\n",
       "<title>20-&gt;26</title>\n",
       "<path fill=\"none\" stroke=\"black\" d=\"M1083.53,-464.16C1111.11,-449.56 1142.53,-432.93 1169.5,-418.65\"/>\n",
       "<polygon fill=\"black\" stroke=\"black\" points=\"1171.26,-421.68 1178.46,-413.9 1167.99,-415.49 1171.26,-421.68\"/>\n",
       "</g>\n",
       "<!-- 22 -->\n",
       "<g id=\"node23\" class=\"node\">\n",
       "<title>22</title>\n",
       "<polygon fill=\"#eb9e67\" stroke=\"black\" points=\"1061.5,-306 906.5,-306 906.5,-223 1061.5,-223 1061.5,-306\"/>\n",
       "<text text-anchor=\"middle\" x=\"984\" y=\"-290.8\" font-family=\"Times New Roman,serif\" font-size=\"14.00\">mean_glucose &lt;= -0.579</text>\n",
       "<text text-anchor=\"middle\" x=\"984\" y=\"-275.8\" font-family=\"Times New Roman,serif\" font-size=\"14.00\">gini = 0.305</text>\n",
       "<text text-anchor=\"middle\" x=\"984\" y=\"-260.8\" font-family=\"Times New Roman,serif\" font-size=\"14.00\">samples = 16</text>\n",
       "<text text-anchor=\"middle\" x=\"984\" y=\"-245.8\" font-family=\"Times New Roman,serif\" font-size=\"14.00\">value = [13, 3]</text>\n",
       "<text text-anchor=\"middle\" x=\"984\" y=\"-230.8\" font-family=\"Times New Roman,serif\" font-size=\"14.00\">class = no</text>\n",
       "</g>\n",
       "<!-- 21&#45;&gt;22 -->\n",
       "<g id=\"edge22\" class=\"edge\">\n",
       "<title>21-&gt;22</title>\n",
       "<path fill=\"none\" stroke=\"black\" d=\"M1002.94,-341.91C1000.85,-333.47 998.62,-324.48 996.45,-315.74\"/>\n",
       "<polygon fill=\"black\" stroke=\"black\" points=\"999.85,-314.89 994.04,-306.02 993.05,-316.57 999.85,-314.89\"/>\n",
       "</g>\n",
       "<!-- 25 -->\n",
       "<g id=\"node26\" class=\"node\">\n",
       "<title>25</title>\n",
       "<polygon fill=\"#399de5\" stroke=\"black\" points=\"1170.5,-298.5 1079.5,-298.5 1079.5,-230.5 1170.5,-230.5 1170.5,-298.5\"/>\n",
       "<text text-anchor=\"middle\" x=\"1125\" y=\"-283.3\" font-family=\"Times New Roman,serif\" font-size=\"14.00\">gini = 0.0</text>\n",
       "<text text-anchor=\"middle\" x=\"1125\" y=\"-268.3\" font-family=\"Times New Roman,serif\" font-size=\"14.00\">samples = 8</text>\n",
       "<text text-anchor=\"middle\" x=\"1125\" y=\"-253.3\" font-family=\"Times New Roman,serif\" font-size=\"14.00\">value = [0, 8]</text>\n",
       "<text text-anchor=\"middle\" x=\"1125\" y=\"-238.3\" font-family=\"Times New Roman,serif\" font-size=\"14.00\">class = yes</text>\n",
       "</g>\n",
       "<!-- 21&#45;&gt;25 -->\n",
       "<g id=\"edge25\" class=\"edge\">\n",
       "<title>21-&gt;25</title>\n",
       "<path fill=\"none\" stroke=\"black\" d=\"M1051.86,-341.91C1062.95,-330.32 1075.03,-317.7 1086.12,-306.11\"/>\n",
       "<polygon fill=\"black\" stroke=\"black\" points=\"1088.86,-308.31 1093.25,-298.67 1083.81,-303.47 1088.86,-308.31\"/>\n",
       "</g>\n",
       "<!-- 23 -->\n",
       "<g id=\"node24\" class=\"node\">\n",
       "<title>23</title>\n",
       "<polygon fill=\"#e58139\" stroke=\"black\" points=\"985,-179.5 887,-179.5 887,-111.5 985,-111.5 985,-179.5\"/>\n",
       "<text text-anchor=\"middle\" x=\"936\" y=\"-164.3\" font-family=\"Times New Roman,serif\" font-size=\"14.00\">gini = 0.0</text>\n",
       "<text text-anchor=\"middle\" x=\"936\" y=\"-149.3\" font-family=\"Times New Roman,serif\" font-size=\"14.00\">samples = 13</text>\n",
       "<text text-anchor=\"middle\" x=\"936\" y=\"-134.3\" font-family=\"Times New Roman,serif\" font-size=\"14.00\">value = [13, 0]</text>\n",
       "<text text-anchor=\"middle\" x=\"936\" y=\"-119.3\" font-family=\"Times New Roman,serif\" font-size=\"14.00\">class = no</text>\n",
       "</g>\n",
       "<!-- 22&#45;&gt;23 -->\n",
       "<g id=\"edge23\" class=\"edge\">\n",
       "<title>22-&gt;23</title>\n",
       "<path fill=\"none\" stroke=\"black\" d=\"M967.35,-222.91C962.86,-211.98 958,-200.14 953.48,-189.11\"/>\n",
       "<polygon fill=\"black\" stroke=\"black\" points=\"956.64,-187.59 949.61,-179.67 950.16,-190.25 956.64,-187.59\"/>\n",
       "</g>\n",
       "<!-- 24 -->\n",
       "<g id=\"node25\" class=\"node\">\n",
       "<title>24</title>\n",
       "<polygon fill=\"#399de5\" stroke=\"black\" points=\"1094.5,-179.5 1003.5,-179.5 1003.5,-111.5 1094.5,-111.5 1094.5,-179.5\"/>\n",
       "<text text-anchor=\"middle\" x=\"1049\" y=\"-164.3\" font-family=\"Times New Roman,serif\" font-size=\"14.00\">gini = 0.0</text>\n",
       "<text text-anchor=\"middle\" x=\"1049\" y=\"-149.3\" font-family=\"Times New Roman,serif\" font-size=\"14.00\">samples = 3</text>\n",
       "<text text-anchor=\"middle\" x=\"1049\" y=\"-134.3\" font-family=\"Times New Roman,serif\" font-size=\"14.00\">value = [0, 3]</text>\n",
       "<text text-anchor=\"middle\" x=\"1049\" y=\"-119.3\" font-family=\"Times New Roman,serif\" font-size=\"14.00\">class = yes</text>\n",
       "</g>\n",
       "<!-- 22&#45;&gt;24 -->\n",
       "<g id=\"edge24\" class=\"edge\">\n",
       "<title>22-&gt;24</title>\n",
       "<path fill=\"none\" stroke=\"black\" d=\"M1006.55,-222.91C1012.74,-211.76 1019.47,-199.66 1025.7,-188.44\"/>\n",
       "<polygon fill=\"black\" stroke=\"black\" points=\"1028.78,-190.11 1030.57,-179.67 1022.66,-186.71 1028.78,-190.11\"/>\n",
       "</g>\n",
       "<!-- 27 -->\n",
       "<g id=\"node28\" class=\"node\">\n",
       "<title>27</title>\n",
       "<polygon fill=\"#e58139\" stroke=\"black\" points=\"1279.5,-298.5 1188.5,-298.5 1188.5,-230.5 1279.5,-230.5 1279.5,-298.5\"/>\n",
       "<text text-anchor=\"middle\" x=\"1234\" y=\"-283.3\" font-family=\"Times New Roman,serif\" font-size=\"14.00\">gini = 0.0</text>\n",
       "<text text-anchor=\"middle\" x=\"1234\" y=\"-268.3\" font-family=\"Times New Roman,serif\" font-size=\"14.00\">samples = 3</text>\n",
       "<text text-anchor=\"middle\" x=\"1234\" y=\"-253.3\" font-family=\"Times New Roman,serif\" font-size=\"14.00\">value = [3, 0]</text>\n",
       "<text text-anchor=\"middle\" x=\"1234\" y=\"-238.3\" font-family=\"Times New Roman,serif\" font-size=\"14.00\">class = no</text>\n",
       "</g>\n",
       "<!-- 26&#45;&gt;27 -->\n",
       "<g id=\"edge27\" class=\"edge\">\n",
       "<title>26-&gt;27</title>\n",
       "<path fill=\"none\" stroke=\"black\" d=\"M1234,-341.91C1234,-331.2 1234,-319.62 1234,-308.78\"/>\n",
       "<polygon fill=\"black\" stroke=\"black\" points=\"1237.5,-308.67 1234,-298.67 1230.5,-308.67 1237.5,-308.67\"/>\n",
       "</g>\n",
       "<!-- 28 -->\n",
       "<g id=\"node29\" class=\"node\">\n",
       "<title>28</title>\n",
       "<polygon fill=\"#3d9fe5\" stroke=\"black\" points=\"1464,-306 1298,-306 1298,-223 1464,-223 1464,-306\"/>\n",
       "<text text-anchor=\"middle\" x=\"1381\" y=\"-290.8\" font-family=\"Times New Roman,serif\" font-size=\"14.00\">kurtosis_glucose &lt;= 0.555</text>\n",
       "<text text-anchor=\"middle\" x=\"1381\" y=\"-275.8\" font-family=\"Times New Roman,serif\" font-size=\"14.00\">gini = 0.036</text>\n",
       "<text text-anchor=\"middle\" x=\"1381\" y=\"-260.8\" font-family=\"Times New Roman,serif\" font-size=\"14.00\">samples = 862</text>\n",
       "<text text-anchor=\"middle\" x=\"1381\" y=\"-245.8\" font-family=\"Times New Roman,serif\" font-size=\"14.00\">value = [16, 846]</text>\n",
       "<text text-anchor=\"middle\" x=\"1381\" y=\"-230.8\" font-family=\"Times New Roman,serif\" font-size=\"14.00\">class = yes</text>\n",
       "</g>\n",
       "<!-- 26&#45;&gt;28 -->\n",
       "<g id=\"edge28\" class=\"edge\">\n",
       "<title>26-&gt;28</title>\n",
       "<path fill=\"none\" stroke=\"black\" d=\"M1285,-341.91C1296.97,-332.38 1309.83,-322.15 1322.11,-312.37\"/>\n",
       "<polygon fill=\"black\" stroke=\"black\" points=\"1324.44,-314.99 1330.09,-306.02 1320.09,-309.51 1324.44,-314.99\"/>\n",
       "</g>\n",
       "<!-- 29 -->\n",
       "<g id=\"node30\" class=\"node\">\n",
       "<title>29</title>\n",
       "<polygon fill=\"#9ccef2\" stroke=\"black\" points=\"1360.5,-187 1269.5,-187 1269.5,-104 1360.5,-104 1360.5,-187\"/>\n",
       "<text text-anchor=\"middle\" x=\"1315\" y=\"-171.8\" font-family=\"Times New Roman,serif\" font-size=\"14.00\">age &lt;= 51.5</text>\n",
       "<text text-anchor=\"middle\" x=\"1315\" y=\"-156.8\" font-family=\"Times New Roman,serif\" font-size=\"14.00\">gini = 0.444</text>\n",
       "<text text-anchor=\"middle\" x=\"1315\" y=\"-141.8\" font-family=\"Times New Roman,serif\" font-size=\"14.00\">samples = 9</text>\n",
       "<text text-anchor=\"middle\" x=\"1315\" y=\"-126.8\" font-family=\"Times New Roman,serif\" font-size=\"14.00\">value = [3, 6]</text>\n",
       "<text text-anchor=\"middle\" x=\"1315\" y=\"-111.8\" font-family=\"Times New Roman,serif\" font-size=\"14.00\">class = yes</text>\n",
       "</g>\n",
       "<!-- 28&#45;&gt;29 -->\n",
       "<g id=\"edge29\" class=\"edge\">\n",
       "<title>28-&gt;29</title>\n",
       "<path fill=\"none\" stroke=\"black\" d=\"M1358.1,-222.91C1353.19,-214.2 1347.94,-204.9 1342.86,-195.89\"/>\n",
       "<polygon fill=\"black\" stroke=\"black\" points=\"1345.82,-194.01 1337.86,-187.02 1339.72,-197.45 1345.82,-194.01\"/>\n",
       "</g>\n",
       "<!-- 32 -->\n",
       "<g id=\"node33\" class=\"node\">\n",
       "<title>32</title>\n",
       "<polygon fill=\"#3c9fe5\" stroke=\"black\" points=\"1515.5,-187 1378.5,-187 1378.5,-104 1515.5,-104 1515.5,-187\"/>\n",
       "<text text-anchor=\"middle\" x=\"1447\" y=\"-171.8\" font-family=\"Times New Roman,serif\" font-size=\"14.00\">std_oxygen &lt;= 1.733</text>\n",
       "<text text-anchor=\"middle\" x=\"1447\" y=\"-156.8\" font-family=\"Times New Roman,serif\" font-size=\"14.00\">gini = 0.03</text>\n",
       "<text text-anchor=\"middle\" x=\"1447\" y=\"-141.8\" font-family=\"Times New Roman,serif\" font-size=\"14.00\">samples = 853</text>\n",
       "<text text-anchor=\"middle\" x=\"1447\" y=\"-126.8\" font-family=\"Times New Roman,serif\" font-size=\"14.00\">value = [13, 840]</text>\n",
       "<text text-anchor=\"middle\" x=\"1447\" y=\"-111.8\" font-family=\"Times New Roman,serif\" font-size=\"14.00\">class = yes</text>\n",
       "</g>\n",
       "<!-- 28&#45;&gt;32 -->\n",
       "<g id=\"edge32\" class=\"edge\">\n",
       "<title>28-&gt;32</title>\n",
       "<path fill=\"none\" stroke=\"black\" d=\"M1403.9,-222.91C1408.81,-214.2 1414.06,-204.9 1419.14,-195.89\"/>\n",
       "<polygon fill=\"black\" stroke=\"black\" points=\"1422.28,-197.45 1424.14,-187.02 1416.18,-194.01 1422.28,-197.45\"/>\n",
       "</g>\n",
       "<!-- 30 -->\n",
       "<g id=\"node31\" class=\"node\">\n",
       "<title>30</title>\n",
       "<polygon fill=\"#e58139\" stroke=\"black\" points=\"1255.5,-68 1164.5,-68 1164.5,0 1255.5,0 1255.5,-68\"/>\n",
       "<text text-anchor=\"middle\" x=\"1210\" y=\"-52.8\" font-family=\"Times New Roman,serif\" font-size=\"14.00\">gini = 0.0</text>\n",
       "<text text-anchor=\"middle\" x=\"1210\" y=\"-37.8\" font-family=\"Times New Roman,serif\" font-size=\"14.00\">samples = 3</text>\n",
       "<text text-anchor=\"middle\" x=\"1210\" y=\"-22.8\" font-family=\"Times New Roman,serif\" font-size=\"14.00\">value = [3, 0]</text>\n",
       "<text text-anchor=\"middle\" x=\"1210\" y=\"-7.8\" font-family=\"Times New Roman,serif\" font-size=\"14.00\">class = no</text>\n",
       "</g>\n",
       "<!-- 29&#45;&gt;30 -->\n",
       "<g id=\"edge30\" class=\"edge\">\n",
       "<title>29-&gt;30</title>\n",
       "<path fill=\"none\" stroke=\"black\" d=\"M1275.9,-103.73C1267.07,-94.51 1257.69,-84.74 1248.87,-75.53\"/>\n",
       "<polygon fill=\"black\" stroke=\"black\" points=\"1251.38,-73.1 1241.93,-68.3 1246.33,-77.94 1251.38,-73.1\"/>\n",
       "</g>\n",
       "<!-- 31 -->\n",
       "<g id=\"node32\" class=\"node\">\n",
       "<title>31</title>\n",
       "<polygon fill=\"#399de5\" stroke=\"black\" points=\"1364.5,-68 1273.5,-68 1273.5,0 1364.5,0 1364.5,-68\"/>\n",
       "<text text-anchor=\"middle\" x=\"1319\" y=\"-52.8\" font-family=\"Times New Roman,serif\" font-size=\"14.00\">gini = 0.0</text>\n",
       "<text text-anchor=\"middle\" x=\"1319\" y=\"-37.8\" font-family=\"Times New Roman,serif\" font-size=\"14.00\">samples = 6</text>\n",
       "<text text-anchor=\"middle\" x=\"1319\" y=\"-22.8\" font-family=\"Times New Roman,serif\" font-size=\"14.00\">value = [0, 6]</text>\n",
       "<text text-anchor=\"middle\" x=\"1319\" y=\"-7.8\" font-family=\"Times New Roman,serif\" font-size=\"14.00\">class = yes</text>\n",
       "</g>\n",
       "<!-- 29&#45;&gt;31 -->\n",
       "<g id=\"edge31\" class=\"edge\">\n",
       "<title>29-&gt;31</title>\n",
       "<path fill=\"none\" stroke=\"black\" d=\"M1316.49,-103.73C1316.79,-95.52 1317.11,-86.86 1317.41,-78.56\"/>\n",
       "<polygon fill=\"black\" stroke=\"black\" points=\"1320.92,-78.42 1317.78,-68.3 1313.92,-78.17 1320.92,-78.42\"/>\n",
       "</g>\n",
       "<!-- 33 -->\n",
       "<g id=\"node34\" class=\"node\">\n",
       "<title>33</title>\n",
       "<polygon fill=\"#3c9ee5\" stroke=\"black\" points=\"1499.5,-68 1388.5,-68 1388.5,0 1499.5,0 1499.5,-68\"/>\n",
       "<text text-anchor=\"middle\" x=\"1444\" y=\"-52.8\" font-family=\"Times New Roman,serif\" font-size=\"14.00\">gini = 0.026</text>\n",
       "<text text-anchor=\"middle\" x=\"1444\" y=\"-37.8\" font-family=\"Times New Roman,serif\" font-size=\"14.00\">samples = 847</text>\n",
       "<text text-anchor=\"middle\" x=\"1444\" y=\"-22.8\" font-family=\"Times New Roman,serif\" font-size=\"14.00\">value = [11, 836]</text>\n",
       "<text text-anchor=\"middle\" x=\"1444\" y=\"-7.8\" font-family=\"Times New Roman,serif\" font-size=\"14.00\">class = yes</text>\n",
       "</g>\n",
       "<!-- 32&#45;&gt;33 -->\n",
       "<g id=\"edge33\" class=\"edge\">\n",
       "<title>32-&gt;33</title>\n",
       "<path fill=\"none\" stroke=\"black\" d=\"M1445.88,-103.73C1445.66,-95.52 1445.42,-86.86 1445.19,-78.56\"/>\n",
       "<polygon fill=\"black\" stroke=\"black\" points=\"1448.68,-78.2 1444.91,-68.3 1441.69,-78.39 1448.68,-78.2\"/>\n",
       "</g>\n",
       "<!-- 34 -->\n",
       "<g id=\"node35\" class=\"node\">\n",
       "<title>34</title>\n",
       "<polygon fill=\"#9ccef2\" stroke=\"black\" points=\"1608.5,-68 1517.5,-68 1517.5,0 1608.5,0 1608.5,-68\"/>\n",
       "<text text-anchor=\"middle\" x=\"1563\" y=\"-52.8\" font-family=\"Times New Roman,serif\" font-size=\"14.00\">gini = 0.444</text>\n",
       "<text text-anchor=\"middle\" x=\"1563\" y=\"-37.8\" font-family=\"Times New Roman,serif\" font-size=\"14.00\">samples = 6</text>\n",
       "<text text-anchor=\"middle\" x=\"1563\" y=\"-22.8\" font-family=\"Times New Roman,serif\" font-size=\"14.00\">value = [2, 4]</text>\n",
       "<text text-anchor=\"middle\" x=\"1563\" y=\"-7.8\" font-family=\"Times New Roman,serif\" font-size=\"14.00\">class = yes</text>\n",
       "</g>\n",
       "<!-- 32&#45;&gt;34 -->\n",
       "<g id=\"edge34\" class=\"edge\">\n",
       "<title>32-&gt;34</title>\n",
       "<path fill=\"none\" stroke=\"black\" d=\"M1490.19,-103.73C1500.05,-94.42 1510.52,-84.54 1520.35,-75.26\"/>\n",
       "<polygon fill=\"black\" stroke=\"black\" points=\"1522.85,-77.71 1527.72,-68.3 1518.05,-72.62 1522.85,-77.71\"/>\n",
       "</g>\n",
       "</g>\n",
       "</svg>"
      ],
      "text/plain": [
       "<IPython.core.display.SVG object>"
      ]
     },
     "metadata": {},
     "output_type": "display_data"
    },
    {
     "data": {
      "text/html": [
       "<style>svg{width:40% !important;height:80% !important;}</style>"
      ],
      "text/plain": [
       "<IPython.core.display.HTML object>"
      ]
     },
     "execution_count": 17,
     "metadata": {},
     "output_type": "execute_result"
    }
   ],
   "source": [
    "from sklearn.tree import export_graphviz\n",
    "from graphviz import Source\n",
    "from IPython.display import SVG\n",
    "\n",
    "graph = Source(export_graphviz(model, \n",
    "                               out_file=None,\n",
    "                               feature_names=train_data_without_diabetes.columns,\n",
    "                               class_names=['no', 'yes'],\n",
    "                               filled = True))\n",
    "\n",
    "display(SVG(graph.pipe(format='svg')))\n",
    "\n",
    "from IPython.display import HTML\n",
    "style = \"<style>svg{width:40% !important;height:80% !important;}</style>\"\n",
    "HTML(style)"
   ]
  },
  {
   "cell_type": "code",
   "execution_count": 18,
   "metadata": {},
   "outputs": [],
   "source": [
    "train_data_tree = model.predict(train_data_without_diabetes)"
   ]
  },
  {
   "cell_type": "code",
   "execution_count": 19,
   "metadata": {},
   "outputs": [],
   "source": [
    "train_diabetes_original = train_data[\"diabetes_presence\"]"
   ]
  },
  {
   "cell_type": "code",
   "execution_count": 20,
   "metadata": {},
   "outputs": [
    {
     "name": "stdout",
     "output_type": "stream",
     "text": [
      "0.9663608562691132\n",
      "0.8884462151394422\n",
      "0.9780701754385965\n"
     ]
    }
   ],
   "source": [
    "from sklearn.metrics import accuracy_score\n",
    "from sklearn.metrics import precision_score\n",
    "from sklearn.metrics import recall_score\n",
    "\n",
    "print(accuracy_score(train_data_tree, train_diabetes_original))\n",
    "print(precision_score(train_data_tree, train_diabetes_original))\n",
    "print(recall_score(train_data_tree, train_diabetes_original))"
   ]
  },
  {
   "cell_type": "code",
   "execution_count": 21,
   "metadata": {},
   "outputs": [],
   "source": [
    "valid_data_without_diabetes = valid_data.drop(columns=[\"diabetes_presence\"])\n",
    "valid_data_diabetes = valid_data[\"diabetes_presence\"]"
   ]
  },
  {
   "cell_type": "code",
   "execution_count": 22,
   "metadata": {},
   "outputs": [],
   "source": [
    "valid_data_tree=model.predict(valid_data_without_diabetes)"
   ]
  },
  {
   "cell_type": "code",
   "execution_count": 23,
   "metadata": {},
   "outputs": [
    {
     "name": "stdout",
     "output_type": "stream",
     "text": [
      "0.9640122511485452\n",
      "0.9248554913294798\n",
      "0.9384164222873901\n"
     ]
    }
   ],
   "source": [
    "print(accuracy_score(valid_data_tree, valid_data_diabetes))\n",
    "print(precision_score(valid_data_tree, valid_data_diabetes))\n",
    "print(recall_score(valid_data_tree, valid_data_diabetes))"
   ]
  },
  {
   "cell_type": "markdown",
   "metadata": {},
   "source": [
    "# hyperparameter tuning"
   ]
  },
  {
   "cell_type": "code",
   "execution_count": 24,
   "metadata": {},
   "outputs": [],
   "source": [
    "from sklearn.ensemble import RandomForestClassifier\n",
    "from sklearn.model_selection import train_test_split\n",
    "from sklearn.model_selection import validation_curve"
   ]
  },
  {
   "cell_type": "code",
   "execution_count": 25,
   "metadata": {},
   "outputs": [],
   "source": [
    "def plot_valid_curve(param_range, train_scores_mean, train_scores_std, test_scores_mean, test_scores_std, title):\n",
    "    plt.title(title)\n",
    "    plt.xlabel(r\"$\\gamma$\")\n",
    "    plt.ylabel(\"Score\")\n",
    "    plt.ylim(0.95, 1.001)\n",
    "    lw = 2\n",
    "    plt.semilogx(param_range, \n",
    "                 train_scores_mean, \n",
    "                 label=\"Training score\",\n",
    "                 color=\"darkorange\", \n",
    "                 lw=lw\n",
    "                )\n",
    "    plt.fill_between(param_range, \n",
    "                     train_scores_mean - train_scores_std,\n",
    "                     train_scores_mean + train_scores_std, \n",
    "                     alpha=0.2,\n",
    "                     color=\"darkorange\", \n",
    "                     lw=lw\n",
    "                    )\n",
    "    plt.semilogx(param_range, \n",
    "                 test_scores_mean, \n",
    "                 label=\"Cross-validation score\",\n",
    "                 color=\"navy\", \n",
    "                 lw=lw\n",
    "                )\n",
    "    plt.fill_between(param_range, \n",
    "                     test_scores_mean - test_scores_std,\n",
    "                     test_scores_mean + test_scores_std, \n",
    "                     alpha=0.2,\n",
    "                     color=\"navy\", \n",
    "                     lw=lw\n",
    "                    )\n",
    "    plt.legend(loc=\"best\")    \n",
    "    return"
   ]
  },
  {
   "cell_type": "code",
   "execution_count": 26,
   "metadata": {},
   "outputs": [
    {
     "name": "stdout",
     "output_type": "stream",
     "text": [
      "3924 1306\n"
     ]
    }
   ],
   "source": [
    "print(len(train_data), len(valid_data))\n",
    "\n",
    "x_train, y_train = train_data.loc[:, train_data.columns != 'diabetes_presence'], train_data['diabetes_presence']\n",
    "x_valid, y_valid = valid_data.loc[:, valid_data.columns != 'diabetes_presence'], valid_data['diabetes_presence']"
   ]
  },
  {
   "cell_type": "code",
   "execution_count": 27,
   "metadata": {},
   "outputs": [
    {
     "name": "stdout",
     "output_type": "stream",
     "text": [
      "{'max': 10, 'min': 1}\n"
     ]
    }
   ],
   "source": [
    "param_range =   [1,5,10,20,30,40,50,100,1000] #[100, 300, 500, 750, 800, 1200]\n",
    "\n",
    "\n",
    "train_scores, test_scores = validation_curve(RandomForestClassifier(),\n",
    "                                             X = x_train, \n",
    "                                             y = y_train, \n",
    "                                             param_name = 'max_depth', \n",
    "                                             param_range = param_range, \n",
    "                                             scoring=\"accuracy\",\n",
    "                                             cv = 3\n",
    "                                            )\n",
    "train_scores_mean = np.mean(train_scores, axis=1)\n",
    "train_scores_std = np.std(train_scores, axis=1)\n",
    "test_scores_mean = np.mean(test_scores, axis=1)\n",
    "test_scores_std = np.std(test_scores, axis=1)\n",
    "\n",
    "# print(train_scores)\n",
    "# print(test_scores)\n",
    "\n",
    "mid_values = [row[1] for row in test_scores]\n",
    "\n",
    "# Zistenie Max a Min values pre testovanie vysledkov cross-validovania\n",
    "MAX_DEPTH = {\n",
    "    'max': param_range[mid_values.index(max(mid_values))],\n",
    "    'min': param_range[mid_values.index(min(mid_values))]\n",
    "}\n",
    "\n",
    "print(MAX_DEPTH)"
   ]
  },
  {
   "cell_type": "code",
   "execution_count": 28,
   "metadata": {},
   "outputs": [
    {
     "data": {
      "image/png": "[encoded data removed]",
      "text/plain": [
       "<Figure size 432x288 with 1 Axes>"
      ]
     },
     "metadata": {
      "needs_background": "light"
     },
     "output_type": "display_data"
    }
   ],
   "source": [
    "plot_valid_curve(param_range, train_scores_mean, train_scores_std, test_scores_mean, test_scores_std, \"max_depth\")"
   ]
  },
  {
   "cell_type": "code",
   "execution_count": 29,
   "metadata": {},
   "outputs": [
    {
     "name": "stdout",
     "output_type": "stream",
     "text": [
      "{'max': 20, 'min': 1}\n"
     ]
    }
   ],
   "source": [
    "param_range =   [1,5,10,20,30,40,50,100,2000] #[100, 300, 500, 750, 800, 1200]\n",
    "\n",
    "\n",
    "train_scores, test_scores = validation_curve(RandomForestClassifier(),\n",
    "                                             X = x_train, \n",
    "                                             y = y_train, \n",
    "                                             param_name = 'n_estimators', \n",
    "                                             param_range = param_range, \n",
    "                                             scoring=\"accuracy\",\n",
    "                                             cv = 3\n",
    "                                            )\n",
    "train_scores_mean = np.mean(train_scores, axis=1)\n",
    "train_scores_std = np.std(train_scores, axis=1)\n",
    "test_scores_mean = np.mean(test_scores, axis=1)\n",
    "test_scores_std = np.std(test_scores, axis=1)\n",
    "\n",
    "# print(train_scores)\n",
    "# print(test_scores)\n",
    "\n",
    "mid_values = [row[1] for row in test_scores]\n",
    "\n",
    "# Zistenie Max a Min values pre testovanie vysledkov cross-validovania\n",
    "N_ESTIMATORS = {\n",
    "    'max': param_range[mid_values.index(max(mid_values))],\n",
    "    'min': param_range[mid_values.index(min(mid_values))]\n",
    "}\n",
    "\n",
    "print(N_ESTIMATORS)"
   ]
  },
  {
   "cell_type": "code",
   "execution_count": 30,
   "metadata": {},
   "outputs": [
    {
     "data": {
      "image/png": "[encoded data removed]",
      "text/plain": [
       "<Figure size 432x288 with 1 Axes>"
      ]
     },
     "metadata": {
      "needs_background": "light"
     },
     "output_type": "display_data"
    }
   ],
   "source": [
    "plot_valid_curve(param_range, train_scores_mean, train_scores_std, test_scores_mean, test_scores_std,\"n_estimators\")"
   ]
  },
  {
   "cell_type": "code",
   "execution_count": 31,
   "metadata": {},
   "outputs": [
    {
     "name": "stdout",
     "output_type": "stream",
     "text": [
      "{'max': 2, 'min': 1000}\n"
     ]
    }
   ],
   "source": [
    "param_range =  [2,5,10,20,30,40,50,100,1000]  #[100, 300, 500, 750, 800, 1200]\n",
    "\n",
    "\n",
    "train_scores, test_scores = validation_curve(RandomForestClassifier(),\n",
    "                                             X = x_train, \n",
    "                                             y = y_train, \n",
    "                                             param_name = 'min_samples_split', \n",
    "                                             param_range = param_range, \n",
    "                                             scoring=\"accuracy\",\n",
    "                                             cv = 3\n",
    "                                            )\n",
    "train_scores_mean = np.mean(train_scores, axis=1)\n",
    "train_scores_std = np.std(train_scores, axis=1)\n",
    "test_scores_mean = np.mean(test_scores, axis=1)\n",
    "test_scores_std = np.std(test_scores, axis=1)\n",
    "\n",
    "# print(train_scores)\n",
    "# print(test_scores)\n",
    "mid_values = [row[1] for row in test_scores]\n",
    "\n",
    "# Zistenie Max a Min values pre testovanie vysledkov cross-validovania\n",
    "MIN_SAMPLES_SPLIT = {\n",
    "    'max': param_range[mid_values.index(max(mid_values))],\n",
    "    'min': param_range[mid_values.index(min(mid_values))]\n",
    "}\n",
    "\n",
    "print(MIN_SAMPLES_SPLIT)"
   ]
  },
  {
   "cell_type": "code",
   "execution_count": 32,
   "metadata": {},
   "outputs": [
    {
     "data": {
      "image/png": "[encoded data removed]",
      "text/plain": [
       "<Figure size 432x288 with 1 Axes>"
      ]
     },
     "metadata": {
      "needs_background": "light"
     },
     "output_type": "display_data"
    }
   ],
   "source": [
    "plot_valid_curve(param_range, train_scores_mean, train_scores_std, test_scores_mean, test_scores_std, \"min_samples_split\")"
   ]
  },
  {
   "cell_type": "code",
   "execution_count": 33,
   "metadata": {},
   "outputs": [
    {
     "name": "stdout",
     "output_type": "stream",
     "text": [
      "{'max': 1, 'min': 1000}\n"
     ]
    }
   ],
   "source": [
    "param_range =  [1,5,10,20,30,40,50,100,1000]  #[100, 300, 500, 750, 800, 1200]\n",
    "\n",
    "\n",
    "train_scores, test_scores = validation_curve(RandomForestClassifier(),\n",
    "                                             X = x_train, \n",
    "                                             y = y_train, \n",
    "                                             param_name = 'min_samples_leaf', \n",
    "                                             param_range = param_range, \n",
    "                                             scoring=\"accuracy\",\n",
    "                                             cv = 3\n",
    "                                            )\n",
    "train_scores_mean = np.mean(train_scores, axis=1)\n",
    "train_scores_std = np.std(train_scores, axis=1)\n",
    "test_scores_mean = np.mean(test_scores, axis=1)\n",
    "test_scores_std = np.std(test_scores, axis=1)\n",
    "\n",
    "# print(train_scores)\n",
    "# print(test_scores)\n",
    "\n",
    "mid_values = [row[1] for row in test_scores]\n",
    "\n",
    "# Zistenie Max a Min values pre testovanie vysledkov cross-validovania\n",
    "MIN_SAMPLES_LEAF = {\n",
    "    'max': param_range[mid_values.index(max(mid_values))],\n",
    "    'min': param_range[mid_values.index(min(mid_values))]\n",
    "}\n",
    "\n",
    "print(MIN_SAMPLES_LEAF)"
   ]
  },
  {
   "cell_type": "code",
   "execution_count": 34,
   "metadata": {},
   "outputs": [
    {
     "data": {
      "image/png": "[encoded data removed]",
      "text/plain": [
       "<Figure size 432x288 with 1 Axes>"
      ]
     },
     "metadata": {
      "needs_background": "light"
     },
     "output_type": "display_data"
    }
   ],
   "source": [
    "plot_valid_curve(param_range, train_scores_mean, train_scores_std, test_scores_mean, test_scores_std,\"min_samples_leaf\")"
   ]
  },
  {
   "cell_type": "code",
   "execution_count": 35,
   "metadata": {},
   "outputs": [
    {
     "name": "stdout",
     "output_type": "stream",
     "text": [
      "{'max': 1000, 'min': 40}\n"
     ]
    }
   ],
   "source": [
    "param_range =  [1,5,10,20,30,40,50,100,1000]  #[100, 300, 500, 750, 800, 1200]\n",
    "\n",
    "\n",
    "train_scores, test_scores = validation_curve(RandomForestClassifier(),\n",
    "                                             X = x_train, \n",
    "                                             y = y_train, \n",
    "                                             param_name = 'random_state', \n",
    "                                             param_range = param_range, \n",
    "                                             scoring=\"accuracy\",\n",
    "                                             cv = 3\n",
    "                                            )\n",
    "train_scores_mean = np.mean(train_scores, axis=1)\n",
    "train_scores_std = np.std(train_scores, axis=1)\n",
    "test_scores_mean = np.mean(test_scores, axis=1)\n",
    "test_scores_std = np.std(test_scores, axis=1)\n",
    "\n",
    "# print(train_scores)\n",
    "# print(test_scores)\n",
    "\n",
    "mid_values = [row[1] for row in test_scores]\n",
    "\n",
    "# Zistenie Max a Min values pre testovanie vysledkov cross-validovania\n",
    "RANDOM_STATE = {\n",
    "    'max': param_range[mid_values.index(max(mid_values))],\n",
    "    'min': param_range[mid_values.index(min(mid_values))]\n",
    "}\n",
    "\n",
    "print(RANDOM_STATE)"
   ]
  },
  {
   "cell_type": "code",
   "execution_count": 36,
   "metadata": {},
   "outputs": [
    {
     "data": {
      "image/png": "[encoded data removed]",
      "text/plain": [
       "<Figure size 432x288 with 1 Axes>"
      ]
     },
     "metadata": {
      "needs_background": "light"
     },
     "output_type": "display_data"
    }
   ],
   "source": [
    "plot_valid_curve(param_range, train_scores_mean, train_scores_std, test_scores_mean, test_scores_std,\"random_state\")"
   ]
  },
  {
   "cell_type": "code",
   "execution_count": 37,
   "metadata": {},
   "outputs": [],
   "source": [
    "def ForestClassifierTest(type, X_train, y_train, X_valid, y_valid):\n",
    "    # Testovanie maximalnych hodnot \n",
    "    forest = RandomForestClassifier(random_state = RANDOM_STATE[type],\n",
    "                                  n_estimators = N_ESTIMATORS[type],\n",
    "                                  max_depth = MAX_DEPTH[type], \n",
    "                                  min_samples_split = MIN_SAMPLES_SPLIT[type],  \n",
    "                                min_samples_leaf = MIN_SAMPLES_LEAF[type]\n",
    "                               ) \n",
    "\n",
    "\n",
    "    hyper_model = forest.fit(X_train, y_train)\n",
    "    y_pred = hyper_model.predict(X_valid)\n",
    "\n",
    "    return accuracy_score(y_valid, y_pred)"
   ]
  },
  {
   "cell_type": "code",
   "execution_count": 38,
   "metadata": {},
   "outputs": [
    {
     "data": {
      "text/plain": [
       "0.9632465543644717"
      ]
     },
     "execution_count": 38,
     "metadata": {},
     "output_type": "execute_result"
    }
   ],
   "source": [
    "ForestClassifierTest('max', x_train, y_train, x_valid, y_valid)"
   ]
  },
  {
   "cell_type": "code",
   "execution_count": 39,
   "metadata": {},
   "outputs": [
    {
     "data": {
      "text/plain": [
       "0.8078101071975498"
      ]
     },
     "execution_count": 39,
     "metadata": {},
     "output_type": "execute_result"
    }
   ],
   "source": [
    "ForestClassifierTest('min', x_train, y_train, x_valid, y_valid)"
   ]
  },
  {
   "cell_type": "markdown",
   "metadata": {},
   "source": [
    "# Vyhodnotenie vplyvu zvolenej stratégie riešenia na správnosť klasifikácie"
   ]
  },
  {
   "cell_type": "code",
   "execution_count": 40,
   "metadata": {},
   "outputs": [
    {
     "name": "stderr",
     "output_type": "stream",
     "text": [
      "d:\\programming\\python\\iau_projekt\\venv\\lib\\site-packages\\pandas\\core\\indexing.py:1765: SettingWithCopyWarning: \n",
      "A value is trying to be set on a copy of a slice from a DataFrame.\n",
      "Try using .loc[row_indexer,col_indexer] = value instead\n",
      "\n",
      "See the caveats in the documentation: https://pandas.pydata.org/pandas-docs/stable/user_guide/indexing.html#returning-a-view-versus-a-copy\n",
      "  isetter(loc, value)\n",
      "D:\\Programming\\Python\\IAU_projekt\\preprocessing.py:64: SettingWithCopyWarning: \n",
      "A value is trying to be set on a copy of a slice from a DataFrame.\n",
      "Try using .loc[row_indexer,col_indexer] = value instead\n",
      "\n",
      "See the caveats in the documentation: https://pandas.pydata.org/pandas-docs/stable/user_guide/indexing.html#returning-a-view-versus-a-copy\n",
      "  X[\"pregnant\"] = X[\"pregnant\"].map(format_pregnancy)\n",
      "D:\\Programming\\Python\\IAU_projekt\\preprocessing.py:52: SettingWithCopyWarning: \n",
      "A value is trying to be set on a copy of a slice from a DataFrame.\n",
      "Try using .loc[row_indexer,col_indexer] = value instead\n",
      "\n",
      "See the caveats in the documentation: https://pandas.pydata.org/pandas-docs/stable/user_guide/indexing.html#returning-a-view-versus-a-copy\n",
      "  X['sex'] = X[\"sex\"].map(fix_sex_value)\n",
      "d:\\programming\\python\\iau_projekt\\venv\\lib\\site-packages\\pandas\\core\\indexing.py:1765: SettingWithCopyWarning: \n",
      "A value is trying to be set on a copy of a slice from a DataFrame.\n",
      "Try using .loc[row_indexer,col_indexer] = value instead\n",
      "\n",
      "See the caveats in the documentation: https://pandas.pydata.org/pandas-docs/stable/user_guide/indexing.html#returning-a-view-versus-a-copy\n",
      "  isetter(loc, value)\n",
      "d:\\programming\\python\\iau_projekt\\venv\\lib\\site-packages\\pandas\\core\\indexing.py:1765: SettingWithCopyWarning: \n",
      "A value is trying to be set on a copy of a slice from a DataFrame.\n",
      "Try using .loc[row_indexer,col_indexer] = value instead\n",
      "\n",
      "See the caveats in the documentation: https://pandas.pydata.org/pandas-docs/stable/user_guide/indexing.html#returning-a-view-versus-a-copy\n",
      "  isetter(loc, value)\n",
      "D:\\Programming\\Python\\IAU_projekt\\preprocessing.py:64: SettingWithCopyWarning: \n",
      "A value is trying to be set on a copy of a slice from a DataFrame.\n",
      "Try using .loc[row_indexer,col_indexer] = value instead\n",
      "\n",
      "See the caveats in the documentation: https://pandas.pydata.org/pandas-docs/stable/user_guide/indexing.html#returning-a-view-versus-a-copy\n",
      "  X[\"pregnant\"] = X[\"pregnant\"].map(format_pregnancy)\n",
      "D:\\Programming\\Python\\IAU_projekt\\preprocessing.py:52: SettingWithCopyWarning: \n",
      "A value is trying to be set on a copy of a slice from a DataFrame.\n",
      "Try using .loc[row_indexer,col_indexer] = value instead\n",
      "\n",
      "See the caveats in the documentation: https://pandas.pydata.org/pandas-docs/stable/user_guide/indexing.html#returning-a-view-versus-a-copy\n",
      "  X['sex'] = X[\"sex\"].map(fix_sex_value)\n",
      "d:\\programming\\python\\iau_projekt\\venv\\lib\\site-packages\\pandas\\core\\indexing.py:1765: SettingWithCopyWarning: \n",
      "A value is trying to be set on a copy of a slice from a DataFrame.\n",
      "Try using .loc[row_indexer,col_indexer] = value instead\n",
      "\n",
      "See the caveats in the documentation: https://pandas.pydata.org/pandas-docs/stable/user_guide/indexing.html#returning-a-view-versus-a-copy\n",
      "  isetter(loc, value)\n"
     ]
    },
    {
     "name": "stdout",
     "output_type": "stream",
     "text": [
      "Median stlpca education-num 10.0\n",
      "Median stlpca capital-gain 0.0\n",
      "Median stlpca age 52.0\n",
      "Median stlpca pregnant 0.0\n",
      "Median stlpca hours-per-week 40.0\n",
      "Median stlpca capital-loss 0.0\n",
      "Median stlpca education-num 10.0\n",
      "Median stlpca capital-gain 0.0\n",
      "Median stlpca age 52.0\n",
      "Median stlpca pregnant 0.0\n",
      "Median stlpca hours-per-week 40.0\n",
      "Median stlpca capital-loss 0.0\n"
     ]
    }
   ],
   "source": [
    "train_data_2 = preprocessing.preprocess_dataset(medical_train, personal_train, 2)\n",
    "valid_data_2 = preprocessing.preprocess_dataset(medical_valid, personal_valid, 2)"
   ]
  },
  {
   "cell_type": "code",
   "execution_count": 41,
   "metadata": {},
   "outputs": [],
   "source": [
    "X_train_2 = train_data_2.drop(columns=[\"diabetes_presence\"])\n",
    "y_train_2 = train_data_2[\"diabetes_presence\"]\n",
    "model2 = DecisionTreeClassifier(max_depth=5)\n",
    "model2 = model2.fit(X_train_2, y_train_2)\n",
    "\n",
    "train_2_predict = model2.predict(X_train_2)"
   ]
  },
  {
   "cell_type": "code",
   "execution_count": 42,
   "metadata": {},
   "outputs": [
    {
     "name": "stdout",
     "output_type": "stream",
     "text": [
      "0.9663608562691132\n",
      "0.8884462151394422\n",
      "0.9780701754385965\n"
     ]
    }
   ],
   "source": [
    "print(accuracy_score(train_2_predict, y_train_2))\n",
    "print(precision_score(train_2_predict, y_train_2))\n",
    "print(recall_score(train_2_predict, y_train_2))"
   ]
  },
  {
   "cell_type": "code",
   "execution_count": 43,
   "metadata": {},
   "outputs": [],
   "source": [
    "x_train_2, y_train_2 = train_data_2.loc[:, train_data_2.columns != 'diabetes_presence'], train_data_2['diabetes_presence']\n",
    "x_valid_2, y_valid_2 = valid_data_2.loc[:, valid_data_2.columns != 'diabetes_presence'], valid_data_2['diabetes_presence']"
   ]
  },
  {
   "cell_type": "code",
   "execution_count": 44,
   "metadata": {},
   "outputs": [
    {
     "name": "stdout",
     "output_type": "stream",
     "text": [
      "Prvy preprocessing 0.9632465543644717\n",
      "Druhy preprocessing 0.9617151607963247\n"
     ]
    }
   ],
   "source": [
    "# Vypocitanie vysledokov z druheho typu preprocesingu s vypocitanymi hyperparametrami\n",
    "data_max_1 = ForestClassifierTest('max', x_train, y_train, x_valid, y_valid)\n",
    "data_max_2 = ForestClassifierTest('max', x_train_2, y_train_2, x_valid_2, y_valid_2)\n",
    "\n",
    "print(f'Prvy preprocessing {data_max_1}')\n",
    "print(f'Druhy preprocessing {data_max_2}')\n"
   ]
  },
  {
   "cell_type": "code",
   "execution_count": 45,
   "metadata": {},
   "outputs": [
    {
     "name": "stdout",
     "output_type": "stream",
     "text": [
      "Prvy preprocessing 0.8078101071975498\n",
      "Druhy preprocessing 0.8101071975497703\n"
     ]
    }
   ],
   "source": [
    "# Vypocitanie vysledokov z druheho typu preprocesingu s vypocitanymi hyperparametrami\n",
    "data_min_1 = ForestClassifierTest('min', x_train, y_train, x_valid, y_valid)\n",
    "data_min_2 = ForestClassifierTest('min', x_train_2, y_train_2, x_valid_2, y_valid_2)\n",
    "\n",
    "print(f'Prvy preprocessing {data_min_1}')\n",
    "print(f'Druhy preprocessing {data_min_2}')\n"
   ]
  },
  {
   "cell_type": "code",
   "execution_count": null,
   "metadata": {},
   "outputs": [],
   "source": []
  }
 ],
 "metadata": {
  "kernelspec": {
   "display_name": "Python 3",
   "language": "python",
   "name": "python3"
  },
  "language_info": {
   "codemirror_mode": {
    "name": "ipython",
    "version": 3
   },
   "file_extension": ".py",
   "mimetype": "text/x-python",
   "name": "python",
   "nbconvert_exporter": "python",
   "pygments_lexer": "ipython3",
   "version": "3.8.1"
  }
 },
 "nbformat": 4,
 "nbformat_minor": 1
}
