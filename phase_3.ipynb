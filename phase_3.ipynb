{
 "cells": [
  {
   "cell_type": "code",
   "execution_count": 121,
   "metadata": {
    "pycharm": {
     "is_executing": true,
     "name": "#%%\n"
    }
   },
   "outputs": [],
   "source": [
    "import pandas as pd\n",
    "import numpy as np\n",
    "import matplotlib.pyplot as plt\n",
    "import seaborn as sns\n",
    "import preprocessing"
   ]
  },
  {
   "cell_type": "markdown",
   "metadata": {
    "pycharm": {
     "name": "#%% md\n"
    }
   },
   "source": [
    "## Predspracovanie datasetov\n",
    "\n",
    "Na predspracovanie oboch datasetov bolo nutné premiestniť všetky potrebné funkcie a triedy, vytvorené v predchádzajúcej\n",
    "fáze projektu do novovytvoreného súboru preprocessing.py. V danom súbore sme vytvorili funkciu, ktorá ako argument berie\n",
    ".csv súbory pre osobné a aj medicínske dáta, spojí ich do jedného datasetu, ktorý následne upraví pomocou našej\n",
    "pipeline. Po predspracovaní nám vráti upravený dataset, s ktorým už môžeme ďalej pracovať. Túto funkciu zavoláme pre\n",
    "trénovací, ako aj validačný dataset.\n",
    "\n",
    "Ako môžeme nižšie vidieť, proces predspracovania prebehol správne, oba datasety obsahujú rovnaké atribúty, majú všade\n",
    "len jeden dátový typ a sú bez akýchkoľvek chýbajúcich hodnôt."
   ]
  },
  {
   "cell_type": "code",
   "execution_count": 122,
   "metadata": {
    "pycharm": {
     "name": "#%%\n"
    }
   },
   "outputs": [
    {
     "name": "stdout",
     "output_type": "stream",
     "text": [
      "Median stlpca education-num 10.0\n",
      "Median stlpca capital-gain 0.0\n",
      "Median stlpca age 52.0\n",
      "Median stlpca pregnant 0.0\n",
      "Median stlpca hours-per-week 40.0\n",
      "Median stlpca capital-loss 0.0\n",
      "<class 'pandas.core.frame.DataFrame'>\n",
      "RangeIndex: 3924 entries, 0 to 3923\n",
      "Data columns (total 17 columns):\n",
      " #   Column             Non-Null Count  Dtype  \n",
      "---  ------             --------------  -----  \n",
      " 0   age                3924 non-null   float64\n",
      " 1   sex                3924 non-null   float64\n",
      " 2   kurtosis_oxygen    3924 non-null   float64\n",
      " 3   pregnant           3924 non-null   float64\n",
      " 4   education-num      3924 non-null   float64\n",
      " 5   skewness_glucose   3924 non-null   float64\n",
      " 6   mean_glucose       3924 non-null   float64\n",
      " 7   std_oxygen         3924 non-null   float64\n",
      " 8   capital-gain       3924 non-null   float64\n",
      " 9   skewness_oxygen    3924 non-null   float64\n",
      " 10  kurtosis_glucose   3924 non-null   float64\n",
      " 11  final_weight       3924 non-null   float64\n",
      " 12  diabetes_presence  3924 non-null   float64\n",
      " 13  std_glucose        3924 non-null   float64\n",
      " 14  mean_oxygen        3924 non-null   float64\n",
      " 15  hours-per-week     3924 non-null   float64\n",
      " 16  capital-loss       3924 non-null   float64\n",
      "dtypes: float64(17)\n",
      "memory usage: 521.2 KB\n"
     ]
    },
    {
     "name": "stderr",
     "output_type": "stream",
     "text": [
      "d:\\dokumenty\\stu - fiit\\5. sem\\iau\\projekt\\venv\\lib\\site-packages\\pandas\\core\\indexing.py:1765: SettingWithCopyWarning: \n",
      "A value is trying to be set on a copy of a slice from a DataFrame.\n",
      "Try using .loc[row_indexer,col_indexer] = value instead\n",
      "\n",
      "See the caveats in the documentation: https://pandas.pydata.org/pandas-docs/stable/user_guide/indexing.html#returning-a-view-versus-a-copy\n",
      "  isetter(loc, value)\n",
      "D:\\Dokumenty\\STU - FIIT\\5. sem\\IAU\\projekt\\preprocessing.py:64: SettingWithCopyWarning: \n",
      "A value is trying to be set on a copy of a slice from a DataFrame.\n",
      "Try using .loc[row_indexer,col_indexer] = value instead\n",
      "\n",
      "See the caveats in the documentation: https://pandas.pydata.org/pandas-docs/stable/user_guide/indexing.html#returning-a-view-versus-a-copy\n",
      "  X[\"pregnant\"] = X[\"pregnant\"].map(format_pregnancy)\n",
      "D:\\Dokumenty\\STU - FIIT\\5. sem\\IAU\\projekt\\preprocessing.py:52: SettingWithCopyWarning: \n",
      "A value is trying to be set on a copy of a slice from a DataFrame.\n",
      "Try using .loc[row_indexer,col_indexer] = value instead\n",
      "\n",
      "See the caveats in the documentation: https://pandas.pydata.org/pandas-docs/stable/user_guide/indexing.html#returning-a-view-versus-a-copy\n",
      "  X['sex'] = X[\"sex\"].map(fix_sex_value)\n",
      "d:\\dokumenty\\stu - fiit\\5. sem\\iau\\projekt\\venv\\lib\\site-packages\\pandas\\core\\indexing.py:1765: SettingWithCopyWarning: \n",
      "A value is trying to be set on a copy of a slice from a DataFrame.\n",
      "Try using .loc[row_indexer,col_indexer] = value instead\n",
      "\n",
      "See the caveats in the documentation: https://pandas.pydata.org/pandas-docs/stable/user_guide/indexing.html#returning-a-view-versus-a-copy\n",
      "  isetter(loc, value)\n"
     ]
    }
   ],
   "source": [
    "medical_train = pd.read_csv(\"dataset/other_train.csv\")\n",
    "personal_train = pd.read_csv(\"dataset/personal_train.csv\")\n",
    "\n",
    "train_data = preprocessing.preprocess_dataset(medical_train, personal_train)\n",
    "train_data.info()"
   ]
  },
  {
   "cell_type": "code",
   "execution_count": 123,
   "metadata": {
    "pycharm": {
     "name": "#%%\n"
    }
   },
   "outputs": [
    {
     "name": "stdout",
     "output_type": "stream",
     "text": [
      "Median stlpca education-num 10.0\n",
      "Median stlpca capital-gain 0.0\n",
      "Median stlpca age 52.0\n",
      "Median stlpca pregnant 0.0\n",
      "Median stlpca hours-per-week 40.0\n",
      "Median stlpca capital-loss 0.0\n",
      "<class 'pandas.core.frame.DataFrame'>\n",
      "RangeIndex: 1306 entries, 0 to 1305\n",
      "Data columns (total 17 columns):\n",
      " #   Column             Non-Null Count  Dtype  \n",
      "---  ------             --------------  -----  \n",
      " 0   age                1306 non-null   float64\n",
      " 1   sex                1306 non-null   float64\n",
      " 2   kurtosis_oxygen    1306 non-null   float64\n",
      " 3   pregnant           1306 non-null   float64\n",
      " 4   education-num      1306 non-null   float64\n",
      " 5   skewness_glucose   1306 non-null   float64\n",
      " 6   mean_glucose       1306 non-null   float64\n",
      " 7   std_oxygen         1306 non-null   float64\n",
      " 8   capital-gain       1306 non-null   float64\n",
      " 9   skewness_oxygen    1306 non-null   float64\n",
      " 10  kurtosis_glucose   1306 non-null   float64\n",
      " 11  final_weight       1306 non-null   float64\n",
      " 12  diabetes_presence  1306 non-null   float64\n",
      " 13  std_glucose        1306 non-null   float64\n",
      " 14  mean_oxygen        1306 non-null   float64\n",
      " 15  hours-per-week     1306 non-null   float64\n",
      " 16  capital-loss       1306 non-null   float64\n",
      "dtypes: float64(17)\n",
      "memory usage: 173.5 KB\n"
     ]
    },
    {
     "name": "stderr",
     "output_type": "stream",
     "text": [
      "d:\\dokumenty\\stu - fiit\\5. sem\\iau\\projekt\\venv\\lib\\site-packages\\pandas\\core\\indexing.py:1765: SettingWithCopyWarning: \n",
      "A value is trying to be set on a copy of a slice from a DataFrame.\n",
      "Try using .loc[row_indexer,col_indexer] = value instead\n",
      "\n",
      "See the caveats in the documentation: https://pandas.pydata.org/pandas-docs/stable/user_guide/indexing.html#returning-a-view-versus-a-copy\n",
      "  isetter(loc, value)\n",
      "D:\\Dokumenty\\STU - FIIT\\5. sem\\IAU\\projekt\\preprocessing.py:64: SettingWithCopyWarning: \n",
      "A value is trying to be set on a copy of a slice from a DataFrame.\n",
      "Try using .loc[row_indexer,col_indexer] = value instead\n",
      "\n",
      "See the caveats in the documentation: https://pandas.pydata.org/pandas-docs/stable/user_guide/indexing.html#returning-a-view-versus-a-copy\n",
      "  X[\"pregnant\"] = X[\"pregnant\"].map(format_pregnancy)\n",
      "D:\\Dokumenty\\STU - FIIT\\5. sem\\IAU\\projekt\\preprocessing.py:52: SettingWithCopyWarning: \n",
      "A value is trying to be set on a copy of a slice from a DataFrame.\n",
      "Try using .loc[row_indexer,col_indexer] = value instead\n",
      "\n",
      "See the caveats in the documentation: https://pandas.pydata.org/pandas-docs/stable/user_guide/indexing.html#returning-a-view-versus-a-copy\n",
      "  X['sex'] = X[\"sex\"].map(fix_sex_value)\n",
      "d:\\dokumenty\\stu - fiit\\5. sem\\iau\\projekt\\venv\\lib\\site-packages\\pandas\\core\\indexing.py:1765: SettingWithCopyWarning: \n",
      "A value is trying to be set on a copy of a slice from a DataFrame.\n",
      "Try using .loc[row_indexer,col_indexer] = value instead\n",
      "\n",
      "See the caveats in the documentation: https://pandas.pydata.org/pandas-docs/stable/user_guide/indexing.html#returning-a-view-versus-a-copy\n",
      "  isetter(loc, value)\n"
     ]
    }
   ],
   "source": [
    "medical_valid = pd.read_csv(\"dataset/other_valid.csv\")\n",
    "personal_valid = pd.read_csv(\"dataset/personal_valid.csv\")\n",
    "\n",
    "valid_data = preprocessing.preprocess_dataset(medical_valid, personal_valid)\n",
    "valid_data.info()"
   ]
  },
  {
   "cell_type": "markdown",
   "metadata": {
    "pycharm": {
     "name": "#%% md\n"
    }
   },
   "source": [
    "## Manuálne vytvorenie a vyhodnotenie rozhodovacích pravidiel pre klasifikáciu"
   ]
  },
  {
   "cell_type": "code",
   "execution_count": 124,
   "metadata": {
    "pycharm": {
     "name": "#%%\n"
    }
   },
   "outputs": [
    {
     "data": {
      "text/plain": [
       "<AxesSubplot:xlabel='diabetes_presence', ylabel='kurtosis_glucose'>"
      ]
     },
     "execution_count": 124,
     "metadata": {},
     "output_type": "execute_result"
    },
    {
     "data": {
      "image/png": "[encoded data removed]",
      "text/plain": [
       "<Figure size 1080x720 with 1 Axes>"
      ]
     },
     "metadata": {
      "needs_background": "light"
     },
     "output_type": "display_data"
    }
   ],
   "source": [
    "columns = [\"kurtosis_oxygen\", \"skewness_oxygen\", \"mean_oxygen\", \"std_oxygen\",\n",
    "           \"kurtosis_glucose\", \"skewness_glucose\", \"mean_glucose\", \"std_glucose\"]\n",
    "\n",
    "fig_b = plt.subplots(figsize = (15, 10))\n",
    "sns.boxplot(y = \"kurtosis_glucose\", x = \"diabetes_presence\", data= train_data)"
   ]
  },
  {
   "cell_type": "markdown",
   "metadata": {
    "pycharm": {
     "name": "#%% md\n"
    }
   },
   "source": [
    "Následne sme vytvorili náš vlastný rozhodovací strom. Ako parametre sme mu poskytli trénovací dataset a súbor pravidiel.\n",
    "Tie sú uložené v zozname, v ktorom je každé pravidlo reprezentované jedným elementom. Jednotlivé pravidlá sú taktiež\n",
    "reprezentované zoznamom. Ten obsahuje atribúty, spolu s číselnou hodnotou, pomocou ktorých budeme dáta v strome rozdeľovať.\n",
    "Okrem toho musí obsahovať aj operátor >, alebo <, aby sme vedeli dáta správne porovnať. Tie sú reprezentované pomocou\n",
    "knižnice operator.\n",
    "\n",
    "Jednotlivé vrcholy v strome sú vytvorené manuálne vo funkcií create_tree(). Pri tvorení nového vrcholu, ako parametre\n",
    "posúvame aktuálny dataset, pravidlo (rule), podľa ktorého budeme dataset rozdeľovať a ak sa jedná o listy, tak aj\n",
    "zdravotný stav pacienta (condition). V tom prípade nebude nutné dataset už daľej rozdeľovať. Ale ak aktuálny vrchol ešte\n",
    "nie je list, tak sa spúšťa funkcia split_dataset(), v ktorej podľa aktuálneho pravidla určíme, ktorá časť dát pôjde do\n",
    "ľavej a ktorá do pravej vetvy stromu. V našom prípade idú do ľava tie dáta, ktoré spĺňajú podmienky pravidla, do pravej\n",
    "tie, čo nespĺňajú.\n",
    "\n",
    "Po vytvorení stromu vo funkcií assign_diabetes_presence() prechádzame celým stromom, až k listom, kde výsledným dátam\n",
    "priradíme hodnotu 1, ak predpokladáme, že sú chorí a 0 ak majú byť zdraví. Nami ohodnotené dáta ukladáme do premennej\n",
    "categorized_data, čo je vlastne nový Pandas data frame. Ten budeme porovnávať soriginálnym datasetom, vďaka čomu budeme\n",
    "môcť zistiť aké  hodnoty nadobúdajú TP, TN, FP a FN. Podľa nich vyrátame ostatné metriky a následne môžeme náš\n",
    "rozhodovací strom vyhodnotiť."
   ]
  },
  {
   "cell_type": "code",
   "execution_count": 125,
   "metadata": {
    "pycharm": {
     "name": "#%%\n"
    }
   },
   "outputs": [],
   "source": [
    "import operator\n",
    "\n",
    "\n",
    "class Node:\n",
    "    def __init__(self, data, rule, condition = None):\n",
    "        self.data = data\n",
    "        self.condition = condition\n",
    "        self.left = None\n",
    "        self.right = None\n",
    "        \n",
    "        if condition is None:\n",
    "            self.l_data, self.r_data = self.split_dataset(rule)\n",
    "        else:\n",
    "            self.l_data = None\n",
    "            self.r_data = None\n",
    "            \n",
    "\n",
    "    def split_dataset(self, rule):\n",
    "        l_data = None\n",
    "\n",
    "        if len(rule) == 1:\n",
    "            if rule[0][1] == operator.lt:\n",
    "                l_data = self.data[self.data[rule[0][0][0]] < rule[0][0][1]]\n",
    "            else:\n",
    "                l_data = self.data[self.data[rule[0][0][0]] > rule[0][0][1]]\n",
    "\n",
    "        elif len(rule) == 2:\n",
    "            if rule[0][1] == operator.lt and rule[1][1] == operator.lt:\n",
    "                l_data = self.data[(self.data[rule[0][0][0]] < rule[0][0][1]) & (self.data[rule[1][0][0]] < rule[1][0][1])]\n",
    "\n",
    "            if rule[0][1] == operator.gt and rule[1][1] == operator.gt:\n",
    "                l_data = self.data[(self.data[rule[0][0][0]] > rule[0][0][1]) & (self.data[rule[1][0][0]] > rule[1][0][1])]\n",
    "\n",
    "            if rule[0][1] == operator.lt and rule[1][1] == operator.gt:\n",
    "                l_data = self.data[(self.data[rule[0][0][0]] < rule[0][0][1]) & (self.data[rule[1][0][0]] > rule[1][0][1])]\n",
    "\n",
    "            if rule[0][1] == operator.gt and rule[1][1] == operator.lt:\n",
    "                l_data = self.data[(self.data[rule[0][0][0]] > rule[0][0][1]) & (self.data[rule[1][0][0]] < rule[1][0][1])]\n",
    "                \n",
    "        r_data = pd.concat([self.data, l_data]).drop_duplicates(keep = False)\n",
    "        return l_data, r_data\n"
   ]
  },
  {
   "cell_type": "code",
   "execution_count": 126,
   "metadata": {
    "pycharm": {
     "name": "#%%\n"
    }
   },
   "outputs": [],
   "source": [
    "class Tree:\n",
    "    def __init__(self, data, rules):\n",
    "        self.data = data\n",
    "        self.rules = rules\n",
    "        self.categorized_data = pd.DataFrame(columns = self.data.columns)\n",
    "        self.root = Node(self.data, self.rules[0])\n",
    "\n",
    "        # binary classifiers\n",
    "        self.tp = 0\n",
    "        self.tn = 0\n",
    "        self.fp = 0\n",
    "        self.fn = 0\n",
    "\n",
    "\n",
    "    def create_tree(self, root):\n",
    "        # left branch\n",
    "        root.left = Node(root.l_data, self.rules[2])\n",
    "        root.left.left = Node(root.left.l_data, self.rules[1])\n",
    "        root.left.right = Node(root.left.r_data, [], False)\n",
    "        root.left.left.left = Node(root.left.left.l_data, [], True)\n",
    "        root.left.left.right = Node(root.left.left.r_data, [], False)\n",
    "\n",
    "        # right branch\n",
    "        root.right = Node(root.r_data, self.rules[4])\n",
    "        root.right.left = Node(root.right.l_data, [], True)\n",
    "        root.right.right = Node(root.right.r_data, self.rules[3])\n",
    "        root.right.right.left = Node(root.right.right.l_data, [], True)\n",
    "        root.right.right.right = Node(root.right.right.r_data, [], False)\n",
    "\n",
    "\n",
    "    def assign_diabetes_presence(self, curr):\n",
    "        \n",
    "        if curr.left is None:\n",
    "            to_add = curr.data.copy()\n",
    "            if curr.condition == True:\n",
    "                to_add[\"diabetes_presence\"] = 1\n",
    "            else:\n",
    "                to_add[\"diabetes_presence\"] = 0\n",
    "            self.categorized_data = pd.concat([self.categorized_data, to_add])\n",
    "            return\n",
    "\n",
    "        if curr.right is None:\n",
    "            to_add = curr.data.copy()\n",
    "            if curr.condition == True:\n",
    "                to_add[\"diabetes_presence\"] = 1\n",
    "            else:\n",
    "                to_add[\"diabetes_presence\"] = 0\n",
    "            self.categorized_data = pd.concat([self.categorized_data, to_add])\n",
    "            return\n",
    "\n",
    "        self.assign_diabetes_presence(curr.left)\n",
    "        self.assign_diabetes_presence(curr.right)\n",
    "\n",
    "\n",
    "    def get_binary_classification(self, row):\n",
    "        \n",
    "        to_compare = self.categorized_data.loc[self.categorized_data.index.values == row.name]\n",
    "\n",
    "        if to_compare[\"diabetes_presence\"].values == 1 and row[\"diabetes_presence\"] == 1:\n",
    "            self.tp += 1\n",
    "        if to_compare[\"diabetes_presence\"].values == 0 and row[\"diabetes_presence\"] == 0:\n",
    "            self.tn += 1\n",
    "        if to_compare[\"diabetes_presence\"].values == 1 and row[\"diabetes_presence\"] == 0:\n",
    "            self.fp += 1\n",
    "        if to_compare[\"diabetes_presence\"].values == 0 and row[\"diabetes_presence\"] == 1:\n",
    "            self.fn += 1\n",
    "\n",
    "\n",
    "    def calculate_accuracy(self):\n",
    "        return (self.tp + self.tn) / len(self.data)\n",
    "\n",
    "    def calculate_precision(self):\n",
    "        return self.tp / (self.tp + self.fp)\n",
    "\n",
    "    def calculate_recall(self):\n",
    "        return self.tp / (self.tp + self.fn)\n",
    "\n",
    "    def calculate_f1_score(self):\n",
    "        p = self.calculate_precision()\n",
    "        r = self.calculate_recall()\n",
    "        return (2 * p * r) / (p + r)\n",
    "\n",
    "\n",
    "    def print_metrics(self):\n",
    "        \n",
    "        self.data.apply(lambda x: self.get_binary_classification(x), axis = 1)\n",
    "        \n",
    "        print(\"Number of rows: \", len(self.data))\n",
    "        print(\"True positive: \", self.tp)\n",
    "        print(\"True negative: \", self.tn)\n",
    "        print(\"False positive: \", self.fp)\n",
    "        print(\"False negative: \", self.fn)\n",
    "        \n",
    "        print(\"\\nAccuracy: \", self.calculate_accuracy())\n",
    "        print(\"Precision: \", self.calculate_precision())\n",
    "        print(\"Recall: \", self.calculate_recall())\n",
    "        print(\"F1 score: \", self.calculate_f1_score())\n",
    "        "
   ]
  },
  {
   "cell_type": "code",
   "execution_count": 129,
   "metadata": {
    "pycharm": {
     "name": "#%%\n"
    }
   },
   "outputs": [
    {
     "name": "stdout",
     "output_type": "stream",
     "text": [
      "Number of rows:  3924\n",
      "True positive:  798\n",
      "True negative:  2878\n",
      "False positive:  42\n",
      "False negative:  206\n",
      "\n",
      "Accuracy:  0.9367991845056065\n",
      "Precision:  0.95\n",
      "Recall:  0.7948207171314741\n",
      "F1 score:  0.8655097613882863\n"
     ]
    }
   ],
   "source": [
    "rules = [ [((\"skewness_oxygen\", -1), operator.lt)],\n",
    "          [((\"kurtosis_glucose\", 0.75), operator.gt)],\n",
    "          [((\"skewness_glucose\", 0.), operator.gt)],\n",
    "          [((\"mean_glucose\", -0.85), operator.lt)],\n",
    "          [((\"skewness_glucose\", 0.9), operator.gt), ((\"kurtosis_glucose\", 0.6), operator.gt)]]\n",
    "\n",
    "my_tree = Tree(train_data, rules)\n",
    "my_tree.create_tree(my_tree.root)\n",
    "my_tree.assign_diabetes_presence(my_tree.root)\n",
    "my_tree.print_metrics()"
   ]
  },
  {
   "cell_type": "code",
   "execution_count": null,
   "metadata": {},
   "outputs": [],
   "source": []
  }
 ],
 "metadata": {
  "kernelspec": {
   "display_name": "Python 3",
   "language": "python",
   "name": "python3"
  },
  "language_info": {
   "codemirror_mode": {
    "name": "ipython",
    "version": 3
   },
   "file_extension": ".py",
   "mimetype": "text/x-python",
   "name": "python",
   "nbconvert_exporter": "python",
   "pygments_lexer": "ipython3",
   "version": "3.7.0"
  }
 },
 "nbformat": 4,
 "nbformat_minor": 1
}