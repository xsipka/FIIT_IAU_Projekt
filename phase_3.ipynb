{
 "cells": [
  {
   "cell_type": "code",
   "execution_count": 9,
   "metadata": {},
   "outputs": [],
   "source": [
    "import pandas as pd\n",
    "import numpy as np\n",
    "import matplotlib.pyplot as plt\n",
    "import seaborn as sns\n",
    "import preprocessing"
   ]
  },
  {
   "cell_type": "markdown",
   "metadata": {
    "pycharm": {
     "name": "#%% md\n"
    }
   },
   "source": [
    "## Predspracovanie datasetov\n",
    "\n",
    "Na predspracovanie oboch datasetov bolo nutné premiestniť všetky potrebné funkcie a triedy, vytvorené v predchádzajúcej\n",
    "fáze projektu do novovytvoreného súboru preprocessing.py. V danom súbore sme vytvorili funkciu, ktorá ako argument berie\n",
    ".csv súbory pre osobné a aj medicínske dáta, spojí ich do jedného datasetu, ktorý následne upraví pomocou našej\n",
    "pipeline. Po predspracovaní nám vráti upravený dataset, s ktorým už môžeme ďalej pracovať. Túto funkciu zavoláme pre\n",
    "trénovací, ako aj validačný dataset.\n",
    "\n",
    "Ako môžeme nižšie vidieť, proces predspracovania prebehol správne, oba datasety obsahujú rovnaké atribúty, majú všade\n",
    "len jeden dátový typ a sú bez akýchkoľvek chýbajúcich hodnôt."
   ]
  },
  {
   "cell_type": "code",
   "execution_count": 10,
   "metadata": {
    "pycharm": {
     "name": "#%%\n"
    }
   },
   "outputs": [
    {
     "name": "stdout",
     "output_type": "stream",
     "text": [
      "Median stlpca education-num 10.0\n",
      "Median stlpca capital-gain 0.0\n",
      "Median stlpca age 52.0\n",
      "Median stlpca pregnant 0.0\n",
      "Median stlpca hours-per-week 40.0\n",
      "Median stlpca capital-loss 0.0\n",
      "<class 'pandas.core.frame.DataFrame'>\n",
      "RangeIndex: 3924 entries, 0 to 3923\n",
      "Data columns (total 17 columns):\n",
      " #   Column             Non-Null Count  Dtype  \n",
      "---  ------             --------------  -----  \n",
      " 0   age                3924 non-null   float64\n",
      " 1   sex                3924 non-null   float64\n",
      " 2   kurtosis_oxygen    3924 non-null   float64\n",
      " 3   pregnant           3924 non-null   float64\n",
      " 4   education-num      3924 non-null   float64\n",
      " 5   skewness_glucose   3924 non-null   float64\n",
      " 6   mean_glucose       3924 non-null   float64\n",
      " 7   std_oxygen         3924 non-null   float64\n",
      " 8   capital-gain       3924 non-null   float64\n",
      " 9   skewness_oxygen    3924 non-null   float64\n",
      " 10  kurtosis_glucose   3924 non-null   float64\n",
      " 11  final_weight       3924 non-null   float64\n",
      " 12  diabetes_presence  3924 non-null   float64\n",
      " 13  std_glucose        3924 non-null   float64\n",
      " 14  mean_oxygen        3924 non-null   float64\n",
      " 15  hours-per-week     3924 non-null   float64\n",
      " 16  capital-loss       3924 non-null   float64\n",
      "dtypes: float64(17)\n",
      "memory usage: 521.2 KB\n"
     ]
    },
    {
     "name": "stderr",
     "output_type": "stream",
     "text": [
      "d:\\dokumenty\\stu - fiit\\5. sem\\iau\\projekt\\venv\\lib\\site-packages\\pandas\\core\\indexing.py:1765: SettingWithCopyWarning: \n",
      "A value is trying to be set on a copy of a slice from a DataFrame.\n",
      "Try using .loc[row_indexer,col_indexer] = value instead\n",
      "\n",
      "See the caveats in the documentation: https://pandas.pydata.org/pandas-docs/stable/user_guide/indexing.html#returning-a-view-versus-a-copy\n",
      "  isetter(loc, value)\n",
      "D:\\Dokumenty\\STU - FIIT\\5. sem\\IAU\\projekt\\preprocessing.py:64: SettingWithCopyWarning: \n",
      "A value is trying to be set on a copy of a slice from a DataFrame.\n",
      "Try using .loc[row_indexer,col_indexer] = value instead\n",
      "\n",
      "See the caveats in the documentation: https://pandas.pydata.org/pandas-docs/stable/user_guide/indexing.html#returning-a-view-versus-a-copy\n",
      "  X[\"pregnant\"] = X[\"pregnant\"].map(format_pregnancy)\n",
      "D:\\Dokumenty\\STU - FIIT\\5. sem\\IAU\\projekt\\preprocessing.py:52: SettingWithCopyWarning: \n",
      "A value is trying to be set on a copy of a slice from a DataFrame.\n",
      "Try using .loc[row_indexer,col_indexer] = value instead\n",
      "\n",
      "See the caveats in the documentation: https://pandas.pydata.org/pandas-docs/stable/user_guide/indexing.html#returning-a-view-versus-a-copy\n",
      "  X['sex'] = X[\"sex\"].map(fix_sex_value)\n",
      "d:\\dokumenty\\stu - fiit\\5. sem\\iau\\projekt\\venv\\lib\\site-packages\\pandas\\core\\indexing.py:1765: SettingWithCopyWarning: \n",
      "A value is trying to be set on a copy of a slice from a DataFrame.\n",
      "Try using .loc[row_indexer,col_indexer] = value instead\n",
      "\n",
      "See the caveats in the documentation: https://pandas.pydata.org/pandas-docs/stable/user_guide/indexing.html#returning-a-view-versus-a-copy\n",
      "  isetter(loc, value)\n"
     ]
    }
   ],
   "source": [
    "medical_train = pd.read_csv(\"dataset/other_train.csv\")\n",
    "personal_train = pd.read_csv(\"dataset/personal_train.csv\")\n",
    "\n",
    "train_data = preprocessing.preprocess_dataset(medical_train, personal_train)\n",
    "train_data.info()"
   ]
  },
  {
   "cell_type": "code",
   "execution_count": 11,
   "metadata": {
    "pycharm": {
     "name": "#%%\n"
    }
   },
   "outputs": [
    {
     "name": "stdout",
     "output_type": "stream",
     "text": [
      "Median stlpca education-num 10.0\n",
      "Median stlpca capital-gain 0.0\n",
      "Median stlpca age 52.0\n",
      "Median stlpca pregnant 0.0\n",
      "Median stlpca hours-per-week 40.0\n",
      "Median stlpca capital-loss 0.0\n",
      "<class 'pandas.core.frame.DataFrame'>\n",
      "RangeIndex: 1306 entries, 0 to 1305\n",
      "Data columns (total 17 columns):\n",
      " #   Column             Non-Null Count  Dtype  \n",
      "---  ------             --------------  -----  \n",
      " 0   age                1306 non-null   float64\n",
      " 1   sex                1306 non-null   float64\n",
      " 2   kurtosis_oxygen    1306 non-null   float64\n",
      " 3   pregnant           1306 non-null   float64\n",
      " 4   education-num      1306 non-null   float64\n",
      " 5   skewness_glucose   1306 non-null   float64\n",
      " 6   mean_glucose       1306 non-null   float64\n",
      " 7   std_oxygen         1306 non-null   float64\n",
      " 8   capital-gain       1306 non-null   float64\n",
      " 9   skewness_oxygen    1306 non-null   float64\n",
      " 10  kurtosis_glucose   1306 non-null   float64\n",
      " 11  final_weight       1306 non-null   float64\n",
      " 12  diabetes_presence  1306 non-null   float64\n",
      " 13  std_glucose        1306 non-null   float64\n",
      " 14  mean_oxygen        1306 non-null   float64\n",
      " 15  hours-per-week     1306 non-null   float64\n",
      " 16  capital-loss       1306 non-null   float64\n",
      "dtypes: float64(17)\n",
      "memory usage: 173.5 KB\n"
     ]
    },
    {
     "name": "stderr",
     "output_type": "stream",
     "text": [
      "d:\\dokumenty\\stu - fiit\\5. sem\\iau\\projekt\\venv\\lib\\site-packages\\pandas\\core\\indexing.py:1765: SettingWithCopyWarning: \n",
      "A value is trying to be set on a copy of a slice from a DataFrame.\n",
      "Try using .loc[row_indexer,col_indexer] = value instead\n",
      "\n",
      "See the caveats in the documentation: https://pandas.pydata.org/pandas-docs/stable/user_guide/indexing.html#returning-a-view-versus-a-copy\n",
      "  isetter(loc, value)\n",
      "D:\\Dokumenty\\STU - FIIT\\5. sem\\IAU\\projekt\\preprocessing.py:64: SettingWithCopyWarning: \n",
      "A value is trying to be set on a copy of a slice from a DataFrame.\n",
      "Try using .loc[row_indexer,col_indexer] = value instead\n",
      "\n",
      "See the caveats in the documentation: https://pandas.pydata.org/pandas-docs/stable/user_guide/indexing.html#returning-a-view-versus-a-copy\n",
      "  X[\"pregnant\"] = X[\"pregnant\"].map(format_pregnancy)\n",
      "D:\\Dokumenty\\STU - FIIT\\5. sem\\IAU\\projekt\\preprocessing.py:52: SettingWithCopyWarning: \n",
      "A value is trying to be set on a copy of a slice from a DataFrame.\n",
      "Try using .loc[row_indexer,col_indexer] = value instead\n",
      "\n",
      "See the caveats in the documentation: https://pandas.pydata.org/pandas-docs/stable/user_guide/indexing.html#returning-a-view-versus-a-copy\n",
      "  X['sex'] = X[\"sex\"].map(fix_sex_value)\n",
      "d:\\dokumenty\\stu - fiit\\5. sem\\iau\\projekt\\venv\\lib\\site-packages\\pandas\\core\\indexing.py:1765: SettingWithCopyWarning: \n",
      "A value is trying to be set on a copy of a slice from a DataFrame.\n",
      "Try using .loc[row_indexer,col_indexer] = value instead\n",
      "\n",
      "See the caveats in the documentation: https://pandas.pydata.org/pandas-docs/stable/user_guide/indexing.html#returning-a-view-versus-a-copy\n",
      "  isetter(loc, value)\n"
     ]
    }
   ],
   "source": [
    "medical_valid = pd.read_csv(\"dataset/other_valid.csv\")\n",
    "personal_valid = pd.read_csv(\"dataset/personal_valid.csv\")\n",
    "\n",
    "valid_data = preprocessing.preprocess_dataset(medical_valid, personal_valid)\n",
    "valid_data.info()"
   ]
  },
  {
   "cell_type": "code",
   "execution_count": null,
   "metadata": {},
   "outputs": [],
   "source": []
  }
 ],
 "metadata": {
  "kernelspec": {
   "display_name": "Python 3",
   "language": "python",
   "name": "python3"
  },
  "language_info": {
   "codemirror_mode": {
    "name": "ipython",
    "version": 3
   },
   "file_extension": ".py",
   "mimetype": "text/x-python",
   "name": "python",
   "nbconvert_exporter": "python",
   "pygments_lexer": "ipython3",
   "version": "3.7.0"
  }
 },
 "nbformat": 4,
 "nbformat_minor": 1
}