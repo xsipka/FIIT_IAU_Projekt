{
 "cells": [
  {
   "cell_type": "code",
   "execution_count": 39,
   "metadata": {},
   "outputs": [],
   "source": [
    "import pandas as pd\n",
    "import numpy as np\n",
    "import matplotlib.pyplot as plt\n",
    "import seaborn as sns\n",
    "import preprocessing"
   ]
  },
  {
   "cell_type": "markdown",
   "metadata": {
    "pycharm": {
     "name": "#%% md\n"
    }
   },
   "source": [
    "## Predspracovanie datasetov\n",
    "\n",
    "Na predspracovanie oboch datasetov bolo nutné premiestniť všetky potrebné funkcie a triedy, vytvorené v predchádzajúcej\n",
    "fáze projektu do novovytvoreného súboru preprocessing.py. V danom súbore sme vytvorili funkciu, ktorá ako argument berie\n",
    ".csv súbory pre osobné a aj medicínske dáta, spojí ich do jedného datasetu, ktorý následne upraví pomocou našej\n",
    "pipeline. Po predspracovaní nám vráti upravený dataset, s ktorým už môžeme ďalej pracovať. Túto funkciu zavoláme pre\n",
    "trénovací, ako aj validačný dataset.\n",
    "\n",
    "Ako môžeme nižšie vidieť, proces predspracovania prebehol správne, oba datasety obsahujú rovnaké atribúty, majú všade\n",
    "len jeden dátový typ a sú bez akýchkoľvek chýbajúcich hodnôt."
   ]
  },
  {
   "cell_type": "code",
   "execution_count": 40,
   "metadata": {
    "pycharm": {
     "name": "#%%\n"
    }
   },
   "outputs": [
    {
     "name": "stderr",
     "output_type": "stream",
     "text": [
      "d:\\dokumenty\\stu - fiit\\5. sem\\iau\\projekt\\venv\\lib\\site-packages\\pandas\\core\\indexing.py:1765: SettingWithCopyWarning: \n",
      "A value is trying to be set on a copy of a slice from a DataFrame.\n",
      "Try using .loc[row_indexer,col_indexer] = value instead\n",
      "\n",
      "See the caveats in the documentation: https://pandas.pydata.org/pandas-docs/stable/user_guide/indexing.html#returning-a-view-versus-a-copy\n",
      "  isetter(loc, value)\n",
      "D:\\Dokumenty\\STU - FIIT\\5. sem\\IAU\\projekt\\preprocessing.py:64: SettingWithCopyWarning: \n",
      "A value is trying to be set on a copy of a slice from a DataFrame.\n",
      "Try using .loc[row_indexer,col_indexer] = value instead\n",
      "\n",
      "See the caveats in the documentation: https://pandas.pydata.org/pandas-docs/stable/user_guide/indexing.html#returning-a-view-versus-a-copy\n",
      "  X[\"pregnant\"] = X[\"pregnant\"].map(format_pregnancy)\n",
      "D:\\Dokumenty\\STU - FIIT\\5. sem\\IAU\\projekt\\preprocessing.py:52: SettingWithCopyWarning: \n",
      "A value is trying to be set on a copy of a slice from a DataFrame.\n",
      "Try using .loc[row_indexer,col_indexer] = value instead\n",
      "\n",
      "See the caveats in the documentation: https://pandas.pydata.org/pandas-docs/stable/user_guide/indexing.html#returning-a-view-versus-a-copy\n",
      "  X['sex'] = X[\"sex\"].map(fix_sex_value)\n",
      "d:\\dokumenty\\stu - fiit\\5. sem\\iau\\projekt\\venv\\lib\\site-packages\\pandas\\core\\indexing.py:1765: SettingWithCopyWarning: \n",
      "A value is trying to be set on a copy of a slice from a DataFrame.\n",
      "Try using .loc[row_indexer,col_indexer] = value instead\n",
      "\n",
      "See the caveats in the documentation: https://pandas.pydata.org/pandas-docs/stable/user_guide/indexing.html#returning-a-view-versus-a-copy\n",
      "  isetter(loc, value)\n"
     ]
    },
    {
     "name": "stdout",
     "output_type": "stream",
     "text": [
      "Median stlpca education-num 10.0\n",
      "Median stlpca capital-gain 0.0\n",
      "Median stlpca age 52.0\n",
      "Median stlpca pregnant 0.0\n",
      "Median stlpca hours-per-week 40.0\n",
      "Median stlpca capital-loss 0.0\n",
      "<class 'pandas.core.frame.DataFrame'>\n",
      "RangeIndex: 3924 entries, 0 to 3923\n",
      "Data columns (total 17 columns):\n",
      " #   Column             Non-Null Count  Dtype  \n",
      "---  ------             --------------  -----  \n",
      " 0   age                3924 non-null   float64\n",
      " 1   sex                3924 non-null   float64\n",
      " 2   kurtosis_oxygen    3924 non-null   float64\n",
      " 3   pregnant           3924 non-null   float64\n",
      " 4   education-num      3924 non-null   float64\n",
      " 5   skewness_glucose   3924 non-null   float64\n",
      " 6   mean_glucose       3924 non-null   float64\n",
      " 7   std_oxygen         3924 non-null   float64\n",
      " 8   capital-gain       3924 non-null   float64\n",
      " 9   skewness_oxygen    3924 non-null   float64\n",
      " 10  kurtosis_glucose   3924 non-null   float64\n",
      " 11  final_weight       3924 non-null   float64\n",
      " 12  diabetes_presence  3924 non-null   float64\n",
      " 13  std_glucose        3924 non-null   float64\n",
      " 14  mean_oxygen        3924 non-null   float64\n",
      " 15  hours-per-week     3924 non-null   float64\n",
      " 16  capital-loss       3924 non-null   float64\n",
      "dtypes: float64(17)\n",
      "memory usage: 521.2 KB\n"
     ]
    }
   ],
   "source": [
    "medical_train = pd.read_csv(\"dataset/other_train.csv\")\n",
    "personal_train = pd.read_csv(\"dataset/personal_train.csv\")\n",
    "\n",
    "train_data = preprocessing.preprocess_dataset(medical_train, personal_train)\n",
    "train_data.info()"
   ]
  },
  {
   "cell_type": "code",
   "execution_count": 41,
   "metadata": {
    "pycharm": {
     "name": "#%%\n"
    }
   },
   "outputs": [
    {
     "name": "stdout",
     "output_type": "stream",
     "text": [
      "Median stlpca education-num 10.0\n",
      "Median stlpca capital-gain 0.0\n",
      "Median stlpca age 52.0\n",
      "Median stlpca pregnant 0.0\n",
      "Median stlpca hours-per-week 40.0\n",
      "Median stlpca capital-loss 0.0\n",
      "<class 'pandas.core.frame.DataFrame'>\n",
      "RangeIndex: 1306 entries, 0 to 1305\n",
      "Data columns (total 17 columns):\n",
      " #   Column             Non-Null Count  Dtype  \n",
      "---  ------             --------------  -----  \n",
      " 0   age                1306 non-null   float64\n",
      " 1   sex                1306 non-null   float64\n",
      " 2   kurtosis_oxygen    1306 non-null   float64\n",
      " 3   pregnant           1306 non-null   float64\n",
      " 4   education-num      1306 non-null   float64\n",
      " 5   skewness_glucose   1306 non-null   float64\n",
      " 6   mean_glucose       1306 non-null   float64\n",
      " 7   std_oxygen         1306 non-null   float64\n",
      " 8   capital-gain       1306 non-null   float64\n",
      " 9   skewness_oxygen    1306 non-null   float64\n",
      " 10  kurtosis_glucose   1306 non-null   float64\n",
      " 11  final_weight       1306 non-null   float64\n",
      " 12  diabetes_presence  1306 non-null   float64\n",
      " 13  std_glucose        1306 non-null   float64\n",
      " 14  mean_oxygen        1306 non-null   float64\n",
      " 15  hours-per-week     1306 non-null   float64\n",
      " 16  capital-loss       1306 non-null   float64\n",
      "dtypes: float64(17)\n",
      "memory usage: 173.5 KB\n"
     ]
    },
    {
     "name": "stderr",
     "output_type": "stream",
     "text": [
      "d:\\dokumenty\\stu - fiit\\5. sem\\iau\\projekt\\venv\\lib\\site-packages\\pandas\\core\\indexing.py:1765: SettingWithCopyWarning: \n",
      "A value is trying to be set on a copy of a slice from a DataFrame.\n",
      "Try using .loc[row_indexer,col_indexer] = value instead\n",
      "\n",
      "See the caveats in the documentation: https://pandas.pydata.org/pandas-docs/stable/user_guide/indexing.html#returning-a-view-versus-a-copy\n",
      "  isetter(loc, value)\n",
      "D:\\Dokumenty\\STU - FIIT\\5. sem\\IAU\\projekt\\preprocessing.py:64: SettingWithCopyWarning: \n",
      "A value is trying to be set on a copy of a slice from a DataFrame.\n",
      "Try using .loc[row_indexer,col_indexer] = value instead\n",
      "\n",
      "See the caveats in the documentation: https://pandas.pydata.org/pandas-docs/stable/user_guide/indexing.html#returning-a-view-versus-a-copy\n",
      "  X[\"pregnant\"] = X[\"pregnant\"].map(format_pregnancy)\n",
      "D:\\Dokumenty\\STU - FIIT\\5. sem\\IAU\\projekt\\preprocessing.py:52: SettingWithCopyWarning: \n",
      "A value is trying to be set on a copy of a slice from a DataFrame.\n",
      "Try using .loc[row_indexer,col_indexer] = value instead\n",
      "\n",
      "See the caveats in the documentation: https://pandas.pydata.org/pandas-docs/stable/user_guide/indexing.html#returning-a-view-versus-a-copy\n",
      "  X['sex'] = X[\"sex\"].map(fix_sex_value)\n",
      "d:\\dokumenty\\stu - fiit\\5. sem\\iau\\projekt\\venv\\lib\\site-packages\\pandas\\core\\indexing.py:1765: SettingWithCopyWarning: \n",
      "A value is trying to be set on a copy of a slice from a DataFrame.\n",
      "Try using .loc[row_indexer,col_indexer] = value instead\n",
      "\n",
      "See the caveats in the documentation: https://pandas.pydata.org/pandas-docs/stable/user_guide/indexing.html#returning-a-view-versus-a-copy\n",
      "  isetter(loc, value)\n"
     ]
    }
   ],
   "source": [
    "medical_valid = pd.read_csv(\"dataset/other_valid.csv\")\n",
    "personal_valid = pd.read_csv(\"dataset/personal_valid.csv\")\n",
    "\n",
    "valid_data = preprocessing.preprocess_dataset(medical_valid, personal_valid)\n",
    "valid_data.info()"
   ]
  },
  {
   "cell_type": "markdown",
   "metadata": {
    "pycharm": {
     "name": "#%% md\n"
    }
   },
   "source": [
    "## Manuálne vytvorenie a vyhodnotenie rozhodovacích pravidiel pre klasifikáciu\n",
    "\n",
    "### Pravidlá s využitím 1 atribútu\n",
    "\n",
    "Ako prvý sme použili atribút mean_glucose. Pomocou boxplotu sme určili približnú hodnotu, ktorá bude určovať, či pacient\n",
    "má mať cukrovku. Keďže sme chceli byť presnejší, skúšali sme vypisovať hodnoty oboch atribútov, pričom sme menili\n",
    "interval v ktorom sa mal atribút mean_glucose nachádzať. Nakoniec sme sa rozhodli pre hodnotu -0,85. Ak bude mean_glucose\n",
    "menšia, alebo rovná -0,85, tak môžeme predpokladať, že pacient má cukrovku."
   ]
  },
  {
   "cell_type": "code",
   "execution_count": 42,
   "metadata": {
    "pycharm": {
     "name": "#%%\n"
    }
   },
   "outputs": [
    {
     "data": {
      "text/plain": [
       "<AxesSubplot:xlabel='diabetes_presence', ylabel='mean_glucose'>"
      ]
     },
     "execution_count": 42,
     "metadata": {},
     "output_type": "execute_result"
    },
    {
     "data": {
      "image/png": "[encoded data removed]",
      "text/plain": [
       "<Figure size 432x288 with 1 Axes>"
      ]
     },
     "metadata": {
      "needs_background": "light"
     },
     "output_type": "display_data"
    }
   ],
   "source": [
    "sns.boxplot(y = \"mean_glucose\", x = \"diabetes_presence\", data= train_data)"
   ]
  },
  {
   "cell_type": "code",
   "execution_count": 89,
   "metadata": {
    "pycharm": {
     "name": "#%%\n"
    }
   },
   "outputs": [
    {
     "data": {
      "text/html": [
       "<div>\n",
       "<style scoped>\n",
       "    .dataframe tbody tr th:only-of-type {\n",
       "        vertical-align: middle;\n",
       "    }\n",
       "\n",
       "    .dataframe tbody tr th {\n",
       "        vertical-align: top;\n",
       "    }\n",
       "\n",
       "    .dataframe thead th {\n",
       "        text-align: right;\n",
       "    }\n",
       "</style>\n",
       "<table border=\"1\" class=\"dataframe\">\n",
       "  <thead>\n",
       "    <tr style=\"text-align: right;\">\n",
       "      <th></th>\n",
       "      <th>mean_glucose</th>\n",
       "      <th>diabetes_presence</th>\n",
       "    </tr>\n",
       "  </thead>\n",
       "  <tbody>\n",
       "    <tr>\n",
       "      <th>61</th>\n",
       "      <td>-0.853932</td>\n",
       "      <td>1.0</td>\n",
       "    </tr>\n",
       "    <tr>\n",
       "      <th>348</th>\n",
       "      <td>-0.881381</td>\n",
       "      <td>1.0</td>\n",
       "    </tr>\n",
       "    <tr>\n",
       "      <th>497</th>\n",
       "      <td>-0.882473</td>\n",
       "      <td>0.0</td>\n",
       "    </tr>\n",
       "    <tr>\n",
       "      <th>830</th>\n",
       "      <td>-0.877008</td>\n",
       "      <td>1.0</td>\n",
       "    </tr>\n",
       "    <tr>\n",
       "      <th>1045</th>\n",
       "      <td>-0.889670</td>\n",
       "      <td>0.0</td>\n",
       "    </tr>\n",
       "    <tr>\n",
       "      <th>1338</th>\n",
       "      <td>-0.887709</td>\n",
       "      <td>1.0</td>\n",
       "    </tr>\n",
       "    <tr>\n",
       "      <th>1591</th>\n",
       "      <td>-0.882692</td>\n",
       "      <td>1.0</td>\n",
       "    </tr>\n",
       "    <tr>\n",
       "      <th>1786</th>\n",
       "      <td>-0.864506</td>\n",
       "      <td>1.0</td>\n",
       "    </tr>\n",
       "    <tr>\n",
       "      <th>1838</th>\n",
       "      <td>-0.868460</td>\n",
       "      <td>1.0</td>\n",
       "    </tr>\n",
       "    <tr>\n",
       "      <th>1992</th>\n",
       "      <td>-0.865824</td>\n",
       "      <td>0.0</td>\n",
       "    </tr>\n",
       "    <tr>\n",
       "      <th>2143</th>\n",
       "      <td>-0.878321</td>\n",
       "      <td>1.0</td>\n",
       "    </tr>\n",
       "    <tr>\n",
       "      <th>2257</th>\n",
       "      <td>-0.887273</td>\n",
       "      <td>0.0</td>\n",
       "    </tr>\n",
       "    <tr>\n",
       "      <th>2464</th>\n",
       "      <td>-0.887273</td>\n",
       "      <td>1.0</td>\n",
       "    </tr>\n",
       "    <tr>\n",
       "      <th>2805</th>\n",
       "      <td>-0.880726</td>\n",
       "      <td>0.0</td>\n",
       "    </tr>\n",
       "    <tr>\n",
       "      <th>2929</th>\n",
       "      <td>-0.880507</td>\n",
       "      <td>0.0</td>\n",
       "    </tr>\n",
       "    <tr>\n",
       "      <th>2959</th>\n",
       "      <td>-0.887491</td>\n",
       "      <td>0.0</td>\n",
       "    </tr>\n",
       "    <tr>\n",
       "      <th>3049</th>\n",
       "      <td>-0.858783</td>\n",
       "      <td>1.0</td>\n",
       "    </tr>\n",
       "    <tr>\n",
       "      <th>3236</th>\n",
       "      <td>-0.864286</td>\n",
       "      <td>0.0</td>\n",
       "    </tr>\n",
       "    <tr>\n",
       "      <th>3370</th>\n",
       "      <td>-0.889235</td>\n",
       "      <td>0.0</td>\n",
       "    </tr>\n",
       "    <tr>\n",
       "      <th>3531</th>\n",
       "      <td>-0.869777</td>\n",
       "      <td>1.0</td>\n",
       "    </tr>\n",
       "    <tr>\n",
       "      <th>3597</th>\n",
       "      <td>-0.883565</td>\n",
       "      <td>1.0</td>\n",
       "    </tr>\n",
       "    <tr>\n",
       "      <th>3722</th>\n",
       "      <td>-0.878977</td>\n",
       "      <td>0.0</td>\n",
       "    </tr>\n",
       "  </tbody>\n",
       "</table>\n",
       "</div>"
      ],
      "text/plain": [
       "      mean_glucose  diabetes_presence\n",
       "61       -0.853932                1.0\n",
       "348      -0.881381                1.0\n",
       "497      -0.882473                0.0\n",
       "830      -0.877008                1.0\n",
       "1045     -0.889670                0.0\n",
       "1338     -0.887709                1.0\n",
       "1591     -0.882692                1.0\n",
       "1786     -0.864506                1.0\n",
       "1838     -0.868460                1.0\n",
       "1992     -0.865824                0.0\n",
       "2143     -0.878321                1.0\n",
       "2257     -0.887273                0.0\n",
       "2464     -0.887273                1.0\n",
       "2805     -0.880726                0.0\n",
       "2929     -0.880507                0.0\n",
       "2959     -0.887491                0.0\n",
       "3049     -0.858783                1.0\n",
       "3236     -0.864286                0.0\n",
       "3370     -0.889235                0.0\n",
       "3531     -0.869777                1.0\n",
       "3597     -0.883565                1.0\n",
       "3722     -0.878977                0.0"
      ]
     },
     "execution_count": 89,
     "metadata": {},
     "output_type": "execute_result"
    }
   ],
   "source": [
    "rule_1_columns = [\"mean_glucose\", \"diabetes_presence\"]\n",
    "train_data[rule_1_columns].loc[(train_data[\"mean_glucose\"] <= -0.85) & (train_data[\"mean_glucose\"] > -0.89)].head(40)"
   ]
  },
  {
   "cell_type": "code",
   "execution_count": 44,
   "metadata": {
    "pycharm": {
     "name": "#%%\n"
    }
   },
   "outputs": [],
   "source": [
    "# used for storing all metrics of our rules\n",
    "rules_dict = {}"
   ]
  },
  {
   "cell_type": "code",
   "execution_count": 45,
   "metadata": {
    "pycharm": {
     "name": "#%%\n"
    }
   },
   "outputs": [],
   "source": [
    "def calculate_accuracy(rule, key):\n",
    "    return (rule[key][\"TP\"] + rule[key][\"TN\"]) / rule[key][\"sum\"]\n",
    "\n",
    "def calculate_precision(rule, key):\n",
    "    return rule[key][\"TP\"] / (rule[key][\"TP\"] + rule[key][\"FP\"])\n",
    "\n",
    "def calculate_recall(rule, key):\n",
    "    return rule[key][\"TP\"] / (rule[key][\"TP\"] + rule[key][\"FN\"])\n",
    "\n",
    "\n",
    "def print_results(rule, key):\n",
    "    print(\"Number of records: \", rule[key][\"sum\"])\n",
    "    print(\"True positive: \", rule[key][\"TP\"])\n",
    "    print(\"True negative: \", rule[key][\"TN\"])\n",
    "    print(\"False positive: \", rule[key][\"FP\"])\n",
    "    print(\"False negative: \", rule[key][\"FN\"])\n",
    "\n",
    "    print(\"Accuracy: \", calculate_accuracy(rule, key))\n",
    "    print(\"Precision: \", calculate_precision(rule, key))\n",
    "    print(\"Recall: \", calculate_recall(rule, key))"
   ]
  },
  {
   "cell_type": "code",
   "execution_count": 90,
   "metadata": {
    "pycharm": {
     "name": "#%%\n"
    }
   },
   "outputs": [],
   "source": [
    "# used attribute is mean_glucose\n",
    "def rule_1(data, key):\n",
    "\n",
    "    rules_dict[key] = {}\n",
    "    rules_dict[key][\"sum\"] = data[\"diabetes_presence\"].count()\n",
    "\n",
    "    rules_dict[key][\"TP\"] = len(data.loc[(data[\"mean_glucose\"] <= -0.85) & (data[\"diabetes_presence\"] == 1.0)])\n",
    "    rules_dict[key][\"TN\"] = len(data.loc[(data[\"mean_glucose\"] >  -0.85) & (data[\"diabetes_presence\"] == 0.0)])\n",
    "    rules_dict[key][\"FP\"] = len(data.loc[(data[\"mean_glucose\"] <= -0.85) & (data[\"diabetes_presence\"] == 0.0)])\n",
    "    rules_dict[key][\"FN\"] = len(data.loc[(data[\"mean_glucose\"] >  -0.85) & (data[\"diabetes_presence\"] == 1.0)])\n",
    "    \n",
    "    print_results(rules_dict, key)"
   ]
  },
  {
   "cell_type": "code",
   "execution_count": 91,
   "metadata": {
    "pycharm": {
     "name": "#%%\n"
    }
   },
   "outputs": [
    {
     "name": "stdout",
     "output_type": "stream",
     "text": [
      "Number of records:  3924\n",
      "True positive:  739\n",
      "True negative:  2878\n",
      "False positive:  42\n",
      "False negative:  265\n",
      "Accuracy:  0.9217635066258919\n",
      "Precision:  0.9462227912932138\n",
      "Recall:  0.7360557768924303\n"
     ]
    }
   ],
   "source": [
    "rule_1(train_data, \"train_1\")"
   ]
  },
  {
   "cell_type": "markdown",
   "metadata": {
    "pycharm": {
     "name": "#%% md\n"
    }
   },
   "source": [
    "Vyššie môžeme vidieť vyhodnotenie metrík prvého klasifikátora. Prevláda počet chýb druhého typu, čiže sme častejšie\n",
    "predpovedali nesprávnu hodnotu.\n",
    "\n",
    "Ako druhý atribút sme vybrali kurtosis_glucose. Určenie hodnoty, ktorá bude udávať, aký stav máme u pacienta\n",
    "predpokladať, prebiehalo rovnakým spôsobom, ako pri mean_glucose. Rozodli sme sa pre 0,6. Ak bude kurtosis_glucose väčšia,\n",
    "predpokladáme, že pacient je chorý."
   ]
  },
  {
   "cell_type": "code",
   "execution_count": 48,
   "metadata": {
    "pycharm": {
     "name": "#%%\n"
    }
   },
   "outputs": [
    {
     "data": {
      "text/plain": [
       "<AxesSubplot:xlabel='diabetes_presence', ylabel='kurtosis_glucose'>"
      ]
     },
     "execution_count": 48,
     "metadata": {},
     "output_type": "execute_result"
    },
    {
     "data": {
      "image/png": "[encoded data removed]",
      "text/plain": [
       "<Figure size 432x288 with 1 Axes>"
      ]
     },
     "metadata": {
      "needs_background": "light"
     },
     "output_type": "display_data"
    }
   ],
   "source": [
    "sns.boxplot(y = \"kurtosis_glucose\", x = \"diabetes_presence\", data= train_data)"
   ]
  },
  {
   "cell_type": "code",
   "execution_count": 49,
   "metadata": {
    "pycharm": {
     "name": "#%%\n"
    }
   },
   "outputs": [
    {
     "data": {
      "text/html": [
       "<div>\n",
       "<style scoped>\n",
       "    .dataframe tbody tr th:only-of-type {\n",
       "        vertical-align: middle;\n",
       "    }\n",
       "\n",
       "    .dataframe tbody tr th {\n",
       "        vertical-align: top;\n",
       "    }\n",
       "\n",
       "    .dataframe thead th {\n",
       "        text-align: right;\n",
       "    }\n",
       "</style>\n",
       "<table border=\"1\" class=\"dataframe\">\n",
       "  <thead>\n",
       "    <tr style=\"text-align: right;\">\n",
       "      <th></th>\n",
       "      <th>kurtosis_glucose</th>\n",
       "      <th>diabetes_presence</th>\n",
       "    </tr>\n",
       "  </thead>\n",
       "  <tbody>\n",
       "    <tr>\n",
       "      <th>6</th>\n",
       "      <td>0.626568</td>\n",
       "      <td>1.0</td>\n",
       "    </tr>\n",
       "    <tr>\n",
       "      <th>675</th>\n",
       "      <td>0.635158</td>\n",
       "      <td>1.0</td>\n",
       "    </tr>\n",
       "    <tr>\n",
       "      <th>797</th>\n",
       "      <td>0.623671</td>\n",
       "      <td>1.0</td>\n",
       "    </tr>\n",
       "    <tr>\n",
       "      <th>1144</th>\n",
       "      <td>0.641077</td>\n",
       "      <td>0.0</td>\n",
       "    </tr>\n",
       "    <tr>\n",
       "      <th>1376</th>\n",
       "      <td>0.605885</td>\n",
       "      <td>0.0</td>\n",
       "    </tr>\n",
       "    <tr>\n",
       "      <th>1580</th>\n",
       "      <td>0.630058</td>\n",
       "      <td>1.0</td>\n",
       "    </tr>\n",
       "    <tr>\n",
       "      <th>1665</th>\n",
       "      <td>0.609249</td>\n",
       "      <td>0.0</td>\n",
       "    </tr>\n",
       "    <tr>\n",
       "      <th>1746</th>\n",
       "      <td>0.607142</td>\n",
       "      <td>0.0</td>\n",
       "    </tr>\n",
       "    <tr>\n",
       "      <th>1976</th>\n",
       "      <td>0.600465</td>\n",
       "      <td>1.0</td>\n",
       "    </tr>\n",
       "    <tr>\n",
       "      <th>2285</th>\n",
       "      <td>0.647630</td>\n",
       "      <td>1.0</td>\n",
       "    </tr>\n",
       "    <tr>\n",
       "      <th>2355</th>\n",
       "      <td>0.641673</td>\n",
       "      <td>1.0</td>\n",
       "    </tr>\n",
       "    <tr>\n",
       "      <th>3252</th>\n",
       "      <td>0.636423</td>\n",
       "      <td>1.0</td>\n",
       "    </tr>\n",
       "    <tr>\n",
       "      <th>3272</th>\n",
       "      <td>0.642221</td>\n",
       "      <td>1.0</td>\n",
       "    </tr>\n",
       "    <tr>\n",
       "      <th>3370</th>\n",
       "      <td>0.605700</td>\n",
       "      <td>0.0</td>\n",
       "    </tr>\n",
       "    <tr>\n",
       "      <th>3596</th>\n",
       "      <td>0.629671</td>\n",
       "      <td>1.0</td>\n",
       "    </tr>\n",
       "    <tr>\n",
       "      <th>3647</th>\n",
       "      <td>0.603626</td>\n",
       "      <td>0.0</td>\n",
       "    </tr>\n",
       "    <tr>\n",
       "      <th>3721</th>\n",
       "      <td>0.643447</td>\n",
       "      <td>1.0</td>\n",
       "    </tr>\n",
       "    <tr>\n",
       "      <th>3826</th>\n",
       "      <td>0.649099</td>\n",
       "      <td>1.0</td>\n",
       "    </tr>\n",
       "  </tbody>\n",
       "</table>\n",
       "</div>"
      ],
      "text/plain": [
       "      kurtosis_glucose  diabetes_presence\n",
       "6             0.626568                1.0\n",
       "675           0.635158                1.0\n",
       "797           0.623671                1.0\n",
       "1144          0.641077                0.0\n",
       "1376          0.605885                0.0\n",
       "1580          0.630058                1.0\n",
       "1665          0.609249                0.0\n",
       "1746          0.607142                0.0\n",
       "1976          0.600465                1.0\n",
       "2285          0.647630                1.0\n",
       "2355          0.641673                1.0\n",
       "3252          0.636423                1.0\n",
       "3272          0.642221                1.0\n",
       "3370          0.605700                0.0\n",
       "3596          0.629671                1.0\n",
       "3647          0.603626                0.0\n",
       "3721          0.643447                1.0\n",
       "3826          0.649099                1.0"
      ]
     },
     "execution_count": 49,
     "metadata": {},
     "output_type": "execute_result"
    }
   ],
   "source": [
    "rule_2_columns = [\"kurtosis_glucose\", \"diabetes_presence\"]\n",
    "#train_data[rule_2_columns].loc[train_data[\"diabetes_presence\"] == 0].head(20)\n",
    "train_data[rule_2_columns].loc[(train_data[\"kurtosis_glucose\"] >= 0.6) & (train_data[\"kurtosis_glucose\"] < 0.65)].head(40)"
   ]
  },
  {
   "cell_type": "code",
   "execution_count": 50,
   "metadata": {
    "pycharm": {
     "name": "#%%\n"
    }
   },
   "outputs": [],
   "source": [
    "# used attribute is kurtosis glucose\n",
    "def rule_2(data, key):\n",
    "\n",
    "    rules_dict[key] = {}\n",
    "    rules_dict[key][\"sum\"] = data[\"diabetes_presence\"].count()\n",
    "\n",
    "    rules_dict[key][\"TP\"] = len(data.loc[(data[\"kurtosis_glucose\"] >  0.6) & (data[\"diabetes_presence\"] == 1.0)])\n",
    "    rules_dict[key][\"TN\"] = len(data.loc[(data[\"kurtosis_glucose\"] <= 0.6) & (data[\"diabetes_presence\"] == 0.0)])\n",
    "    rules_dict[key][\"FP\"] = len(data.loc[(data[\"kurtosis_glucose\"] >  0.6) & (data[\"diabetes_presence\"] == 0.0)])\n",
    "    rules_dict[key][\"FN\"] = len(data.loc[(data[\"kurtosis_glucose\"] <= 0.6) & (data[\"diabetes_presence\"] == 1.0)])\n",
    "\n",
    "    print_results(rules_dict, key)"
   ]
  },
  {
   "cell_type": "code",
   "execution_count": 51,
   "metadata": {
    "pycharm": {
     "name": "#%%\n"
    }
   },
   "outputs": [
    {
     "name": "stdout",
     "output_type": "stream",
     "text": [
      "Number of records:  3924\n",
      "True positive:  840\n",
      "True negative:  2898\n",
      "False positive:  22\n",
      "False negative:  164\n",
      "Accuracy:  0.9525993883792049\n",
      "Precision:  0.974477958236659\n",
      "Recall:  0.8366533864541833\n"
     ]
    }
   ],
   "source": [
    "rule_2(train_data, \"train_2\")"
   ]
  },
  {
   "cell_type": "markdown",
   "metadata": {
    "pycharm": {
     "name": "#%% md\n"
    }
   },
   "source": [
    "Vidíme, že pri tomto pravidle sú vyhodnotené metriky priaznivejšie ako minule. Stále prevláda chyba druhého typu, ale\n",
    "accuracy, precision a aj recall nadobúdajú vyššie hodnoty.\n",
    "\n",
    "Ako posledný sme použili atribút skewness_glucose, kde hodnota vyššia ako 0,9 určovala predpokladanú prítomnosť\n",
    "cukrovky u pacienta."
   ]
  },
  {
   "cell_type": "code",
   "execution_count": 53,
   "metadata": {
    "pycharm": {
     "name": "#%%\n"
    }
   },
   "outputs": [
    {
     "data": {
      "text/plain": [
       "<AxesSubplot:xlabel='diabetes_presence', ylabel='skewness_glucose'>"
      ]
     },
     "execution_count": 53,
     "metadata": {},
     "output_type": "execute_result"
    },
    {
     "data": {
      "image/png": "[encoded data removed]",
      "text/plain": [
       "<Figure size 432x288 with 1 Axes>"
      ]
     },
     "metadata": {
      "needs_background": "light"
     },
     "output_type": "display_data"
    }
   ],
   "source": [
    "sns.boxplot(y = \"skewness_glucose\", x = \"diabetes_presence\", data= train_data)"
   ]
  },
  {
   "cell_type": "code",
   "execution_count": 59,
   "metadata": {},
   "outputs": [
    {
     "data": {
      "text/html": [
       "<div>\n",
       "<style scoped>\n",
       "    .dataframe tbody tr th:only-of-type {\n",
       "        vertical-align: middle;\n",
       "    }\n",
       "\n",
       "    .dataframe tbody tr th {\n",
       "        vertical-align: top;\n",
       "    }\n",
       "\n",
       "    .dataframe thead th {\n",
       "        text-align: right;\n",
       "    }\n",
       "</style>\n",
       "<table border=\"1\" class=\"dataframe\">\n",
       "  <thead>\n",
       "    <tr style=\"text-align: right;\">\n",
       "      <th></th>\n",
       "      <th>skewness_glucose</th>\n",
       "      <th>diabetes_presence</th>\n",
       "    </tr>\n",
       "  </thead>\n",
       "  <tbody>\n",
       "    <tr>\n",
       "      <th>88</th>\n",
       "      <td>0.918936</td>\n",
       "      <td>1.0</td>\n",
       "    </tr>\n",
       "    <tr>\n",
       "      <th>167</th>\n",
       "      <td>0.910803</td>\n",
       "      <td>1.0</td>\n",
       "    </tr>\n",
       "    <tr>\n",
       "      <th>205</th>\n",
       "      <td>0.917116</td>\n",
       "      <td>0.0</td>\n",
       "    </tr>\n",
       "    <tr>\n",
       "      <th>293</th>\n",
       "      <td>0.922261</td>\n",
       "      <td>0.0</td>\n",
       "    </tr>\n",
       "    <tr>\n",
       "      <th>394</th>\n",
       "      <td>0.915699</td>\n",
       "      <td>1.0</td>\n",
       "    </tr>\n",
       "    <tr>\n",
       "      <th>749</th>\n",
       "      <td>0.909646</td>\n",
       "      <td>1.0</td>\n",
       "    </tr>\n",
       "    <tr>\n",
       "      <th>792</th>\n",
       "      <td>0.912074</td>\n",
       "      <td>1.0</td>\n",
       "    </tr>\n",
       "    <tr>\n",
       "      <th>870</th>\n",
       "      <td>0.914647</td>\n",
       "      <td>1.0</td>\n",
       "    </tr>\n",
       "    <tr>\n",
       "      <th>962</th>\n",
       "      <td>0.912766</td>\n",
       "      <td>0.0</td>\n",
       "    </tr>\n",
       "    <tr>\n",
       "      <th>1046</th>\n",
       "      <td>0.905475</td>\n",
       "      <td>0.0</td>\n",
       "    </tr>\n",
       "    <tr>\n",
       "      <th>1127</th>\n",
       "      <td>0.920316</td>\n",
       "      <td>1.0</td>\n",
       "    </tr>\n",
       "    <tr>\n",
       "      <th>1135</th>\n",
       "      <td>0.913136</td>\n",
       "      <td>0.0</td>\n",
       "    </tr>\n",
       "    <tr>\n",
       "      <th>1365</th>\n",
       "      <td>0.918029</td>\n",
       "      <td>1.0</td>\n",
       "    </tr>\n",
       "    <tr>\n",
       "      <th>1487</th>\n",
       "      <td>0.927914</td>\n",
       "      <td>0.0</td>\n",
       "    </tr>\n",
       "    <tr>\n",
       "      <th>2070</th>\n",
       "      <td>0.910720</td>\n",
       "      <td>1.0</td>\n",
       "    </tr>\n",
       "    <tr>\n",
       "      <th>2464</th>\n",
       "      <td>0.925343</td>\n",
       "      <td>1.0</td>\n",
       "    </tr>\n",
       "    <tr>\n",
       "      <th>2748</th>\n",
       "      <td>0.909278</td>\n",
       "      <td>0.0</td>\n",
       "    </tr>\n",
       "    <tr>\n",
       "      <th>3103</th>\n",
       "      <td>0.917504</td>\n",
       "      <td>1.0</td>\n",
       "    </tr>\n",
       "    <tr>\n",
       "      <th>3262</th>\n",
       "      <td>0.918281</td>\n",
       "      <td>1.0</td>\n",
       "    </tr>\n",
       "    <tr>\n",
       "      <th>3746</th>\n",
       "      <td>0.903679</td>\n",
       "      <td>0.0</td>\n",
       "    </tr>\n",
       "  </tbody>\n",
       "</table>\n",
       "</div>"
      ],
      "text/plain": [
       "      skewness_glucose  diabetes_presence\n",
       "88            0.918936                1.0\n",
       "167           0.910803                1.0\n",
       "205           0.917116                0.0\n",
       "293           0.922261                0.0\n",
       "394           0.915699                1.0\n",
       "749           0.909646                1.0\n",
       "792           0.912074                1.0\n",
       "870           0.914647                1.0\n",
       "962           0.912766                0.0\n",
       "1046          0.905475                0.0\n",
       "1127          0.920316                1.0\n",
       "1135          0.913136                0.0\n",
       "1365          0.918029                1.0\n",
       "1487          0.927914                0.0\n",
       "2070          0.910720                1.0\n",
       "2464          0.925343                1.0\n",
       "2748          0.909278                0.0\n",
       "3103          0.917504                1.0\n",
       "3262          0.918281                1.0\n",
       "3746          0.903679                0.0"
      ]
     },
     "execution_count": 59,
     "metadata": {},
     "output_type": "execute_result"
    }
   ],
   "source": [
    "rule_3_columns = [\"skewness_glucose\", \"diabetes_presence\"]\n",
    "#train_data[rule_3_columns].loc[train_data[\"diabetes_presence\"] == 1].head(20)\n",
    "train_data[rule_3_columns].loc[(train_data[\"skewness_glucose\"] >= 0.9) & (train_data[\"skewness_glucose\"] < 0.93)].head(40)"
   ]
  },
  {
   "cell_type": "code",
   "execution_count": 75,
   "metadata": {
    "pycharm": {
     "name": "#%%\n"
    }
   },
   "outputs": [],
   "source": [
    "# used attribute is skewness glucose\n",
    "def rule_3(data, key):\n",
    "\n",
    "    rules_dict[key] = {}\n",
    "    rules_dict[key][\"sum\"] = data[\"diabetes_presence\"].count()\n",
    "\n",
    "    rules_dict[key][\"TP\"] = len(data.loc[(data[\"skewness_glucose\"] >= 0.9) & (data[\"diabetes_presence\"] == 1.0)])\n",
    "    rules_dict[key][\"TN\"] = len(data.loc[(data[\"skewness_glucose\"] <  0.9) & (data[\"diabetes_presence\"] == 0.0)])\n",
    "    rules_dict[key][\"FP\"] = len(data.loc[(data[\"skewness_glucose\"] >= 0.9) & (data[\"diabetes_presence\"] == 0.0)])\n",
    "    rules_dict[key][\"FN\"] = len(data.loc[(data[\"skewness_glucose\"] <  0.9) & (data[\"diabetes_presence\"] == 1.0)])\n",
    "    \n",
    "    print_results(rules_dict, key)"
   ]
  },
  {
   "cell_type": "code",
   "execution_count": 77,
   "metadata": {
    "pycharm": {
     "name": "#%%\n"
    }
   },
   "outputs": [
    {
     "name": "stdout",
     "output_type": "stream",
     "text": [
      "Number of records:  3924\n",
      "True positive:  758\n",
      "True negative:  2884\n",
      "False positive:  36\n",
      "False negative:  246\n",
      "Accuracy:  0.9281345565749235\n",
      "Precision:  0.9546599496221663\n",
      "Recall:  0.7549800796812749\n"
     ]
    }
   ],
   "source": [
    "rule_3(train_data, \"train_3\")"
   ]
  },
  {
   "cell_type": "markdown",
   "metadata": {
    "pycharm": {
     "name": "#%% md\n"
    }
   },
   "source": [
    "Vidíme, že pri treťom pravidle nie sú získané hodnoty tak priaznivé, ako pri predchádzajúcom, ale stále sú mierne lepšie\n",
    "ako pri prvom pravidle. Všetky atribúty pri týchto troch pravidlách boli vybraté na základe korelácie medzi nimi a atribútom\n",
    "diabetes_presence.\n",
    "\n",
    "### Pravidlá s využitím viacerých atribútov"
   ]
  },
  {
   "cell_type": "code",
   "execution_count": 105,
   "metadata": {
    "pycharm": {
     "name": "#%%\n"
    }
   },
   "outputs": [],
   "source": [
    "def rule_4(data, key):\n",
    "\n",
    "    rules_dict[key] = {}\n",
    "    rules_dict[key][\"sum\"] = data[\"diabetes_presence\"].count()\n",
    "    \n",
    "    rules_dict[key][\"TP\"] = len(data.loc[(data[\"skewness_glucose\"] >= 0.9) &\n",
    "                                         (data[\"kurtosis_glucose\"] >  0.6) &\n",
    "                                         (data[\"diabetes_presence\"] == 1.0)])\n",
    "\n",
    "    rules_dict[key][\"TN\"] = len(data.loc[(data[\"skewness_glucose\"] <  0.9) &\n",
    "                                         (data[\"kurtosis_glucose\"] <= 0.6) &\n",
    "                                         (data[\"diabetes_presence\"] == 0.0)])\n",
    "\n",
    "    rules_dict[key][\"FP\"] = len(data.loc[(data[\"skewness_glucose\"] >= 0.9) &\n",
    "                                         (data[\"kurtosis_glucose\"] >  0.6) &\n",
    "                                         (data[\"diabetes_presence\"] == 0.0)])\n",
    "\n",
    "    rules_dict[key][\"FN\"] = len(data.loc[(data[\"skewness_glucose\"] <  0.9) &\n",
    "                                         (data[\"kurtosis_glucose\"] <= 0.6) &\n",
    "                                         (data[\"diabetes_presence\"] == 1.0)])\n",
    "    print_results(rules_dict, key)"
   ]
  },
  {
   "cell_type": "code",
   "execution_count": 106,
   "metadata": {
    "pycharm": {
     "name": "#%%\n"
    }
   },
   "outputs": [
    {
     "name": "stdout",
     "output_type": "stream",
     "text": [
      "Number of records:  3924\n",
      "True positive:  755\n",
      "True negative:  2870\n",
      "False positive:  8\n",
      "False negative:  161\n",
      "Accuracy:  0.9238022426095821\n",
      "Precision:  0.9895150720838795\n",
      "Recall:  0.824235807860262\n"
     ]
    }
   ],
   "source": [
    "rule_4(train_data, \"train_4\")"
   ]
  },
  {
   "cell_type": "code",
   "execution_count": 174,
   "metadata": {
    "pycharm": {
     "name": "#%%\n"
    }
   },
   "outputs": [],
   "source": [
    "def rule_5(data, key):\n",
    "\n",
    "    rules_dict[key] = {}\n",
    "    rules_dict[key][\"sum\"] = data[\"diabetes_presence\"].count()\n",
    "    \n",
    "    # Better accuracy and recall\n",
    "    rules_dict[key][\"TP\"] = len(data.loc[(data[\"mean_oxygen\"] >= 0.75) &\n",
    "                                         (data[\"kurtosis_glucose\"] >  0.6) &\n",
    "                                         (data[\"diabetes_presence\"] == 1.0)])\n",
    "\n",
    "    rules_dict[key][\"TN\"] = len(data.loc[(data[\"mean_oxygen\"] <  0.75) &\n",
    "                                         (data[\"kurtosis_glucose\"] <= 0.6) &\n",
    "                                         (data[\"diabetes_presence\"] == 0.0)])\n",
    "\n",
    "    rules_dict[key][\"FP\"] = len(data.loc[(data[\"mean_oxygen\"] >= 0.75) &\n",
    "                                         (data[\"kurtosis_glucose\"] >  0.6) &\n",
    "                                         (data[\"diabetes_presence\"] == 0.0)])\n",
    "\n",
    "    rules_dict[key][\"FN\"] = len(data.loc[(data[\"mean_oxygen\"] <  0.75) &\n",
    "                                         (data[\"kurtosis_glucose\"] <= 0.6) &\n",
    "                                         (data[\"diabetes_presence\"] == 1.0)])\n",
    "    \n",
    "    # Better precision, less FP and FN values\n",
    "    # rules_dict[key][\"TP\"] = len(data.loc[(data[\"mean_oxygen\"] >= 0.75) &\n",
    "    #                                      (data[\"kurtosis_glucose\"] >  0.6) &\n",
    "    #                                      (data[\"skewness_glucose\"] >= 0.9) &\n",
    "    #                                      (data[\"diabetes_presence\"] == 1.0)])\n",
    "    #\n",
    "    # rules_dict[key][\"TN\"] = len(data.loc[(data[\"mean_oxygen\"] <  0.75) &\n",
    "    #                                      (data[\"kurtosis_glucose\"] <= 0.6) &\n",
    "    #                                      (data[\"skewness_glucose\"] <  0.9) &\n",
    "    #                                      (data[\"diabetes_presence\"] == 0.0)])\n",
    "    #\n",
    "    # rules_dict[key][\"FP\"] = len(data.loc[(data[\"mean_oxygen\"] >= 0.75) &\n",
    "    #                                      (data[\"kurtosis_glucose\"] >  0.6) &\n",
    "    #                                      (data[\"skewness_glucose\"] >= 0.9) &\n",
    "    #                                      (data[\"diabetes_presence\"] == 0.0)])\n",
    "    #\n",
    "    # rules_dict[key][\"FN\"] = len(data.loc[(data[\"mean_oxygen\"] <  0.75) &\n",
    "    #                                      (data[\"kurtosis_glucose\"] <= 0.6) &\n",
    "    #                                      (data[\"skewness_glucose\"] <  0.9) &\n",
    "    #                                      (data[\"diabetes_presence\"] == 1.0)])\n",
    "    print_results(rules_dict, key)"
   ]
  },
  {
   "cell_type": "code",
   "execution_count": 175,
   "metadata": {
    "pycharm": {
     "name": "#%%\n"
    }
   },
   "outputs": [
    {
     "name": "stdout",
     "output_type": "stream",
     "text": [
      "Number of records:  3924\n",
      "True positive:  720\n",
      "True negative:  2638\n",
      "False positive:  10\n",
      "False negative:  108\n",
      "Accuracy:  0.8557594291539246\n",
      "Precision:  0.9863013698630136\n",
      "Recall:  0.8695652173913043\n"
     ]
    }
   ],
   "source": [
    "rule_5(train_data, \"train_5\")"
   ]
  },
  {
   "cell_type": "code",
   "execution_count": null,
   "outputs": [],
   "source": [],
   "metadata": {
    "collapsed": false,
    "pycharm": {
     "name": "#%%\n"
    }
   }
  },
  {
   "cell_type": "code",
   "execution_count": null,
   "metadata": {},
   "outputs": [],
   "source": []
  }
 ],
 "metadata": {
  "kernelspec": {
   "display_name": "Python 3",
   "language": "python",
   "name": "python3"
  },
  "language_info": {
   "codemirror_mode": {
    "name": "ipython",
    "version": 3
   },
   "file_extension": ".py",
   "mimetype": "text/x-python",
   "name": "python",
   "nbconvert_exporter": "python",
   "pygments_lexer": "ipython3",
   "version": "3.7.0"
  }
 },
 "nbformat": 4,
 "nbformat_minor": 1
}