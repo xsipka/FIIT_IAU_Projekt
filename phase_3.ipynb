{
 "cells": [
  {
   "cell_type": "code",
   "execution_count": 1,
   "metadata": {},
   "outputs": [],
   "source": [
    "import pandas as pd\n",
    "import numpy as np\n",
    "import matplotlib.pyplot as plt\n",
    "import seaborn as sns\n",
    "import preprocessing"
   ]
  },
  {
   "cell_type": "markdown",
   "metadata": {
    "pycharm": {
     "name": "#%% md\n"
    }
   },
   "source": [
    "## Predspracovanie datasetov\n",
    "\n",
    "Na predspracovanie oboch datasetov bolo nutné premiestniť všetky potrebné funkcie a triedy, vytvorené v predchádzajúcej\n",
    "fáze projektu do novovytvoreného súboru preprocessing.py. V danom súbore sme vytvorili funkciu, ktorá ako argument berie\n",
    ".csv súbory pre osobné a aj medicínske dáta, spojí ich do jedného datasetu, ktorý následne upraví pomocou našej\n",
    "pipeline. Po predspracovaní nám vráti upravený dataset, s ktorým už môžeme ďalej pracovať. Túto funkciu zavoláme pre\n",
    "trénovací, ako aj validačný dataset.\n",
    "\n",
    "Ako môžeme nižšie vidieť, proces predspracovania prebehol správne, oba datasety obsahujú rovnaké atribúty, majú všade\n",
    "len jeden dátový typ a sú bez akýchkoľvek chýbajúcich hodnôt."
   ]
  },
  {
   "cell_type": "code",
   "execution_count": 2,
   "metadata": {
    "pycharm": {
     "name": "#%%\n"
    }
   },
   "outputs": [
    {
     "name": "stderr",
     "output_type": "stream",
     "text": [
      "d:\\dokumenty\\stu - fiit\\5. sem\\iau\\projekt\\venv\\lib\\site-packages\\pandas\\core\\indexing.py:1765: SettingWithCopyWarning: \n",
      "A value is trying to be set on a copy of a slice from a DataFrame.\n",
      "Try using .loc[row_indexer,col_indexer] = value instead\n",
      "\n",
      "See the caveats in the documentation: https://pandas.pydata.org/pandas-docs/stable/user_guide/indexing.html#returning-a-view-versus-a-copy\n",
      "  isetter(loc, value)\n",
      "D:\\Dokumenty\\STU - FIIT\\5. sem\\IAU\\projekt\\preprocessing.py:64: SettingWithCopyWarning: \n",
      "A value is trying to be set on a copy of a slice from a DataFrame.\n",
      "Try using .loc[row_indexer,col_indexer] = value instead\n",
      "\n",
      "See the caveats in the documentation: https://pandas.pydata.org/pandas-docs/stable/user_guide/indexing.html#returning-a-view-versus-a-copy\n",
      "  X[\"pregnant\"] = X[\"pregnant\"].map(format_pregnancy)\n",
      "D:\\Dokumenty\\STU - FIIT\\5. sem\\IAU\\projekt\\preprocessing.py:52: SettingWithCopyWarning: \n",
      "A value is trying to be set on a copy of a slice from a DataFrame.\n",
      "Try using .loc[row_indexer,col_indexer] = value instead\n",
      "\n",
      "See the caveats in the documentation: https://pandas.pydata.org/pandas-docs/stable/user_guide/indexing.html#returning-a-view-versus-a-copy\n",
      "  X['sex'] = X[\"sex\"].map(fix_sex_value)\n",
      "d:\\dokumenty\\stu - fiit\\5. sem\\iau\\projekt\\venv\\lib\\site-packages\\pandas\\core\\indexing.py:1765: SettingWithCopyWarning: \n",
      "A value is trying to be set on a copy of a slice from a DataFrame.\n",
      "Try using .loc[row_indexer,col_indexer] = value instead\n",
      "\n",
      "See the caveats in the documentation: https://pandas.pydata.org/pandas-docs/stable/user_guide/indexing.html#returning-a-view-versus-a-copy\n",
      "  isetter(loc, value)\n"
     ]
    },
    {
     "name": "stdout",
     "output_type": "stream",
     "text": [
      "Median stlpca education-num 10.0\n",
      "Median stlpca capital-gain 0.0\n",
      "Median stlpca age 52.0\n",
      "Median stlpca pregnant 0.0\n",
      "Median stlpca hours-per-week 40.0\n",
      "Median stlpca capital-loss 0.0\n",
      "<class 'pandas.core.frame.DataFrame'>\n",
      "RangeIndex: 3924 entries, 0 to 3923\n",
      "Data columns (total 17 columns):\n",
      " #   Column             Non-Null Count  Dtype  \n",
      "---  ------             --------------  -----  \n",
      " 0   age                3924 non-null   float64\n",
      " 1   sex                3924 non-null   float64\n",
      " 2   kurtosis_oxygen    3924 non-null   float64\n",
      " 3   pregnant           3924 non-null   float64\n",
      " 4   education-num      3924 non-null   float64\n",
      " 5   skewness_glucose   3924 non-null   float64\n",
      " 6   mean_glucose       3924 non-null   float64\n",
      " 7   std_oxygen         3924 non-null   float64\n",
      " 8   capital-gain       3924 non-null   float64\n",
      " 9   skewness_oxygen    3924 non-null   float64\n",
      " 10  kurtosis_glucose   3924 non-null   float64\n",
      " 11  final_weight       3924 non-null   float64\n",
      " 12  diabetes_presence  3924 non-null   float64\n",
      " 13  std_glucose        3924 non-null   float64\n",
      " 14  mean_oxygen        3924 non-null   float64\n",
      " 15  hours-per-week     3924 non-null   float64\n",
      " 16  capital-loss       3924 non-null   float64\n",
      "dtypes: float64(17)\n",
      "memory usage: 521.2 KB\n"
     ]
    }
   ],
   "source": [
    "medical_train = pd.read_csv(\"dataset/other_train.csv\")\n",
    "personal_train = pd.read_csv(\"dataset/personal_train.csv\")\n",
    "\n",
    "train_data = preprocessing.preprocess_dataset(medical_train, personal_train)\n",
    "train_data.info()"
   ]
  },
  {
   "cell_type": "code",
   "execution_count": 3,
   "metadata": {
    "pycharm": {
     "name": "#%%\n"
    }
   },
   "outputs": [
    {
     "name": "stdout",
     "output_type": "stream",
     "text": [
      "Median stlpca education-num 10.0\n",
      "Median stlpca capital-gain 0.0\n",
      "Median stlpca age 52.0\n",
      "Median stlpca pregnant 0.0\n",
      "Median stlpca hours-per-week 40.0\n",
      "Median stlpca capital-loss 0.0\n",
      "<class 'pandas.core.frame.DataFrame'>\n",
      "RangeIndex: 1306 entries, 0 to 1305\n",
      "Data columns (total 17 columns):\n",
      " #   Column             Non-Null Count  Dtype  \n",
      "---  ------             --------------  -----  \n",
      " 0   age                1306 non-null   float64\n",
      " 1   sex                1306 non-null   float64\n",
      " 2   kurtosis_oxygen    1306 non-null   float64\n",
      " 3   pregnant           1306 non-null   float64\n",
      " 4   education-num      1306 non-null   float64\n",
      " 5   skewness_glucose   1306 non-null   float64\n",
      " 6   mean_glucose       1306 non-null   float64\n",
      " 7   std_oxygen         1306 non-null   float64\n",
      " 8   capital-gain       1306 non-null   float64\n",
      " 9   skewness_oxygen    1306 non-null   float64\n",
      " 10  kurtosis_glucose   1306 non-null   float64\n",
      " 11  final_weight       1306 non-null   float64\n",
      " 12  diabetes_presence  1306 non-null   float64\n",
      " 13  std_glucose        1306 non-null   float64\n",
      " 14  mean_oxygen        1306 non-null   float64\n",
      " 15  hours-per-week     1306 non-null   float64\n",
      " 16  capital-loss       1306 non-null   float64\n",
      "dtypes: float64(17)\n",
      "memory usage: 173.5 KB\n"
     ]
    },
    {
     "name": "stderr",
     "output_type": "stream",
     "text": [
      "d:\\dokumenty\\stu - fiit\\5. sem\\iau\\projekt\\venv\\lib\\site-packages\\pandas\\core\\indexing.py:1765: SettingWithCopyWarning: \n",
      "A value is trying to be set on a copy of a slice from a DataFrame.\n",
      "Try using .loc[row_indexer,col_indexer] = value instead\n",
      "\n",
      "See the caveats in the documentation: https://pandas.pydata.org/pandas-docs/stable/user_guide/indexing.html#returning-a-view-versus-a-copy\n",
      "  isetter(loc, value)\n",
      "D:\\Dokumenty\\STU - FIIT\\5. sem\\IAU\\projekt\\preprocessing.py:64: SettingWithCopyWarning: \n",
      "A value is trying to be set on a copy of a slice from a DataFrame.\n",
      "Try using .loc[row_indexer,col_indexer] = value instead\n",
      "\n",
      "See the caveats in the documentation: https://pandas.pydata.org/pandas-docs/stable/user_guide/indexing.html#returning-a-view-versus-a-copy\n",
      "  X[\"pregnant\"] = X[\"pregnant\"].map(format_pregnancy)\n",
      "D:\\Dokumenty\\STU - FIIT\\5. sem\\IAU\\projekt\\preprocessing.py:52: SettingWithCopyWarning: \n",
      "A value is trying to be set on a copy of a slice from a DataFrame.\n",
      "Try using .loc[row_indexer,col_indexer] = value instead\n",
      "\n",
      "See the caveats in the documentation: https://pandas.pydata.org/pandas-docs/stable/user_guide/indexing.html#returning-a-view-versus-a-copy\n",
      "  X['sex'] = X[\"sex\"].map(fix_sex_value)\n",
      "d:\\dokumenty\\stu - fiit\\5. sem\\iau\\projekt\\venv\\lib\\site-packages\\pandas\\core\\indexing.py:1765: SettingWithCopyWarning: \n",
      "A value is trying to be set on a copy of a slice from a DataFrame.\n",
      "Try using .loc[row_indexer,col_indexer] = value instead\n",
      "\n",
      "See the caveats in the documentation: https://pandas.pydata.org/pandas-docs/stable/user_guide/indexing.html#returning-a-view-versus-a-copy\n",
      "  isetter(loc, value)\n"
     ]
    }
   ],
   "source": [
    "medical_valid = pd.read_csv(\"dataset/other_valid.csv\")\n",
    "personal_valid = pd.read_csv(\"dataset/personal_valid.csv\")\n",
    "\n",
    "valid_data = preprocessing.preprocess_dataset(medical_valid, personal_valid)\n",
    "valid_data.info()"
   ]
  },
  {
   "cell_type": "markdown",
   "metadata": {
    "pycharm": {
     "name": "#%% md\n"
    }
   },
   "source": [
    "## Manuálne vytvorenie a vyhodnotenie rozhodovacích pravidiel pre klasifikáciu\n",
    "\n",
    "### Pravidlá s využitím 1 atribútu\n"
   ]
  },
  {
   "cell_type": "code",
   "execution_count": 4,
   "metadata": {
    "pycharm": {
     "name": "#%%\n"
    }
   },
   "outputs": [
    {
     "data": {
      "text/plain": [
       "<AxesSubplot:xlabel='diabetes_presence', ylabel='mean_glucose'>"
      ]
     },
     "execution_count": 4,
     "metadata": {},
     "output_type": "execute_result"
    },
    {
     "data": {
      "image/png": "[encoded data removed]",
      "text/plain": [
       "<Figure size 432x288 with 1 Axes>"
      ]
     },
     "metadata": {
      "needs_background": "light"
     },
     "output_type": "display_data"
    }
   ],
   "source": [
    "sns.boxplot(y = \"mean_glucose\", x = \"diabetes_presence\", data= train_data)"
   ]
  },
  {
   "cell_type": "code",
   "execution_count": 5,
   "metadata": {
    "pycharm": {
     "name": "#%%\n"
    }
   },
   "outputs": [
    {
     "data": {
      "text/html": [
       "<div>\n",
       "<style scoped>\n",
       "    .dataframe tbody tr th:only-of-type {\n",
       "        vertical-align: middle;\n",
       "    }\n",
       "\n",
       "    .dataframe tbody tr th {\n",
       "        vertical-align: top;\n",
       "    }\n",
       "\n",
       "    .dataframe thead th {\n",
       "        text-align: right;\n",
       "    }\n",
       "</style>\n",
       "<table border=\"1\" class=\"dataframe\">\n",
       "  <thead>\n",
       "    <tr style=\"text-align: right;\">\n",
       "      <th></th>\n",
       "      <th>mean_glucose</th>\n",
       "      <th>diabetes_presence</th>\n",
       "    </tr>\n",
       "  </thead>\n",
       "  <tbody>\n",
       "    <tr>\n",
       "      <th>73</th>\n",
       "      <td>-0.750975</td>\n",
       "      <td>1.0</td>\n",
       "    </tr>\n",
       "    <tr>\n",
       "      <th>142</th>\n",
       "      <td>-0.759431</td>\n",
       "      <td>1.0</td>\n",
       "    </tr>\n",
       "    <tr>\n",
       "      <th>368</th>\n",
       "      <td>-0.755320</td>\n",
       "      <td>1.0</td>\n",
       "    </tr>\n",
       "    <tr>\n",
       "      <th>841</th>\n",
       "      <td>-0.758975</td>\n",
       "      <td>0.0</td>\n",
       "    </tr>\n",
       "    <tr>\n",
       "      <th>2046</th>\n",
       "      <td>-0.752348</td>\n",
       "      <td>0.0</td>\n",
       "    </tr>\n",
       "    <tr>\n",
       "      <th>2200</th>\n",
       "      <td>-0.756691</td>\n",
       "      <td>1.0</td>\n",
       "    </tr>\n",
       "    <tr>\n",
       "      <th>2328</th>\n",
       "      <td>-0.752805</td>\n",
       "      <td>0.0</td>\n",
       "    </tr>\n",
       "    <tr>\n",
       "      <th>3634</th>\n",
       "      <td>-0.754406</td>\n",
       "      <td>0.0</td>\n",
       "    </tr>\n",
       "  </tbody>\n",
       "</table>\n",
       "</div>"
      ],
      "text/plain": [
       "      mean_glucose  diabetes_presence\n",
       "73       -0.750975                1.0\n",
       "142      -0.759431                1.0\n",
       "368      -0.755320                1.0\n",
       "841      -0.758975                0.0\n",
       "2046     -0.752348                0.0\n",
       "2200     -0.756691                1.0\n",
       "2328     -0.752805                0.0\n",
       "3634     -0.754406                0.0"
      ]
     },
     "execution_count": 5,
     "metadata": {},
     "output_type": "execute_result"
    }
   ],
   "source": [
    "rule_1_columns = [\"mean_glucose\", \"diabetes_presence\"]\n",
    "train_data[rule_1_columns].loc[(train_data[\"mean_glucose\"] <= -0.75) & (train_data[\"mean_glucose\"] > -0.76)].head(40)"
   ]
  },
  {
   "cell_type": "code",
   "execution_count": 6,
   "metadata": {
    "pycharm": {
     "name": "#%%\n"
    }
   },
   "outputs": [],
   "source": [
    "rules_dict = {}"
   ]
  },
  {
   "cell_type": "code",
   "execution_count": 7,
   "metadata": {
    "pycharm": {
     "name": "#%%\n"
    }
   },
   "outputs": [],
   "source": [
    "def calculate_accuracy(rule, key):\n",
    "    return (rule[key][\"TP\"] + rule[key][\"TN\"]) / rule[key][\"sum\"]\n",
    "\n",
    "def calculate_precision(rule, key):\n",
    "    return rule[key][\"TP\"] / (rule[key][\"TP\"] + rule[key][\"FP\"])\n",
    "\n",
    "def calculate_recall(rule, key):\n",
    "    return rule[key][\"TP\"] / (rule[key][\"TP\"] + rule[key][\"FN\"])\n",
    "\n",
    "\n",
    "def print_results(rule, key):\n",
    "    print(\"Number of records: \", rule[key][\"sum\"])\n",
    "    print(\"True positive: \", rule[key][\"TP\"])\n",
    "    print(\"True negative: \", rule[key][\"TN\"])\n",
    "    print(\"False positive: \", rule[key][\"FP\"])\n",
    "    print(\"False negative: \", rule[key][\"FN\"])\n",
    "\n",
    "    print(\"Accuracy: \", calculate_accuracy(rule, key))\n",
    "    print(\"Precision: \", calculate_precision(rule, key))\n",
    "    print(\"Recall: \", calculate_recall(rule, key))"
   ]
  },
  {
   "cell_type": "code",
   "execution_count": 8,
   "metadata": {
    "pycharm": {
     "name": "#%%\n"
    }
   },
   "outputs": [],
   "source": [
    "# used attribute is mean_glucose\n",
    "def rule_1(data, key):\n",
    "\n",
    "    rules_dict[key] = {}\n",
    "    rules_dict[key][\"sum\"] = data[\"diabetes_presence\"].count()\n",
    "\n",
    "    rules_dict[key][\"TP\"] = len(data.loc[(data[\"mean_glucose\"] <= -0.75) & (data[\"diabetes_presence\"] == 1.0), \"diabetes_presence\"])\n",
    "    rules_dict[key][\"TN\"] = len(data.loc[(data[\"mean_glucose\"] >  -0.75) & (data[\"diabetes_presence\"] == 0.0), \"diabetes_presence\"])\n",
    "    rules_dict[key][\"FP\"] = len(data.loc[(data[\"mean_glucose\"] <= -0.75) & (data[\"diabetes_presence\"] == 0.0), \"diabetes_presence\"])\n",
    "    rules_dict[key][\"FN\"] = len(data.loc[(data[\"mean_glucose\"] >  -0.75) & (data[\"diabetes_presence\"] == 1.0), \"diabetes_presence\"])\n",
    "    \n",
    "    print_results(rules_dict, key)"
   ]
  },
  {
   "cell_type": "code",
   "execution_count": 9,
   "metadata": {
    "pycharm": {
     "name": "#%%\n"
    }
   },
   "outputs": [
    {
     "name": "stdout",
     "output_type": "stream",
     "text": [
      "Number of records:  3924\n",
      "True positive:  778\n",
      "True negative:  2840\n",
      "False positive:  80\n",
      "False negative:  226\n",
      "Accuracy:  0.9220183486238532\n",
      "Precision:  0.9067599067599068\n",
      "Recall:  0.7749003984063745\n"
     ]
    }
   ],
   "source": [
    "rule_1(train_data, \"train_1\")"
   ]
  },
  {
   "cell_type": "code",
   "execution_count": 13,
   "metadata": {
    "pycharm": {
     "name": "#%%\n"
    }
   },
   "outputs": [
    {
     "data": {
      "text/plain": [
       "<AxesSubplot:xlabel='diabetes_presence', ylabel='kurtosis_glucose'>"
      ]
     },
     "execution_count": 13,
     "metadata": {},
     "output_type": "execute_result"
    },
    {
     "data": {
      "image/png": "[encoded data removed]",
      "text/plain": [
       "<Figure size 432x288 with 1 Axes>"
      ]
     },
     "metadata": {
      "needs_background": "light"
     },
     "output_type": "display_data"
    }
   ],
   "source": [
    "sns.boxplot(y = \"kurtosis_glucose\", x = \"diabetes_presence\", data= train_data)"
   ]
  },
  {
   "cell_type": "code",
   "execution_count": 22,
   "metadata": {
    "pycharm": {
     "name": "#%%\n"
    }
   },
   "outputs": [
    {
     "data": {
      "text/html": [
       "<div>\n",
       "<style scoped>\n",
       "    .dataframe tbody tr th:only-of-type {\n",
       "        vertical-align: middle;\n",
       "    }\n",
       "\n",
       "    .dataframe tbody tr th {\n",
       "        vertical-align: top;\n",
       "    }\n",
       "\n",
       "    .dataframe thead th {\n",
       "        text-align: right;\n",
       "    }\n",
       "</style>\n",
       "<table border=\"1\" class=\"dataframe\">\n",
       "  <thead>\n",
       "    <tr style=\"text-align: right;\">\n",
       "      <th></th>\n",
       "      <th>kurtosis_glucose</th>\n",
       "      <th>diabetes_presence</th>\n",
       "    </tr>\n",
       "  </thead>\n",
       "  <tbody>\n",
       "    <tr>\n",
       "      <th>6</th>\n",
       "      <td>0.626568</td>\n",
       "      <td>1.0</td>\n",
       "    </tr>\n",
       "    <tr>\n",
       "      <th>675</th>\n",
       "      <td>0.635158</td>\n",
       "      <td>1.0</td>\n",
       "    </tr>\n",
       "    <tr>\n",
       "      <th>797</th>\n",
       "      <td>0.623671</td>\n",
       "      <td>1.0</td>\n",
       "    </tr>\n",
       "    <tr>\n",
       "      <th>1144</th>\n",
       "      <td>0.641077</td>\n",
       "      <td>0.0</td>\n",
       "    </tr>\n",
       "    <tr>\n",
       "      <th>1376</th>\n",
       "      <td>0.605885</td>\n",
       "      <td>0.0</td>\n",
       "    </tr>\n",
       "    <tr>\n",
       "      <th>1580</th>\n",
       "      <td>0.630058</td>\n",
       "      <td>1.0</td>\n",
       "    </tr>\n",
       "    <tr>\n",
       "      <th>1665</th>\n",
       "      <td>0.609249</td>\n",
       "      <td>0.0</td>\n",
       "    </tr>\n",
       "    <tr>\n",
       "      <th>1746</th>\n",
       "      <td>0.607142</td>\n",
       "      <td>0.0</td>\n",
       "    </tr>\n",
       "    <tr>\n",
       "      <th>1976</th>\n",
       "      <td>0.600465</td>\n",
       "      <td>1.0</td>\n",
       "    </tr>\n",
       "    <tr>\n",
       "      <th>2285</th>\n",
       "      <td>0.647630</td>\n",
       "      <td>1.0</td>\n",
       "    </tr>\n",
       "    <tr>\n",
       "      <th>2355</th>\n",
       "      <td>0.641673</td>\n",
       "      <td>1.0</td>\n",
       "    </tr>\n",
       "    <tr>\n",
       "      <th>3252</th>\n",
       "      <td>0.636423</td>\n",
       "      <td>1.0</td>\n",
       "    </tr>\n",
       "    <tr>\n",
       "      <th>3272</th>\n",
       "      <td>0.642221</td>\n",
       "      <td>1.0</td>\n",
       "    </tr>\n",
       "    <tr>\n",
       "      <th>3370</th>\n",
       "      <td>0.605700</td>\n",
       "      <td>0.0</td>\n",
       "    </tr>\n",
       "    <tr>\n",
       "      <th>3596</th>\n",
       "      <td>0.629671</td>\n",
       "      <td>1.0</td>\n",
       "    </tr>\n",
       "    <tr>\n",
       "      <th>3647</th>\n",
       "      <td>0.603626</td>\n",
       "      <td>0.0</td>\n",
       "    </tr>\n",
       "    <tr>\n",
       "      <th>3721</th>\n",
       "      <td>0.643447</td>\n",
       "      <td>1.0</td>\n",
       "    </tr>\n",
       "    <tr>\n",
       "      <th>3826</th>\n",
       "      <td>0.649099</td>\n",
       "      <td>1.0</td>\n",
       "    </tr>\n",
       "  </tbody>\n",
       "</table>\n",
       "</div>"
      ],
      "text/plain": [
       "      kurtosis_glucose  diabetes_presence\n",
       "6             0.626568                1.0\n",
       "675           0.635158                1.0\n",
       "797           0.623671                1.0\n",
       "1144          0.641077                0.0\n",
       "1376          0.605885                0.0\n",
       "1580          0.630058                1.0\n",
       "1665          0.609249                0.0\n",
       "1746          0.607142                0.0\n",
       "1976          0.600465                1.0\n",
       "2285          0.647630                1.0\n",
       "2355          0.641673                1.0\n",
       "3252          0.636423                1.0\n",
       "3272          0.642221                1.0\n",
       "3370          0.605700                0.0\n",
       "3596          0.629671                1.0\n",
       "3647          0.603626                0.0\n",
       "3721          0.643447                1.0\n",
       "3826          0.649099                1.0"
      ]
     },
     "execution_count": 22,
     "metadata": {},
     "output_type": "execute_result"
    }
   ],
   "source": [
    "rule_2_columns = [\"kurtosis_glucose\", \"diabetes_presence\"]\n",
    "#train_data[rule_2_columns].loc[train_data[\"diabetes_presence\"] == 0].head(20)\n",
    "train_data[rule_2_columns].loc[(train_data[\"kurtosis_glucose\"] >= 0.6) & (train_data[\"kurtosis_glucose\"] < 0.65)].head(40)"
   ]
  },
  {
   "cell_type": "code",
   "execution_count": 24,
   "metadata": {
    "pycharm": {
     "name": "#%%\n"
    }
   },
   "outputs": [],
   "source": [
    "# used attribute is kurtosis glucose\n",
    "def rule_2(data, key):\n",
    "\n",
    "    rules_dict[key] = {}\n",
    "    rules_dict[key][\"sum\"] = data[\"diabetes_presence\"].count()\n",
    "\n",
    "    rules_dict[key][\"TP\"] = len(data.loc[(data[\"kurtosis_glucose\"] >  0.6) & (data[\"diabetes_presence\"] == 1.0), \"diabetes_presence\"])\n",
    "    rules_dict[key][\"TN\"] = len(data.loc[(data[\"kurtosis_glucose\"] <= 0.6) & (data[\"diabetes_presence\"] == 0.0), \"diabetes_presence\"])\n",
    "    rules_dict[key][\"FP\"] = len(data.loc[(data[\"kurtosis_glucose\"] >  0.6) & (data[\"diabetes_presence\"] == 0.0), \"diabetes_presence\"])\n",
    "    rules_dict[key][\"FN\"] = len(data.loc[(data[\"kurtosis_glucose\"] <= 0.6) & (data[\"diabetes_presence\"] == 1.0), \"diabetes_presence\"])\n",
    "\n",
    "    print_results(rules_dict, key)"
   ]
  },
  {
   "cell_type": "code",
   "execution_count": 25,
   "metadata": {
    "pycharm": {
     "name": "#%%\n"
    }
   },
   "outputs": [
    {
     "name": "stdout",
     "output_type": "stream",
     "text": [
      "Number of records:  3924\n",
      "True positive:  840\n",
      "True negative:  2898\n",
      "False positive:  22\n",
      "False negative:  164\n",
      "Accuracy:  0.9525993883792049\n",
      "Precision:  0.974477958236659\n",
      "Recall:  0.8366533864541833\n"
     ]
    }
   ],
   "source": [
    "rule_2(train_data, \"train_2\")"
   ]
  }
 ],
 "metadata": {
  "kernelspec": {
   "display_name": "Python 3",
   "language": "python",
   "name": "python3"
  },
  "language_info": {
   "codemirror_mode": {
    "name": "ipython",
    "version": 3
   },
   "file_extension": ".py",
   "mimetype": "text/x-python",
   "name": "python",
   "nbconvert_exporter": "python",
   "pygments_lexer": "ipython3",
   "version": "3.7.0"
  }
 },
 "nbformat": 4,
 "nbformat_minor": 1
}