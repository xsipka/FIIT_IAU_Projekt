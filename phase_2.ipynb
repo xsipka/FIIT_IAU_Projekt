{
 "cells": [
  {
   "cell_type": "code",
   "execution_count": 16,
   "metadata": {},
   "outputs": [],
   "source": [
    "import pylab as py\n",
    "import pandas as pd\n",
    "import numpy as np\n",
    "import matplotlib.pyplot as plt\n",
    "import seaborn as sns"
   ]
  },
  {
   "cell_type": "code",
   "execution_count": 154,
   "metadata": {
    "pycharm": {
     "name": "#%%\n"
    }
   },
   "outputs": [],
   "source": [
    "medical_data = pd.read_csv(\"dataset/other_train.csv\")\n",
    "personal_data = pd.read_csv(\"dataset/personal_train.csv\")"
   ]
  },
  {
   "cell_type": "markdown",
   "metadata": {
    "pycharm": {
     "name": "#%% md\n"
    },
    "scrolled": true
   },
   "source": [
    "V predchádzajúcej časti sme v oboch súboroch idetifikovali dva nepomenované stĺpce, ktoré pre nás nemajú žiaden význam,\n",
    "takže ich teraz môžeme z oboch datasetov odstrániť."
   ]
  },
  {
   "cell_type": "code",
   "execution_count": 155,
   "metadata": {
    "pycharm": {
     "name": "#%%\n"
    }
   },
   "outputs": [],
   "source": [
    "personal_data = personal_data.drop(personal_data.columns[0], axis=1)\n",
    "medical_data = medical_data.drop(medical_data.columns[0], axis=1)"
   ]
  },
  {
   "cell_type": "markdown",
   "metadata": {
    "pycharm": {
     "name": "#%% md\n"
    }
   },
   "source": [
    "Dáta spojíme do jednej tabuľky, keďže jedno pozorovanie musí byť opísané len jedným riadkom."
   ]
  },
  {
   "cell_type": "code",
   "execution_count": 265,
   "metadata": {
    "pycharm": {
     "name": "#%%\n"
    }
   },
   "outputs": [
    {
     "name": "stdout",
     "output_type": "stream",
     "text": [
      "<class 'pandas.core.frame.DataFrame'>\n",
      "Int64Index: 3983 entries, 0 to 3982\n",
      "Data columns (total 24 columns):\n",
      " #   Column            Non-Null Count  Dtype  \n",
      "---  ------            --------------  -----  \n",
      " 0   name              3983 non-null   object \n",
      " 1   address           3983 non-null   object \n",
      " 2   age               3983 non-null   int64  \n",
      " 3   sex               3983 non-null   object \n",
      " 4   date_of_birth     3983 non-null   object \n",
      " 5   kurtosis_oxygen   3974 non-null   float64\n",
      " 6   pregnant          3971 non-null   object \n",
      " 7   education-num     3579 non-null   float64\n",
      " 8   relationship      3961 non-null   object \n",
      " 9   skewness_glucose  3965 non-null   float64\n",
      " 10  mean_glucose      3963 non-null   float64\n",
      " 11  std_oxygen        3967 non-null   float64\n",
      " 12  capital-gain      3969 non-null   float64\n",
      " 13  skewness_oxygen   3975 non-null   float64\n",
      " 14  kurtosis_glucose  3968 non-null   float64\n",
      " 15  personal_info     3974 non-null   object \n",
      " 16  education         3971 non-null   object \n",
      " 17  fnlwgt            3967 non-null   float64\n",
      " 18  class             3962 non-null   float64\n",
      " 19  std_glucose       3968 non-null   float64\n",
      " 20  income            3969 non-null   object \n",
      " 21  mean_oxygen       3971 non-null   float64\n",
      " 22  hours-per-week    3970 non-null   float64\n",
      " 23  capital-loss      3970 non-null   float64\n",
      "dtypes: float64(14), int64(1), object(9)\n",
      "memory usage: 637.9+ KB\n"
     ]
    }
   ],
   "source": [
    "data = pd.merge(personal_data, medical_data, on = [\"name\", \"address\"], how = \"outer\")\n",
    "data_backup = data\n",
    "\n",
    "data.info()"
   ]
  },
  {
   "cell_type": "markdown",
   "metadata": {
    "pycharm": {
     "name": "#%% md\n"
    }
   },
   "source": [
    "Ako prvé môžeme premenovať stĺpce class a fnlwgt, aby ich názvy boli viacej informatívne."
   ]
  },
  {
   "cell_type": "code",
   "execution_count": null,
   "metadata": {
    "pycharm": {
     "name": "#%%\n"
    }
   },
   "outputs": [],
   "source": [
    "data = data.rename(columns = {'fnlwgt': 'final_weight', 'class': 'diabetes_presence'}, inplace = False)"
   ]
  },
  {
   "cell_type": "markdown",
   "metadata": {
    "pycharm": {
     "name": "#%% md\n"
    }
   },
   "source": [
    "### Úprava chybných atribútov\n",
    "\n",
    "V tejto časti opravíme chyby, ktoré sme idetifikovali v predchádzajúcej časti projektu, prípadne aj novo-objavené chyby,\n",
    "ak na ne narazíme.\n",
    "\n",
    "\n",
    "V doleuvedenej tabuľke vidíme chybu v atribúte age. Minimálny vek má hodnotu -1, čo je samozrejme nesprávne. Môžeme to\n",
    "vyriešiť, tak, že vyrátame nový vek pacienta, keďže máme aj atribút date_of_birth. Toto funguje len za predpokladu, že\n",
    "date_of_birth nemá nulovú hodnotu a bol zadaný správne. Iným riešením by mohlo byť nahradenie záporného veku\n",
    "priemerným, alebo najčastejšie sa vyskytujúcim vekom všetkých pacientov."
   ]
  },
  {
   "cell_type": "code",
   "execution_count": 177,
   "metadata": {
    "pycharm": {
     "name": "#%%\n"
    }
   },
   "outputs": [
    {
     "data": {
      "text/plain": [
       "count    3983.000000\n",
       "mean       51.844841\n",
       "std        11.797919\n",
       "min        -1.000000\n",
       "25%        44.000000\n",
       "50%        52.000000\n",
       "75%        60.000000\n",
       "max       113.000000\n",
       "Name: age, dtype: float64"
      ]
     },
     "execution_count": 177,
     "metadata": {},
     "output_type": "execute_result"
    }
   ],
   "source": [
    "data[\"age\"].describe()"
   ]
  },
  {
   "cell_type": "markdown",
   "metadata": {
    "pycharm": {
     "name": "#%% md\n"
    }
   },
   "source": [
    "Každý pacient má zadaný vek a dátum narodenia, čiže môžeme vytvoriť funkciu, ktorá vyráta nový vek podľa dátumu."
   ]
  },
  {
   "cell_type": "code",
   "execution_count": 178,
   "metadata": {
    "pycharm": {
     "name": "#%%\n"
    }
   },
   "outputs": [
    {
     "name": "stdout",
     "output_type": "stream",
     "text": [
      "0\n",
      "0\n"
     ]
    }
   ],
   "source": [
    "print(sum(data[\"age\"].isnull()))\n",
    "print(sum(data[\"date_of_birth\"].isnull()))"
   ]
  },
  {
   "cell_type": "code",
   "execution_count": 179,
   "metadata": {
    "pycharm": {
     "name": "#%%\n"
    }
   },
   "outputs": [
    {
     "data": {
      "text/plain": [
       "0              1955-08-04\n",
       "1              1974-05-17\n",
       "2              1977-01-13\n",
       "3              28/12/1957\n",
       "4              1962-07-07\n",
       "5              1957-03-16\n",
       "6              1943/07/04\n",
       "7              1984-05-13\n",
       "8              1971-05-10\n",
       "9              1986-11-13\n",
       "10             1978-11-10\n",
       "11             1967/07/20\n",
       "12    1959-01-25 00:00:00\n",
       "13             1959-12-05\n",
       "14             1968-10-05\n",
       "15             1957-06-28\n",
       "16             1977-04-02\n",
       "17             1968-05-22\n",
       "18             1968-05-22\n",
       "19             1960-12-25\n",
       "20             30/08/1986\n",
       "21             1941-07-25\n",
       "22    1960-05-01 00 00 00\n",
       "23             1959-01-25\n",
       "24             1972-10-31\n",
       "25             1951-06-17\n",
       "26             1960-11-22\n",
       "27             1960-09-18\n",
       "28             1970-04-06\n",
       "29    1974-09-28 00:00:00\n",
       "30               77-04-12\n",
       "31    1950-06-21 00 00 00\n",
       "32             1955-04-05\n",
       "33             1955-04-05\n",
       "34               66-10-30\n",
       "35             17/08/1964\n",
       "36             1951-08-18\n",
       "37             1979-11-29\n",
       "38             09/03/1972\n",
       "39             1953-01-20\n",
       "Name: date_of_birth, dtype: object"
      ]
     },
     "execution_count": 179,
     "metadata": {},
     "output_type": "execute_result"
    }
   ],
   "source": [
    "data[\"date_of_birth\"].head(40)"
   ]
  },
  {
   "cell_type": "markdown",
   "metadata": {
    "pycharm": {
     "name": "#%% md\n"
    }
   },
   "source": [
    "Ako môžeme vidieť, dátum nemá jednotný formát, čiže bude nutné vytvoriť funkciu, ktorá tento problém odstráni. Vyzerá,\n",
    "že najpoužívanejší typ formátovania je YYYY-MM-DD, čiže všetky dátumy naň prehodíme."
   ]
  },
  {
   "cell_type": "code",
   "execution_count": 180,
   "metadata": {
    "pycharm": {
     "name": "#%%\n"
    }
   },
   "outputs": [],
   "source": [
    "def unify_date_format(date):\n",
    "\n",
    "    date = str(date).replace(\"/\", \"-\")\n",
    "    date = date[:10]\n",
    "    date = date.split(\"-\")\n",
    "\n",
    "    # if date format DD-MM-YYYY\n",
    "    if len(date[2]) == 4:\n",
    "        date = date[2] + \"-\" + date[1] + \"-\" + date[0]\n",
    "        return date\n",
    "\n",
    "    # if date format YY-MM-DD\n",
    "    elif len(date[0]) == 2 and len(date[2]) == 2:\n",
    "        date = \"19\" + date[0] + \"-\" + date[1] + \"-\" + date[2]\n",
    "        return date\n",
    "\n",
    "    date = \"-\".join(date)\n",
    "    return date"
   ]
  },
  {
   "cell_type": "code",
   "execution_count": 181,
   "metadata": {
    "pycharm": {
     "name": "#%%\n"
    }
   },
   "outputs": [
    {
     "data": {
      "text/plain": [
       "0     1955-08-04\n",
       "1     1974-05-17\n",
       "2     1977-01-13\n",
       "3     1957-12-28\n",
       "4     1962-07-07\n",
       "5     1957-03-16\n",
       "6     1943-07-04\n",
       "7     1984-05-13\n",
       "8     1971-05-10\n",
       "9     1986-11-13\n",
       "10    1978-11-10\n",
       "11    1967-07-20\n",
       "12    1959-01-25\n",
       "13    1959-12-05\n",
       "14    1968-10-05\n",
       "15    1957-06-28\n",
       "16    1977-04-02\n",
       "17    1968-05-22\n",
       "18    1968-05-22\n",
       "19    1960-12-25\n",
       "20    1986-08-30\n",
       "21    1941-07-25\n",
       "22    1960-05-01\n",
       "23    1959-01-25\n",
       "24    1972-10-31\n",
       "Name: date_of_birth, dtype: object"
      ]
     },
     "execution_count": 181,
     "metadata": {},
     "output_type": "execute_result"
    }
   ],
   "source": [
    "data[\"date_of_birth\"] = data[\"date_of_birth\"].map(unify_date_format)\n",
    "data[\"date_of_birth\"].head(25)"
   ]
  },
  {
   "cell_type": "markdown",
   "metadata": {
    "pycharm": {
     "name": "#%% md\n"
    }
   },
   "source": [
    "Dole môžeme vidieť, že záporný vek vznikol kvôli nesprávnej hodnote dátumu. Na jeho miesto môžeme teda dosadiť\n",
    "medián veku pacientov s kladným vekom. Týmto odstránime problém záporných hodnôt pri veku."
   ]
  },
  {
   "cell_type": "code",
   "execution_count": 182,
   "metadata": {
    "pycharm": {
     "name": "#%%\n"
    }
   },
   "outputs": [
    {
     "data": {
      "text/plain": [
       "3349    2020-04-22\n",
       "Name: date_of_birth, dtype: object"
      ]
     },
     "execution_count": 182,
     "metadata": {},
     "output_type": "execute_result"
    }
   ],
   "source": [
    "data.loc[(data[\"age\"] < 0)].date_of_birth"
   ]
  },
  {
   "cell_type": "code",
   "execution_count": 183,
   "metadata": {
    "pycharm": {
     "name": "#%%\n"
    }
   },
   "outputs": [],
   "source": [
    "age_median = data[(data[\"age\"] > 0)].age.median()\n",
    "data.loc[(data[\"age\"] < 0), \"age\"] = int(age_median)"
   ]
  },
  {
   "cell_type": "code",
   "execution_count": 184,
   "metadata": {
    "pycharm": {
     "name": "#%%\n"
    }
   },
   "outputs": [
    {
     "data": {
      "text/plain": [
       "count    3983.000000\n",
       "mean       51.858147\n",
       "std        11.768153\n",
       "min         3.000000\n",
       "25%        44.500000\n",
       "50%        52.000000\n",
       "75%        60.000000\n",
       "max       113.000000\n",
       "Name: age, dtype: float64"
      ]
     },
     "execution_count": 184,
     "metadata": {},
     "output_type": "execute_result"
    }
   ],
   "source": [
    "data[\"age\"].describe()"
   ]
  },
  {
   "cell_type": "markdown",
   "metadata": {
    "pycharm": {
     "name": "#%% md\n"
    }
   },
   "source": [
    "Čo sa týka atribútu sex, obsahuje len dve hodnoty, ktoré môžeme reprezentovať aj číselne. Je to nutné, keďže v ďalšej\n",
    "fáze budeme robiť s algoritmami pracujúcimi len s numerickými dátami. Pohlavia budeme reprezentovať nasledovne:\n",
    "- Male = 1\n",
    "- Female = 0"
   ]
  },
  {
   "cell_type": "code",
   "execution_count": 208,
   "metadata": {
    "pycharm": {
     "name": "#%%\n"
    }
   },
   "outputs": [
    {
     "data": {
      "text/plain": [
       "array([' Female', ' Male'], dtype=object)"
      ]
     },
     "execution_count": 208,
     "metadata": {},
     "output_type": "execute_result"
    }
   ],
   "source": [
    "data[\"sex\"].unique()"
   ]
  },
  {
   "cell_type": "code",
   "execution_count": 236,
   "metadata": {
    "pycharm": {
     "name": "#%%\n"
    }
   },
   "outputs": [],
   "source": [
    "def fix_sex_value(sex):\n",
    "    if sex.strip() == \"Male\":\n",
    "        return 1\n",
    "    else:\n",
    "        return 0"
   ]
  },
  {
   "cell_type": "code",
   "execution_count": 237,
   "metadata": {
    "pycharm": {
     "name": "#%%\n"
    }
   },
   "outputs": [
    {
     "data": {
      "text/plain": [
       "array([0, 1], dtype=int64)"
      ]
     },
     "execution_count": 237,
     "metadata": {},
     "output_type": "execute_result"
    }
   ],
   "source": [
    "data[\"sex\"] = data[\"sex\"].map(fix_sex_value)\n",
    "data[\"sex\"].unique()"
   ]
  },
  {
   "cell_type": "markdown",
   "metadata": {
    "pycharm": {
     "name": "#%% md\n"
    }
   },
   "source": [
    "V minulej časti projektu sme ukázali, že atribút pregnant nadobúda priveľa hodnôt, ktoré symbolizujú ten istý stav.\n",
    "Preto ich, rovnako ako pohlavie, nahradíme číslami 1 a 0."
   ]
  },
  {
   "cell_type": "code",
   "execution_count": 209,
   "metadata": {
    "pycharm": {
     "name": "#%%\n"
    }
   },
   "outputs": [
    {
     "name": "stdout",
     "output_type": "stream",
     "text": [
      "['f' 'FALSE' 'T' 'F' 'TRUE' 't' nan]\n",
      "12\n"
     ]
    }
   ],
   "source": [
    "print(data[\"pregnant\"].unique())\n",
    "print(sum(data[\"pregnant\"].isnull()))"
   ]
  },
  {
   "cell_type": "code",
   "execution_count": 271,
   "metadata": {
    "pycharm": {
     "name": "#%%\n"
    }
   },
   "outputs": [],
   "source": [
    "def unify_pregnancy_values(value):\n",
    "\n",
    "    try:\n",
    "        if value.strip() in ['t','T','TRUE']:\n",
    "            return 1\n",
    "        elif value.strip() in ['f','F','FALSE']:\n",
    "            return 0\n",
    "        else:\n",
    "            return np.nan\n",
    "        \n",
    "    except AttributeError:\n",
    "        return np.nan"
   ]
  },
  {
   "cell_type": "code",
   "execution_count": 272,
   "metadata": {
    "pycharm": {
     "name": "#%%\n"
    }
   },
   "outputs": [
    {
     "name": "stdout",
     "output_type": "stream",
     "text": [
      "[nan]\n",
      "3983\n"
     ]
    }
   ],
   "source": [
    "data[\"pregnant\"] = data[\"pregnant\"].map(unify_pregnancy_values)\n",
    "print(data[\"pregnant\"].unique())\n",
    "print(sum(data[\"pregnant\"].isnull()))"
   ]
  },
  {
   "cell_type": "markdown",
   "metadata": {
    "pycharm": {
     "name": "#%% md\n"
    }
   },
   "source": [
    "Atribút pregnant nastavíme na 0 u všetkých mužov, je možné, že tým odstránime niektoré nulové hodnoty, alebo opravíme\n",
    "prípadné chyby."
   ]
  },
  {
   "cell_type": "code",
   "execution_count": 279,
   "metadata": {
    "pycharm": {
     "name": "#%%\n"
    }
   },
   "outputs": [],
   "source": [
    "def fix_male_pregnancy(data):\n",
    "    data.loc[(data.sex == 1), \"pregnant\"] = 0\n",
    "    return data"
   ]
  },
  {
   "cell_type": "code",
   "execution_count": 280,
   "metadata": {
    "pycharm": {
     "name": "#%%\n"
    }
   },
   "outputs": [
    {
     "name": "stdout",
     "output_type": "stream",
     "text": [
      "12\n"
     ]
    }
   ],
   "source": [
    "data = fix_male_pregnancy(data)\n",
    "print(sum(data[\"pregnant\"].isnull()))"
   ]
  },
  {
   "cell_type": "markdown",
   "metadata": {
    "pycharm": {
     "name": "#%% md\n"
    }
   },
   "source": [
    "Počet prázdnych hodnôt ostal rovnaký, no tým sa budeme venovať nižšie, kde vyriešime problémy s prázdnymi hodnotami\n",
    "všetkých atribútov."
   ]
  },
  {
   "cell_type": "markdown",
   "metadata": {
    "pycharm": {
     "name": "#%% md\n"
    }
   },
   "source": [
    "### Odstraňovanie duplicitných záznamov\n",
    "\n",
    "Nakoniec sme sa rozhodli, že duplicitné záznamy určíme pomocou mena a adresy. Tie následne môžeme odstrániť.\n",
    "Pre každý záznam v súbore personal_train môžeme priradiť záznam zo súboru other_train, teda celkový výsledný\n",
    "dataset má mať počet záznamov menšieho z oboch súborov."
   ]
  },
  {
   "cell_type": "code",
   "execution_count": 281,
   "metadata": {
    "pycharm": {
     "name": "#%%\n"
    }
   },
   "outputs": [
    {
     "name": "stdout",
     "output_type": "stream",
     "text": [
      "Number of rows in personal_train.csv  3933\n",
      "Number of rows in other_train.csv  3983\n",
      "Number of rows combined:  3983\n",
      "Number of duplicates:  50\n"
     ]
    }
   ],
   "source": [
    "print(\"Number of rows in personal_train.csv \", len(personal_data))\n",
    "print(\"Number of rows in other_train.csv \", len(medical_data))\n",
    "print(\"Number of rows combined: \", len(data))\n",
    "print(\"Number of duplicates: \", len(data[data.duplicated([\"name\", \"address\"])]))"
   ]
  },
  {
   "cell_type": "code",
   "execution_count": 282,
   "metadata": {
    "pycharm": {
     "name": "#%%\n"
    }
   },
   "outputs": [
    {
     "name": "stdout",
     "output_type": "stream",
     "text": [
      "Number of rows combined:  3933\n",
      "Number of duplicates:  0\n"
     ]
    }
   ],
   "source": [
    "data = data.drop_duplicates([\"name\", \"address\"])\n",
    "print(\"Number of rows combined: \", len(data))\n",
    "print(\"Number of duplicates: \", len(data[data.duplicated([\"name\", \"address\"])]))"
   ]
  },
  {
   "cell_type": "code",
   "execution_count": null,
   "outputs": [],
   "source": [],
   "metadata": {
    "collapsed": false,
    "pycharm": {
     "name": "#%%\n"
    }
   }
  },
  {
   "cell_type": "code",
   "execution_count": null,
   "metadata": {},
   "outputs": [],
   "source": []
  },
  {
   "cell_type": "code",
   "execution_count": null,
   "metadata": {},
   "outputs": [],
   "source": []
  },
  {
   "cell_type": "code",
   "execution_count": null,
   "metadata": {},
   "outputs": [],
   "source": []
  }
 ],
 "metadata": {
  "kernelspec": {
   "display_name": "Python 3",
   "language": "python",
   "name": "python3"
  },
  "language_info": {
   "codemirror_mode": {
    "name": "ipython",
    "version": 3
   },
   "file_extension": ".py",
   "mimetype": "text/x-python",
   "name": "python",
   "nbconvert_exporter": "python",
   "pygments_lexer": "ipython3",
   "version": "3.7.0"
  }
 },
 "nbformat": 4,
 "nbformat_minor": 1
}